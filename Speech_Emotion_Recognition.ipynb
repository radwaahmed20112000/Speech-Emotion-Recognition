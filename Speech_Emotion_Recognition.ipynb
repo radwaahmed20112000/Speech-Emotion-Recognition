{
  "cells": [
    {
      "cell_type": "markdown",
      "metadata": {
        "id": "view-in-github",
        "colab_type": "text"
      },
      "source": [
        "<a href=\"https://colab.research.google.com/github/radwaahmed20112000/Speech-Emotion-Recognition-/blob/main/Speech_Emotion_Recognition.ipynb\" target=\"_parent\"><img src=\"https://colab.research.google.com/assets/colab-badge.svg\" alt=\"Open In Colab\"/></a>"
      ]
    },
    {
      "cell_type": "markdown",
      "metadata": {
        "id": "fqDHfcasCTyq"
      },
      "source": [
        "#**Load data**"
      ]
    },
    {
      "cell_type": "code",
      "execution_count": null,
      "metadata": {
        "id": "nRNe0zrcbUKK"
      },
      "outputs": [],
      "source": [
        "%matplotlib inline\n",
        "import librosa as librosa\n",
        "import numpy as np\n",
        "import pandas as pd\n",
        "import scipy \n",
        "import matplotlib.pyplot as plt\n",
        "from matplotlib.backends.backend_agg import FigureCanvasAgg as FigureCanvas\n",
        "import os\n",
        "import librosa.display\n",
        "from IPython.display import Audio\n",
        "from google.colab import drive"
      ]
    },
    {
      "cell_type": "markdown",
      "metadata": {
        "id": "i1010EEshOqx"
      },
      "source": [
        "Upload Data from Drive"
      ]
    },
    {
      "cell_type": "code",
      "execution_count": null,
      "metadata": {
        "colab": {
          "base_uri": "https://localhost:8080/"
        },
        "id": "obhzyvyRb1ar",
        "outputId": "cd2d08e4-58e4-43d2-fa93-7f9e7de1c540"
      },
      "outputs": [
        {
          "name": "stdout",
          "output_type": "stream",
          "text": [
            "Mounted at /content/drive\n"
          ]
        }
      ],
      "source": [
        "drive.mount('/content/drive')"
      ]
    },
    {
      "cell_type": "code",
      "execution_count": null,
      "metadata": {
        "id": "smVCTGQEcYy9"
      },
      "outputs": [],
      "source": [
        "import zipfile\n",
        "import io\n",
        "zf = zipfile.ZipFile('/content/drive/MyDrive/Crema.zip')\n",
        "zf.extractall('dataSet')"
      ]
    },
    {
      "cell_type": "code",
      "execution_count": null,
      "metadata": {
        "id": "TAQ6U0sugu53"
      },
      "outputs": [],
      "source": [
        "PATH = \"/content/dataSet/Crema/\""
      ]
    },
    {
      "cell_type": "markdown",
      "metadata": {
        "id": "_J6xpOR2CcwX"
      },
      "source": [
        "Create sample data frame of path and meta data"
      ]
    },
    {
      "cell_type": "code",
      "execution_count": null,
      "metadata": {
        "colab": {
          "base_uri": "https://localhost:8080/"
        },
        "id": "_DVg4EQhtr0R",
        "outputId": "f462a06a-c406-4ef6-e1a7-8a4aef9c66c1"
      },
      "outputs": [
        {
          "data": {
            "text/html": [
              "\n",
              "  <div id=\"df-d80b19bd-1b32-4897-a036-9129a9fd1bf9\">\n",
              "    <div class=\"colab-df-container\">\n",
              "      <div>\n",
              "<style scoped>\n",
              "    .dataframe tbody tr th:only-of-type {\n",
              "        vertical-align: middle;\n",
              "    }\n",
              "\n",
              "    .dataframe tbody tr th {\n",
              "        vertical-align: top;\n",
              "    }\n",
              "\n",
              "    .dataframe thead th {\n",
              "        text-align: right;\n",
              "    }\n",
              "</style>\n",
              "<table border=\"1\" class=\"dataframe\">\n",
              "  <thead>\n",
              "    <tr style=\"text-align: right;\">\n",
              "      <th></th>\n",
              "      <th>Path</th>\n",
              "      <th>Actor</th>\n",
              "      <th>Gender</th>\n",
              "      <th>Intensity</th>\n",
              "      <th>Statement</th>\n",
              "      <th>Emotion</th>\n",
              "    </tr>\n",
              "  </thead>\n",
              "  <tbody>\n",
              "    <tr>\n",
              "      <th>0</th>\n",
              "      <td>/content/dataSet/Crema/1082_IWL_FEA_XX.wav</td>\n",
              "      <td>1082</td>\n",
              "      <td>female</td>\n",
              "      <td>XX</td>\n",
              "      <td>IWL</td>\n",
              "      <td>FEA</td>\n",
              "    </tr>\n",
              "    <tr>\n",
              "      <th>1</th>\n",
              "      <td>/content/dataSet/Crema/1082_IWL_FEA_XX.wav</td>\n",
              "      <td>1082</td>\n",
              "      <td>female</td>\n",
              "      <td>XX</td>\n",
              "      <td>IWL</td>\n",
              "      <td>FEA</td>\n",
              "    </tr>\n",
              "    <tr>\n",
              "      <th>2</th>\n",
              "      <td>/content/dataSet/Crema/1062_TSI_HAP_XX.wav</td>\n",
              "      <td>1062</td>\n",
              "      <td>female</td>\n",
              "      <td>XX</td>\n",
              "      <td>TSI</td>\n",
              "      <td>HAP</td>\n",
              "    </tr>\n",
              "    <tr>\n",
              "      <th>3</th>\n",
              "      <td>/content/dataSet/Crema/1062_TSI_HAP_XX.wav</td>\n",
              "      <td>1062</td>\n",
              "      <td>female</td>\n",
              "      <td>XX</td>\n",
              "      <td>TSI</td>\n",
              "      <td>HAP</td>\n",
              "    </tr>\n",
              "    <tr>\n",
              "      <th>4</th>\n",
              "      <td>/content/dataSet/Crema/1013_IEO_FEA_MD.wav</td>\n",
              "      <td>1013</td>\n",
              "      <td>male</td>\n",
              "      <td>MD</td>\n",
              "      <td>IEO</td>\n",
              "      <td>FEA</td>\n",
              "    </tr>\n",
              "    <tr>\n",
              "      <th>...</th>\n",
              "      <td>...</td>\n",
              "      <td>...</td>\n",
              "      <td>...</td>\n",
              "      <td>...</td>\n",
              "      <td>...</td>\n",
              "      <td>...</td>\n",
              "    </tr>\n",
              "    <tr>\n",
              "      <th>14879</th>\n",
              "      <td>/content/dataSet/Crema/1016_TIE_ANG_XX.wav</td>\n",
              "      <td>1016</td>\n",
              "      <td>female</td>\n",
              "      <td>XX</td>\n",
              "      <td>TIE</td>\n",
              "      <td>ANG</td>\n",
              "    </tr>\n",
              "    <tr>\n",
              "      <th>14880</th>\n",
              "      <td>/content/dataSet/Crema/1070_IWL_FEA_XX.wav</td>\n",
              "      <td>1070</td>\n",
              "      <td>female</td>\n",
              "      <td>XX</td>\n",
              "      <td>IWL</td>\n",
              "      <td>FEA</td>\n",
              "    </tr>\n",
              "    <tr>\n",
              "      <th>14881</th>\n",
              "      <td>/content/dataSet/Crema/1070_IWL_FEA_XX.wav</td>\n",
              "      <td>1070</td>\n",
              "      <td>female</td>\n",
              "      <td>XX</td>\n",
              "      <td>IWL</td>\n",
              "      <td>FEA</td>\n",
              "    </tr>\n",
              "    <tr>\n",
              "      <th>14882</th>\n",
              "      <td>/content/dataSet/Crema/1043_IOM_DIS_XX.wav</td>\n",
              "      <td>1043</td>\n",
              "      <td>male</td>\n",
              "      <td>XX</td>\n",
              "      <td>IOM</td>\n",
              "      <td>DIS</td>\n",
              "    </tr>\n",
              "    <tr>\n",
              "      <th>14883</th>\n",
              "      <td>/content/dataSet/Crema/1043_IOM_DIS_XX.wav</td>\n",
              "      <td>1043</td>\n",
              "      <td>male</td>\n",
              "      <td>XX</td>\n",
              "      <td>IOM</td>\n",
              "      <td>DIS</td>\n",
              "    </tr>\n",
              "  </tbody>\n",
              "</table>\n",
              "<p>14884 rows × 6 columns</p>\n",
              "</div>\n",
              "      <button class=\"colab-df-convert\" onclick=\"convertToInteractive('df-d80b19bd-1b32-4897-a036-9129a9fd1bf9')\"\n",
              "              title=\"Convert this dataframe to an interactive table.\"\n",
              "              style=\"display:none;\">\n",
              "        \n",
              "  <svg xmlns=\"http://www.w3.org/2000/svg\" height=\"24px\"viewBox=\"0 0 24 24\"\n",
              "       width=\"24px\">\n",
              "    <path d=\"M0 0h24v24H0V0z\" fill=\"none\"/>\n",
              "    <path d=\"M18.56 5.44l.94 2.06.94-2.06 2.06-.94-2.06-.94-.94-2.06-.94 2.06-2.06.94zm-11 1L8.5 8.5l.94-2.06 2.06-.94-2.06-.94L8.5 2.5l-.94 2.06-2.06.94zm10 10l.94 2.06.94-2.06 2.06-.94-2.06-.94-.94-2.06-.94 2.06-2.06.94z\"/><path d=\"M17.41 7.96l-1.37-1.37c-.4-.4-.92-.59-1.43-.59-.52 0-1.04.2-1.43.59L10.3 9.45l-7.72 7.72c-.78.78-.78 2.05 0 2.83L4 21.41c.39.39.9.59 1.41.59.51 0 1.02-.2 1.41-.59l7.78-7.78 2.81-2.81c.8-.78.8-2.07 0-2.86zM5.41 20L4 18.59l7.72-7.72 1.47 1.35L5.41 20z\"/>\n",
              "  </svg>\n",
              "      </button>\n",
              "      \n",
              "  <style>\n",
              "    .colab-df-container {\n",
              "      display:flex;\n",
              "      flex-wrap:wrap;\n",
              "      gap: 12px;\n",
              "    }\n",
              "\n",
              "    .colab-df-convert {\n",
              "      background-color: #E8F0FE;\n",
              "      border: none;\n",
              "      border-radius: 50%;\n",
              "      cursor: pointer;\n",
              "      display: none;\n",
              "      fill: #1967D2;\n",
              "      height: 32px;\n",
              "      padding: 0 0 0 0;\n",
              "      width: 32px;\n",
              "    }\n",
              "\n",
              "    .colab-df-convert:hover {\n",
              "      background-color: #E2EBFA;\n",
              "      box-shadow: 0px 1px 2px rgba(60, 64, 67, 0.3), 0px 1px 3px 1px rgba(60, 64, 67, 0.15);\n",
              "      fill: #174EA6;\n",
              "    }\n",
              "\n",
              "    [theme=dark] .colab-df-convert {\n",
              "      background-color: #3B4455;\n",
              "      fill: #D2E3FC;\n",
              "    }\n",
              "\n",
              "    [theme=dark] .colab-df-convert:hover {\n",
              "      background-color: #434B5C;\n",
              "      box-shadow: 0px 1px 3px 1px rgba(0, 0, 0, 0.15);\n",
              "      filter: drop-shadow(0px 1px 2px rgba(0, 0, 0, 0.3));\n",
              "      fill: #FFFFFF;\n",
              "    }\n",
              "  </style>\n",
              "\n",
              "      <script>\n",
              "        const buttonEl =\n",
              "          document.querySelector('#df-d80b19bd-1b32-4897-a036-9129a9fd1bf9 button.colab-df-convert');\n",
              "        buttonEl.style.display =\n",
              "          google.colab.kernel.accessAllowed ? 'block' : 'none';\n",
              "\n",
              "        async function convertToInteractive(key) {\n",
              "          const element = document.querySelector('#df-d80b19bd-1b32-4897-a036-9129a9fd1bf9');\n",
              "          const dataTable =\n",
              "            await google.colab.kernel.invokeFunction('convertToInteractive',\n",
              "                                                     [key], {});\n",
              "          if (!dataTable) return;\n",
              "\n",
              "          const docLinkHtml = 'Like what you see? Visit the ' +\n",
              "            '<a target=\"_blank\" href=https://colab.research.google.com/notebooks/data_table.ipynb>data table notebook</a>'\n",
              "            + ' to learn more about interactive tables.';\n",
              "          element.innerHTML = '';\n",
              "          dataTable['output_type'] = 'display_data';\n",
              "          await google.colab.output.renderOutput(dataTable, element);\n",
              "          const docLink = document.createElement('div');\n",
              "          docLink.innerHTML = docLinkHtml;\n",
              "          element.appendChild(docLink);\n",
              "        }\n",
              "      </script>\n",
              "    </div>\n",
              "  </div>\n",
              "  "
            ],
            "text/plain": [
              "                                             Path Actor  Gender Intensity  \\\n",
              "0      /content/dataSet/Crema/1082_IWL_FEA_XX.wav  1082  female        XX   \n",
              "1      /content/dataSet/Crema/1082_IWL_FEA_XX.wav  1082  female        XX   \n",
              "2      /content/dataSet/Crema/1062_TSI_HAP_XX.wav  1062  female        XX   \n",
              "3      /content/dataSet/Crema/1062_TSI_HAP_XX.wav  1062  female        XX   \n",
              "4      /content/dataSet/Crema/1013_IEO_FEA_MD.wav  1013    male        MD   \n",
              "...                                           ...   ...     ...       ...   \n",
              "14879  /content/dataSet/Crema/1016_TIE_ANG_XX.wav  1016  female        XX   \n",
              "14880  /content/dataSet/Crema/1070_IWL_FEA_XX.wav  1070  female        XX   \n",
              "14881  /content/dataSet/Crema/1070_IWL_FEA_XX.wav  1070  female        XX   \n",
              "14882  /content/dataSet/Crema/1043_IOM_DIS_XX.wav  1043    male        XX   \n",
              "14883  /content/dataSet/Crema/1043_IOM_DIS_XX.wav  1043    male        XX   \n",
              "\n",
              "      Statement Emotion  \n",
              "0           IWL     FEA  \n",
              "1           IWL     FEA  \n",
              "2           TSI     HAP  \n",
              "3           TSI     HAP  \n",
              "4           IEO     FEA  \n",
              "...         ...     ...  \n",
              "14879       TIE     ANG  \n",
              "14880       IWL     FEA  \n",
              "14881       IWL     FEA  \n",
              "14882       IOM     DIS  \n",
              "14883       IOM     DIS  \n",
              "\n",
              "[14884 rows x 6 columns]"
            ]
          },
          "execution_count": 6,
          "metadata": {},
          "output_type": "execute_result"
        }
      ],
      "source": [
        "df = pd.DataFrame(columns = [\"Path\", \"Actor\", \"Gender\", \"Intensity\",\n",
        "                             \"Statement\", \"Emotion\"])\n",
        "i = 0\n",
        "\n",
        "for filename in os.listdir(PATH):\n",
        "  \n",
        "  filename_split = filename.split(\".\")[0].split(\"_\")\n",
        "  Path = PATH + filenamefit_transform\n",
        "\n",
        "  Actor = filename_split[0]\n",
        "  if int(filename_split[0]) % 2 == 0:\n",
        "    Gender = \"female\"\n",
        "  else:\n",
        "    Gender = \"male\"\n",
        "\n",
        "  Statement = filename_split[1]\n",
        "\n",
        "  Emotion = filename_split[2]\n",
        "  \n",
        "  Intensity = filename_split[3]\n",
        "\n",
        "  df.loc[i] = [Path, Actor, Gender, Intensity, Statement, Emotion]\n",
        "  i += 1\n",
        "  df.loc[i] = [Path, Actor, Gender, Intensity, Statement, Emotion]\n",
        "  i += 1\n",
        "df"
      ]
    },
    {
      "cell_type": "markdown",
      "metadata": {
        "id": "AAjFPHd3BNSh"
      },
      "source": [
        "# **1D Feature Spaces**"
      ]
    },
    {
      "cell_type": "markdown",
      "metadata": {
        "id": "w9XCKSvDhnVk"
      },
      "source": [
        "### Augmentation Functions\n"
      ]
    },
    {
      "cell_type": "code",
      "execution_count": null,
      "metadata": {
        "id": "LV9YvC2Pf7XI"
      },
      "outputs": [],
      "source": [
        "def add_white_noise(signal, noise_percentage_factor):\n",
        "    noise = np.random.normal(0, signal.std(), signal.size)\n",
        "    augmented_signal = signal + noise * noise_percentage_factor\n",
        "    return augmented_signal"
      ]
    },
    {
      "cell_type": "code",
      "execution_count": null,
      "metadata": {
        "id": "ZCtNrixMhnBP"
      },
      "outputs": [],
      "source": [
        "def time_stretch(signal, time_stretch_rate):\n",
        "    return librosa.effects.time_stretch(signal, time_stretch_rate)"
      ]
    },
    {
      "cell_type": "code",
      "execution_count": null,
      "metadata": {
        "id": "JGMYTn92h8uv"
      },
      "outputs": [],
      "source": [
        "def pitch_scale(signal, sr, num_semitones):\n",
        "    return librosa.effects.pitch_shift(signal, sr, num_semitones)"
      ]
    },
    {
      "cell_type": "markdown",
      "source": [
        "### Features Functions"
      ],
      "metadata": {
        "id": "crkAezv-ZqSw"
      }
    },
    {
      "cell_type": "code",
      "source": [
        "def get_zero_crossing_rate(samples, sampling_rate):\n",
        "  zcrs = librosa.feature.zero_crossing_rate(samples).flatten() \n",
        "  zcrs = librosa.feature.mfcc(y=zcrs, sr=sampling_rate,n_mfcc=100)\n",
        "  return zcrs.mean(axis = 1)"
      ],
      "metadata": {
        "id": "fvvTMGZgZutt"
      },
      "execution_count": null,
      "outputs": []
    },
    {
      "cell_type": "code",
      "source": [
        "def get_rms(samples, sampling_rate):    \n",
        "  rms = librosa.feature.rms(S=samples).flatten()\n",
        "  rms = librosa.feature.mfcc(y=rms, sr=sampling_rate,n_mfcc=100)\n",
        "  rms = rms.mean(axis = 1)"
      ],
      "metadata": {
        "id": "NMOIauO9aBf7"
      },
      "execution_count": null,
      "outputs": []
    },
    {
      "cell_type": "code",
      "source": [
        "def get_rms_mfcc(samples, sampling_rate):\n",
        "  s, phase = librosa.magphase(librosa.stft(samples))\n",
        "  rms = librosa.feature.rms(S=s).flatten()\n",
        "  times = librosa.feature.mfcc(y=rms, sr=sampling_rate, n_mfcc=200).mean(axis = 1)\n",
        "  return times"
      ],
      "metadata": {
        "id": "u2M14Ar4cbXG"
      },
      "execution_count": null,
      "outputs": []
    },
    {
      "cell_type": "code",
      "source": [
        "def gender_concatanation(data_1d_aug):\n",
        "  data_1d_aug = pd.DataFrame(data_1d_aug)\n",
        "  data_1d_aug['gender'] = df[\"Gender\"].map(dict(male=1, female=0))\n",
        "  data_1d_aug[\"labels\"] = df[\"Emotion\"]\n",
        "  return data_1d_aug.values.tolist()"
      ],
      "metadata": {
        "id": "8PGLpOLaba8S"
      },
      "execution_count": null,
      "outputs": []
    },
    {
      "cell_type": "markdown",
      "metadata": {
        "id": "ziC892COnZez"
      },
      "source": [
        "### 1-Samples with mfcc only"
      ]
    },
    {
      "cell_type": "code",
      "execution_count": null,
      "metadata": {
        "id": "98v7g8uZ0PMH"
      },
      "outputs": [],
      "source": [
        "data_1d = []\n",
        "\n",
        "for path in df[\"Path\"]:\n",
        "    samples, sampling_rate = librosa.load(path, sr = None, mono = True, offset = 0.0)\n",
        "    samples = librosa.feature.mfcc(y=samples, sr=sampling_rate, n_mfcc=200)\n",
        "    samples = samples.mean(axis = 1)\n",
        "    data_1d.append(samples)\n",
        "\n",
        "data_1d = pd.DataFrame(data_1d)\n",
        "data_1d[\"labels\"] = df[\"Emotion\"]\n",
        "data_1d"
      ]
    },
    {
      "cell_type": "markdown",
      "metadata": {
        "id": "rzYq_GcxnnZJ"
      },
      "source": [
        "### 2- Zcrs with fillna only"
      ]
    },
    {
      "cell_type": "code",
      "execution_count": null,
      "metadata": {
        "id": "sdm3wOYeapPB"
      },
      "outputs": [],
      "source": [
        "data_1d = []\n",
        "\n",
        "for path in df[\"Path\"]:\n",
        "    samples , sampling_rate = librosa.load(path, sr = None, mono = True, offset = 0.0)\n",
        "    zcrs = librosa.feature.zero_crossing_rate(samples).flatten()\n",
        " \n",
        "    data_1d.append(zcrs)\n",
        "\n",
        "data_1d = pd.DataFrame(data_1d)\n",
        "data_1d.fillna(data_1d.mean(axis=1),axis=0, inplace=True)\n",
        "data_1d[\"labels\"] = df[\"Emotion\"]\n",
        "data_1d"
      ]
    },
    {
      "cell_type": "markdown",
      "metadata": {
        "id": "M6LUZ4iunvvO"
      },
      "source": [
        "### 3- Rms with fillna only"
      ]
    },
    {
      "cell_type": "code",
      "execution_count": null,
      "metadata": {
        "id": "Sw23xEmIZd8P"
      },
      "outputs": [],
      "source": [
        "data_1d=[]\n",
        "for path in df[\"Path\"]:\n",
        "    samples , sampling_rate = librosa.load(path, sr = None, mono = True, offset = 0.0)\n",
        "  \n",
        "    S, phase = librosa.magphase(librosa.stft(samples))\n",
        "    rms = librosa.feature.rms(S=S)\n",
        "    times = librosa.times_like(rms)\n",
        "    data_1d.append(times)\n",
        "\n",
        "data_1d = pd.DataFrame(data_1d)\n",
        "data_1d.fillna(data_1d.mean(axis=1),axis=0, inplace=True)\n",
        "data_1d[\"labels\"] = df[\"Emotion\"]\n",
        "data_1d"
      ]
    },
    {
      "cell_type": "markdown",
      "metadata": {
        "id": "n8RighvNn1fR"
      },
      "source": [
        "### 4- Zrfc + Rms with fillna"
      ]
    },
    {
      "cell_type": "code",
      "execution_count": null,
      "metadata": {
        "id": "Hdb5-MJZn8c0"
      },
      "outputs": [],
      "source": [
        "data_zcr_1d = []\n",
        "data_rms_1d=[]\n",
        "for path in df[\"Path\"]:\n",
        "    samples , sampling_rate = librosa.load(path, sr = None, mono = True, offset = 0.0)\n",
        "    zcrs = librosa.feature.zero_crossing_rate(samples).flatten() \n",
        "    data_zcr_1d.append(zcrs)\n",
        "\n",
        "    S, phase = librosa.magphase(librosa.stft(samples))\n",
        "    rms = librosa.feature.rms(S=S)\n",
        "    times = librosa.times_like(rms)\n",
        "    data_rms_1d.append(times)\n",
        "\n",
        "data_zcr_1d = pd.DataFrame(data_zcr_1d)\n",
        "data_zcr_1d.fillna(data_zcr_1d.mean(axis=1),axis=0, inplace=True)\n",
        "\n",
        "data_rms_1d = pd.DataFrame(data_rms_1d)\n",
        "data_rms_1d.fillna(data_rms_1d.mean(axis=1),axis=0, inplace=True)\n",
        "\n",
        "data_1d = pd.concat([data_zcr_1d, data_rms_1d] , axis=1, join='inner')\n",
        "data_1d[\"labels\"] = df[\"Emotion\"]\n",
        "\n",
        "data_1d"
      ]
    },
    {
      "cell_type": "markdown",
      "metadata": {
        "id": "KX9WUj4dobJL"
      },
      "source": [
        "### 5- Sample with mfcc 50 + Zcr + Rms with fillna"
      ]
    },
    {
      "cell_type": "code",
      "execution_count": null,
      "metadata": {
        "id": "K8iI5LnTqxxp"
      },
      "outputs": [],
      "source": [
        "data_sample_1d = []\n",
        "data_zcr_1d = []\n",
        "data_rms_1d=[]\n",
        "for path in df[\"Path\"]:\n",
        "    samples , sampling_rate = librosa.load(path, sr = None, mono = True, offset = 0.0)\n",
        "    zcrs = librosa.feature.zero_crossing_rate(samples).flatten() \n",
        "    data_zcr_1d.append(zcrs)\n",
        "\n",
        "    S, phase = librosa.magphase(librosa.stft(samples))\n",
        "    rms = librosa.feature.rms(S=S)\n",
        "    times = librosa.times_like(rms)\n",
        "    data_rms_1d.append(times)\n",
        "\n",
        "    samples = librosa.feature.mfcc(y=samples, sr=sampling_rate,n_mfcc=50)\n",
        "    samples = samples.mean(axis = 1)\n",
        "    data_sample_1d.append(samples)\n",
        "   \n",
        "\n",
        "data_zcr_1d = pd.DataFrame(data_zcr_1d)\n",
        "data_zcr_1d.fillna(data_zcr_1d.mean(axis=1),axis=0, inplace=True)\n",
        "\n",
        "data_sample_1d = pd.DataFrame(data_sample_1d)\n",
        "\n",
        "data_rms_1d = pd.DataFrame(data_rms_1d)\n",
        "data_rms_1d.fillna(data_rms_1d.mean(axis=1),axis=0, inplace=True)\n",
        "\n",
        "data_1d = pd.concat([data_sample_1d, data_zcr_1d,data_rms_1d] , axis=1, join='inner')\n",
        "data_1d[\"labels\"] = df[\"Emotion\"]\n",
        "data_1d\n"
      ]
    },
    {
      "cell_type": "markdown",
      "metadata": {
        "id": "rt8z3hy6zdS3"
      },
      "source": [
        "### 6- Mfcc + Gender Features"
      ]
    },
    {
      "cell_type": "code",
      "execution_count": null,
      "metadata": {
        "colab": {
          "base_uri": "https://localhost:8080/",
          "height": 415
        },
        "id": "XbDCL-tASRJu",
        "outputId": "468ff7a6-41da-4a7e-8044-ce582c920b1c"
      },
      "outputs": [
        {
          "ename": "KeyboardInterrupt",
          "evalue": "ignored",
          "output_type": "error",
          "traceback": [
            "\u001b[0;31m---------------------------------------------------------------------------\u001b[0m",
            "\u001b[0;31mKeyboardInterrupt\u001b[0m                         Traceback (most recent call last)",
            "\u001b[0;32m<ipython-input-29-f5e10cd52819>\u001b[0m in \u001b[0;36m<module>\u001b[0;34m()\u001b[0m\n\u001b[1;32m      5\u001b[0m   \u001b[0mpath\u001b[0m \u001b[0;34m=\u001b[0m \u001b[0mdata\u001b[0m\u001b[0;34m[\u001b[0m\u001b[0;34m'Path'\u001b[0m\u001b[0;34m]\u001b[0m\u001b[0;34m\u001b[0m\u001b[0;34m\u001b[0m\u001b[0m\n\u001b[1;32m      6\u001b[0m   \u001b[0msamples\u001b[0m \u001b[0;34m,\u001b[0m \u001b[0msampling_rate\u001b[0m \u001b[0;34m=\u001b[0m \u001b[0mlibrosa\u001b[0m\u001b[0;34m.\u001b[0m\u001b[0mload\u001b[0m\u001b[0;34m(\u001b[0m\u001b[0mpath\u001b[0m\u001b[0;34m,\u001b[0m \u001b[0msr\u001b[0m \u001b[0;34m=\u001b[0m \u001b[0;32mNone\u001b[0m\u001b[0;34m,\u001b[0m \u001b[0mmono\u001b[0m \u001b[0;34m=\u001b[0m \u001b[0;32mTrue\u001b[0m\u001b[0;34m,\u001b[0m \u001b[0moffset\u001b[0m \u001b[0;34m=\u001b[0m \u001b[0;36m0.0\u001b[0m\u001b[0;34m)\u001b[0m\u001b[0;34m\u001b[0m\u001b[0;34m\u001b[0m\u001b[0m\n\u001b[0;32m----> 7\u001b[0;31m   \u001b[0msamples\u001b[0m \u001b[0;34m=\u001b[0m \u001b[0mlibrosa\u001b[0m\u001b[0;34m.\u001b[0m\u001b[0mfeature\u001b[0m\u001b[0;34m.\u001b[0m\u001b[0mmfcc\u001b[0m\u001b[0;34m(\u001b[0m\u001b[0my\u001b[0m\u001b[0;34m=\u001b[0m\u001b[0msamples\u001b[0m\u001b[0;34m,\u001b[0m \u001b[0msr\u001b[0m\u001b[0;34m=\u001b[0m\u001b[0msampling_rate\u001b[0m\u001b[0;34m,\u001b[0m \u001b[0mn_mfcc\u001b[0m\u001b[0;34m=\u001b[0m\u001b[0;36m200\u001b[0m\u001b[0;34m)\u001b[0m\u001b[0;34m\u001b[0m\u001b[0;34m\u001b[0m\u001b[0m\n\u001b[0m\u001b[1;32m      8\u001b[0m   \u001b[0msamples\u001b[0m \u001b[0;34m=\u001b[0m \u001b[0msamples\u001b[0m\u001b[0;34m.\u001b[0m\u001b[0mmean\u001b[0m\u001b[0;34m(\u001b[0m\u001b[0maxis\u001b[0m \u001b[0;34m=\u001b[0m \u001b[0;36m1\u001b[0m\u001b[0;34m)\u001b[0m\u001b[0;34m\u001b[0m\u001b[0;34m\u001b[0m\u001b[0m\n\u001b[1;32m      9\u001b[0m \u001b[0;34m\u001b[0m\u001b[0m\n",
            "\u001b[0;32m/usr/local/lib/python3.7/dist-packages/librosa/feature/spectral.py\u001b[0m in \u001b[0;36mmfcc\u001b[0;34m(y, sr, S, n_mfcc, dct_type, norm, lifter, **kwargs)\u001b[0m\n\u001b[1;32m   1849\u001b[0m \u001b[0;34m\u001b[0m\u001b[0m\n\u001b[1;32m   1850\u001b[0m     \u001b[0;32mif\u001b[0m \u001b[0mS\u001b[0m \u001b[0;32mis\u001b[0m \u001b[0;32mNone\u001b[0m\u001b[0;34m:\u001b[0m\u001b[0;34m\u001b[0m\u001b[0;34m\u001b[0m\u001b[0m\n\u001b[0;32m-> 1851\u001b[0;31m         \u001b[0mS\u001b[0m \u001b[0;34m=\u001b[0m \u001b[0mpower_to_db\u001b[0m\u001b[0;34m(\u001b[0m\u001b[0mmelspectrogram\u001b[0m\u001b[0;34m(\u001b[0m\u001b[0my\u001b[0m\u001b[0;34m=\u001b[0m\u001b[0my\u001b[0m\u001b[0;34m,\u001b[0m \u001b[0msr\u001b[0m\u001b[0;34m=\u001b[0m\u001b[0msr\u001b[0m\u001b[0;34m,\u001b[0m \u001b[0;34m**\u001b[0m\u001b[0mkwargs\u001b[0m\u001b[0;34m)\u001b[0m\u001b[0;34m)\u001b[0m\u001b[0;34m\u001b[0m\u001b[0;34m\u001b[0m\u001b[0m\n\u001b[0m\u001b[1;32m   1852\u001b[0m \u001b[0;34m\u001b[0m\u001b[0m\n\u001b[1;32m   1853\u001b[0m     \u001b[0mM\u001b[0m \u001b[0;34m=\u001b[0m \u001b[0mscipy\u001b[0m\u001b[0;34m.\u001b[0m\u001b[0mfftpack\u001b[0m\u001b[0;34m.\u001b[0m\u001b[0mdct\u001b[0m\u001b[0;34m(\u001b[0m\u001b[0mS\u001b[0m\u001b[0;34m,\u001b[0m \u001b[0maxis\u001b[0m\u001b[0;34m=\u001b[0m\u001b[0;36m0\u001b[0m\u001b[0;34m,\u001b[0m \u001b[0mtype\u001b[0m\u001b[0;34m=\u001b[0m\u001b[0mdct_type\u001b[0m\u001b[0;34m,\u001b[0m \u001b[0mnorm\u001b[0m\u001b[0;34m=\u001b[0m\u001b[0mnorm\u001b[0m\u001b[0;34m)\u001b[0m\u001b[0;34m[\u001b[0m\u001b[0;34m:\u001b[0m\u001b[0mn_mfcc\u001b[0m\u001b[0;34m]\u001b[0m\u001b[0;34m\u001b[0m\u001b[0;34m\u001b[0m\u001b[0m\n",
            "\u001b[0;32m/usr/local/lib/python3.7/dist-packages/librosa/feature/spectral.py\u001b[0m in \u001b[0;36mmelspectrogram\u001b[0;34m(y, sr, S, n_fft, hop_length, win_length, window, center, pad_mode, power, **kwargs)\u001b[0m\n\u001b[1;32m   2002\u001b[0m         \u001b[0mwindow\u001b[0m\u001b[0;34m=\u001b[0m\u001b[0mwindow\u001b[0m\u001b[0;34m,\u001b[0m\u001b[0;34m\u001b[0m\u001b[0;34m\u001b[0m\u001b[0m\n\u001b[1;32m   2003\u001b[0m         \u001b[0mcenter\u001b[0m\u001b[0;34m=\u001b[0m\u001b[0mcenter\u001b[0m\u001b[0;34m,\u001b[0m\u001b[0;34m\u001b[0m\u001b[0;34m\u001b[0m\u001b[0m\n\u001b[0;32m-> 2004\u001b[0;31m         \u001b[0mpad_mode\u001b[0m\u001b[0;34m=\u001b[0m\u001b[0mpad_mode\u001b[0m\u001b[0;34m,\u001b[0m\u001b[0;34m\u001b[0m\u001b[0;34m\u001b[0m\u001b[0m\n\u001b[0m\u001b[1;32m   2005\u001b[0m     )\n\u001b[1;32m   2006\u001b[0m \u001b[0;34m\u001b[0m\u001b[0m\n",
            "\u001b[0;32m/usr/local/lib/python3.7/dist-packages/librosa/core/spectrum.py\u001b[0m in \u001b[0;36m_spectrogram\u001b[0;34m(y, S, n_fft, hop_length, power, win_length, window, center, pad_mode)\u001b[0m\n\u001b[1;32m   2517\u001b[0m                     \u001b[0mcenter\u001b[0m\u001b[0;34m=\u001b[0m\u001b[0mcenter\u001b[0m\u001b[0;34m,\u001b[0m\u001b[0;34m\u001b[0m\u001b[0;34m\u001b[0m\u001b[0m\n\u001b[1;32m   2518\u001b[0m                     \u001b[0mwindow\u001b[0m\u001b[0;34m=\u001b[0m\u001b[0mwindow\u001b[0m\u001b[0;34m,\u001b[0m\u001b[0;34m\u001b[0m\u001b[0;34m\u001b[0m\u001b[0m\n\u001b[0;32m-> 2519\u001b[0;31m                     \u001b[0mpad_mode\u001b[0m\u001b[0;34m=\u001b[0m\u001b[0mpad_mode\u001b[0m\u001b[0;34m,\u001b[0m\u001b[0;34m\u001b[0m\u001b[0;34m\u001b[0m\u001b[0m\n\u001b[0m\u001b[1;32m   2520\u001b[0m                 )\n\u001b[1;32m   2521\u001b[0m             )\n",
            "\u001b[0;32m/usr/local/lib/python3.7/dist-packages/librosa/core/spectrum.py\u001b[0m in \u001b[0;36mstft\u001b[0;34m(y, n_fft, hop_length, win_length, window, center, dtype, pad_mode)\u001b[0m\n\u001b[1;32m    256\u001b[0m \u001b[0;34m\u001b[0m\u001b[0m\n\u001b[1;32m    257\u001b[0m         stft_matrix[:, bl_s:bl_t] = fft.rfft(\n\u001b[0;32m--> 258\u001b[0;31m             \u001b[0mfft_window\u001b[0m \u001b[0;34m*\u001b[0m \u001b[0my_frames\u001b[0m\u001b[0;34m[\u001b[0m\u001b[0;34m:\u001b[0m\u001b[0;34m,\u001b[0m \u001b[0mbl_s\u001b[0m\u001b[0;34m:\u001b[0m\u001b[0mbl_t\u001b[0m\u001b[0;34m]\u001b[0m\u001b[0;34m,\u001b[0m \u001b[0maxis\u001b[0m\u001b[0;34m=\u001b[0m\u001b[0;36m0\u001b[0m\u001b[0;34m\u001b[0m\u001b[0;34m\u001b[0m\u001b[0m\n\u001b[0m\u001b[1;32m    259\u001b[0m         )\n\u001b[1;32m    260\u001b[0m     \u001b[0;32mreturn\u001b[0m \u001b[0mstft_matrix\u001b[0m\u001b[0;34m\u001b[0m\u001b[0;34m\u001b[0m\u001b[0m\n",
            "\u001b[0;32m<__array_function__ internals>\u001b[0m in \u001b[0;36mrfft\u001b[0;34m(*args, **kwargs)\u001b[0m\n",
            "\u001b[0;32m/usr/local/lib/python3.7/dist-packages/numpy/fft/_pocketfft.py\u001b[0m in \u001b[0;36mrfft\u001b[0;34m(a, n, axis, norm)\u001b[0m\n\u001b[1;32m    407\u001b[0m         \u001b[0mn\u001b[0m \u001b[0;34m=\u001b[0m \u001b[0ma\u001b[0m\u001b[0;34m.\u001b[0m\u001b[0mshape\u001b[0m\u001b[0;34m[\u001b[0m\u001b[0maxis\u001b[0m\u001b[0;34m]\u001b[0m\u001b[0;34m\u001b[0m\u001b[0;34m\u001b[0m\u001b[0m\n\u001b[1;32m    408\u001b[0m     \u001b[0minv_norm\u001b[0m \u001b[0;34m=\u001b[0m \u001b[0m_get_forward_norm\u001b[0m\u001b[0;34m(\u001b[0m\u001b[0mn\u001b[0m\u001b[0;34m,\u001b[0m \u001b[0mnorm\u001b[0m\u001b[0;34m)\u001b[0m\u001b[0;34m\u001b[0m\u001b[0;34m\u001b[0m\u001b[0m\n\u001b[0;32m--> 409\u001b[0;31m     \u001b[0moutput\u001b[0m \u001b[0;34m=\u001b[0m \u001b[0m_raw_fft\u001b[0m\u001b[0;34m(\u001b[0m\u001b[0ma\u001b[0m\u001b[0;34m,\u001b[0m \u001b[0mn\u001b[0m\u001b[0;34m,\u001b[0m \u001b[0maxis\u001b[0m\u001b[0;34m,\u001b[0m \u001b[0;32mTrue\u001b[0m\u001b[0;34m,\u001b[0m \u001b[0;32mTrue\u001b[0m\u001b[0;34m,\u001b[0m \u001b[0minv_norm\u001b[0m\u001b[0;34m)\u001b[0m\u001b[0;34m\u001b[0m\u001b[0;34m\u001b[0m\u001b[0m\n\u001b[0m\u001b[1;32m    410\u001b[0m     \u001b[0;32mreturn\u001b[0m \u001b[0moutput\u001b[0m\u001b[0;34m\u001b[0m\u001b[0;34m\u001b[0m\u001b[0m\n\u001b[1;32m    411\u001b[0m \u001b[0;34m\u001b[0m\u001b[0m\n",
            "\u001b[0;32m/usr/local/lib/python3.7/dist-packages/numpy/fft/_pocketfft.py\u001b[0m in \u001b[0;36m_raw_fft\u001b[0;34m(a, n, axis, is_real, is_forward, inv_norm)\u001b[0m\n\u001b[1;32m     71\u001b[0m     \u001b[0;32melse\u001b[0m\u001b[0;34m:\u001b[0m\u001b[0;34m\u001b[0m\u001b[0;34m\u001b[0m\u001b[0m\n\u001b[1;32m     72\u001b[0m         \u001b[0ma\u001b[0m \u001b[0;34m=\u001b[0m \u001b[0mswapaxes\u001b[0m\u001b[0;34m(\u001b[0m\u001b[0ma\u001b[0m\u001b[0;34m,\u001b[0m \u001b[0maxis\u001b[0m\u001b[0;34m,\u001b[0m \u001b[0;34m-\u001b[0m\u001b[0;36m1\u001b[0m\u001b[0;34m)\u001b[0m\u001b[0;34m\u001b[0m\u001b[0;34m\u001b[0m\u001b[0m\n\u001b[0;32m---> 73\u001b[0;31m         \u001b[0mr\u001b[0m \u001b[0;34m=\u001b[0m \u001b[0mpfi\u001b[0m\u001b[0;34m.\u001b[0m\u001b[0mexecute\u001b[0m\u001b[0;34m(\u001b[0m\u001b[0ma\u001b[0m\u001b[0;34m,\u001b[0m \u001b[0mis_real\u001b[0m\u001b[0;34m,\u001b[0m \u001b[0mis_forward\u001b[0m\u001b[0;34m,\u001b[0m \u001b[0mfct\u001b[0m\u001b[0;34m)\u001b[0m\u001b[0;34m\u001b[0m\u001b[0;34m\u001b[0m\u001b[0m\n\u001b[0m\u001b[1;32m     74\u001b[0m         \u001b[0mr\u001b[0m \u001b[0;34m=\u001b[0m \u001b[0mswapaxes\u001b[0m\u001b[0;34m(\u001b[0m\u001b[0mr\u001b[0m\u001b[0;34m,\u001b[0m \u001b[0maxis\u001b[0m\u001b[0;34m,\u001b[0m \u001b[0;34m-\u001b[0m\u001b[0;36m1\u001b[0m\u001b[0;34m)\u001b[0m\u001b[0;34m\u001b[0m\u001b[0;34m\u001b[0m\u001b[0m\n\u001b[1;32m     75\u001b[0m     \u001b[0;32mreturn\u001b[0m \u001b[0mr\u001b[0m\u001b[0;34m\u001b[0m\u001b[0;34m\u001b[0m\u001b[0m\n",
            "\u001b[0;31mKeyboardInterrupt\u001b[0m: "
          ]
        }
      ],
      "source": [
        "data_1d = []\n",
        "gender = []\n",
        "\n",
        "for index, data in df.iterrows():\n",
        "  path = data['Path']\n",
        "  samples , sampling_rate = librosa.load(path, sr = None, mono = True, offset = 0.0)\n",
        "  samples = librosa.feature.mfcc(y=samples, sr=sampling_rate, n_mfcc=200)\n",
        "  samples = samples.mean(axis = 1)\n",
        "  \n",
        "  data_1d.append(samples)\n",
        "\n",
        "  if data[\"Gender\"] == 'male':\n",
        "    gender.append(0)\n",
        "  else:\n",
        "    gender.append(1)\n",
        "\n",
        "data_1d = pd.DataFrame(data_1d)\n",
        "gender = pd.DataFrame(gender)\n",
        "data_1d = pd.concat([gender, data_1d] , axis=1, join='inner')\n",
        "data_1d[\"labels\"] = df[\"Emotion\"]\n",
        "\n",
        "#data_1d"
      ]
    },
    {
      "cell_type": "markdown",
      "metadata": {
        "id": "8NBol05DDU0z"
      },
      "source": [
        "### 7- Mfcc + Gender + White Noise Augmentation \n"
      ]
    },
    {
      "cell_type": "code",
      "execution_count": null,
      "metadata": {
        "id": "S2pI8-PGfJy-"
      },
      "outputs": [],
      "source": [
        "data_1d = []\n",
        "gender = []\n",
        "i = 0\n",
        "\n",
        "for index, data in df.iterrows():\n",
        "\n",
        "  path = data['Path']\n",
        "  samples, sampling_rate = librosa.load(path, sr = None, mono = True, offset = 0.0)\n",
        "  augmented_signal = add_white_noise(samples, 0.1)\n",
        "\n",
        "  samples = librosa.feature.mfcc(y=samples, sr=sampling_rate, n_mfcc=200).mean(axis = 1)\n",
        "  augmented_signal = librosa.feature.mfcc(y=augmented_signal, sr=sampling_rate, n_mfcc=200).mean(axis = 1)\n",
        "\n",
        "  data_1d.append(samples)\n",
        "  data_1d.append(augmented_signal)\n",
        "\n",
        "  if data[\"Gender\"] == 'male':\n",
        "    gender.append(0)\n",
        "    gender.append(0)\n",
        "  else:\n",
        "    gender.append(1)\n",
        "    gender.append(1)\n",
        "\n",
        "\n",
        "data_1d = pd.DataFrame(data_1d)\n",
        "gender = pd.DataFrame(gender)\n",
        "data_1d = pd.concat([gender, data_1d] , axis=1, join='inner')\n",
        "data_1d[\"labels\"] = df[\"Emotion\"]"
      ]
    },
    {
      "cell_type": "markdown",
      "metadata": {
        "id": "HKyLJU0Eg1S-"
      },
      "source": [
        "### 8- Mfcc + Gender + 3 layers of Augmentation"
      ]
    },
    {
      "cell_type": "code",
      "execution_count": null,
      "metadata": {
        "id": "U3aktip3g7Ws"
      },
      "outputs": [],
      "source": [
        "import tensorflow as tf\n",
        "%tensorflow_version 2.x\n",
        "data_1d_aug = []\n",
        "data_1d_samples = []\n",
        "data_1d_aug_1 = []\n",
        "data_1d_aug_2 = []\n",
        "\n",
        "for path in df[\"Path\"]:\n",
        "  \n",
        "    samples , sampling_rate = librosa.load(path, sr = None, mono = True, \n",
        "                                           offset = 0.0)\n",
        "    data_1d_samples.append(librosa.feature.mfcc(y=samples, sr=sampling_rate, \n",
        "                                                n_mfcc=200).mean(axis = 1)) \n",
        "\n",
        "    #Augumentation: White Noise\n",
        "    aug_samples = add_white_noise(samples, 0.1)\n",
        "    data_1d_aug.append(librosa.feature.mfcc(y=aug_samples, sr=sampling_rate, \n",
        "                                            n_mfcc=200).mean(axis = 1))\n",
        "\n",
        "    #Augumentation: Pitch Scale\n",
        "    aug_samples = pitch_scale(samples, sampling_rate, 2)\n",
        "    data_1d_aug_2.append(librosa.feature.mfcc(y=aug_samples, sr=sampling_rate, \n",
        "                                              n_mfcc=200).mean(axis = 1)) \n",
        "\n",
        "    #Augumentation: Time Stretch \n",
        "    aug_samples = librosa.effects.time_stretch(samples , .8)\n",
        "    data_1d_aug_1.append(librosa.feature.mfcc(y=aug_samples, sr=sampling_rate, \n",
        "                                              n_mfcc=200).mean(axis = 1)) \n",
        "\n",
        "data_1d_aug = gender_concatanation(data_1d_aug)\n",
        "\n",
        "data_1d_aug_1 = gender_concatanation(data_1d_aug_1)\n",
        "\n",
        "data_1d_samples = gender_concatanation(data_1d_samples)\n",
        "\n",
        "data_1d_aug_2 = gender_concatanation(data_1d_aug_2)\n",
        "\n",
        "data_1d = pd.DataFrame(data_1d_aug + data_1d_samples + data_1d_aug_1 \n",
        "                       + data_1d_aug_2)"
      ]
    },
    {
      "cell_type": "code",
      "execution_count": null,
      "metadata": {
        "id": "BWK_Q5E6PumH"
      },
      "outputs": [],
      "source": [
        "labels = data_1d.iloc[:,-1:]\n",
        "data_1d = data_1d.iloc[: , :-1]\n",
        "data_1d['labels'] = labels\n",
        "data_1d"
      ]
    },
    {
      "cell_type": "markdown",
      "metadata": {
        "id": "kgvnT_YesK8C"
      },
      "source": [
        "### 9- Mfcc + Gender + RMS + 3 layers of Augmentation"
      ]
    },
    {
      "cell_type": "code",
      "execution_count": null,
      "metadata": {
        "colab": {
          "background_save": true,
          "base_uri": "https://localhost:8080/"
        },
        "id": "lPmkPO8MsK8R",
        "outputId": "76fc084b-fbe4-4a55-f438-ea68248dfc3b"
      },
      "outputs": [
        {
          "name": "stderr",
          "output_type": "stream",
          "text": [
            "/usr/local/lib/python3.7/dist-packages/librosa/core/spectrum.py:224: UserWarning: n_fft=2048 is too small for input signal of length=82\n",
            "  n_fft, y.shape[-1]\n",
            "/usr/local/lib/python3.7/dist-packages/librosa/core/spectrum.py:224: UserWarning: n_fft=2048 is too small for input signal of length=102\n",
            "  n_fft, y.shape[-1]\n",
            "/usr/local/lib/python3.7/dist-packages/librosa/core/spectrum.py:224: UserWarning: n_fft=2048 is too small for input signal of length=82\n",
            "  n_fft, y.shape[-1]\n",
            "/usr/local/lib/python3.7/dist-packages/librosa/core/spectrum.py:224: UserWarning: n_fft=2048 is too small for input signal of length=102\n",
            "  n_fft, y.shape[-1]\n",
            "/usr/local/lib/python3.7/dist-packages/librosa/core/spectrum.py:224: UserWarning: n_fft=2048 is too small for input signal of length=65\n",
            "  n_fft, y.shape[-1]\n",
            "/usr/local/lib/python3.7/dist-packages/librosa/core/spectrum.py:224: UserWarning: n_fft=2048 is too small for input signal of length=81\n",
            "  n_fft, y.shape[-1]\n",
            "/usr/local/lib/python3.7/dist-packages/librosa/core/spectrum.py:224: UserWarning: n_fft=2048 is too small for input signal of length=68\n",
            "  n_fft, y.shape[-1]\n",
            "/usr/local/lib/python3.7/dist-packages/librosa/core/spectrum.py:224: UserWarning: n_fft=2048 is too small for input signal of length=85\n",
            "  n_fft, y.shape[-1]\n",
            "/usr/local/lib/python3.7/dist-packages/librosa/core/spectrum.py:224: UserWarning: n_fft=2048 is too small for input signal of length=59\n",
            "  n_fft, y.shape[-1]\n",
            "/usr/local/lib/python3.7/dist-packages/librosa/core/spectrum.py:224: UserWarning: n_fft=2048 is too small for input signal of length=73\n",
            "  n_fft, y.shape[-1]\n",
            "/usr/local/lib/python3.7/dist-packages/librosa/core/spectrum.py:224: UserWarning: n_fft=2048 is too small for input signal of length=77\n",
            "  n_fft, y.shape[-1]\n",
            "/usr/local/lib/python3.7/dist-packages/librosa/core/spectrum.py:224: UserWarning: n_fft=2048 is too small for input signal of length=96\n",
            "  n_fft, y.shape[-1]\n",
            "/usr/local/lib/python3.7/dist-packages/librosa/core/spectrum.py:224: UserWarning: n_fft=2048 is too small for input signal of length=87\n",
            "  n_fft, y.shape[-1]\n",
            "/usr/local/lib/python3.7/dist-packages/librosa/core/spectrum.py:224: UserWarning: n_fft=2048 is too small for input signal of length=109\n",
            "  n_fft, y.shape[-1]\n",
            "/usr/local/lib/python3.7/dist-packages/librosa/core/spectrum.py:224: UserWarning: n_fft=2048 is too small for input signal of length=53\n",
            "  n_fft, y.shape[-1]\n",
            "/usr/local/lib/python3.7/dist-packages/librosa/core/spectrum.py:224: UserWarning: n_fft=2048 is too small for input signal of length=66\n",
            "  n_fft, y.shape[-1]\n",
            "/usr/local/lib/python3.7/dist-packages/librosa/core/spectrum.py:224: UserWarning: n_fft=2048 is too small for input signal of length=103\n",
            "  n_fft, y.shape[-1]\n",
            "/usr/local/lib/python3.7/dist-packages/librosa/core/spectrum.py:224: UserWarning: n_fft=2048 is too small for input signal of length=128\n",
            "  n_fft, y.shape[-1]\n",
            "/usr/local/lib/python3.7/dist-packages/librosa/core/spectrum.py:224: UserWarning: n_fft=2048 is too small for input signal of length=61\n",
            "  n_fft, y.shape[-1]\n",
            "/usr/local/lib/python3.7/dist-packages/librosa/core/spectrum.py:224: UserWarning: n_fft=2048 is too small for input signal of length=76\n",
            "  n_fft, y.shape[-1]\n",
            "/usr/local/lib/python3.7/dist-packages/librosa/core/spectrum.py:224: UserWarning: n_fft=2048 is too small for input signal of length=127\n",
            "  n_fft, y.shape[-1]\n",
            "/usr/local/lib/python3.7/dist-packages/librosa/core/spectrum.py:224: UserWarning: n_fft=2048 is too small for input signal of length=84\n",
            "  n_fft, y.shape[-1]\n",
            "/usr/local/lib/python3.7/dist-packages/librosa/core/spectrum.py:224: UserWarning: n_fft=2048 is too small for input signal of length=105\n",
            "  n_fft, y.shape[-1]\n",
            "/usr/local/lib/python3.7/dist-packages/librosa/core/spectrum.py:224: UserWarning: n_fft=2048 is too small for input signal of length=48\n",
            "  n_fft, y.shape[-1]\n",
            "/usr/local/lib/python3.7/dist-packages/librosa/core/spectrum.py:224: UserWarning: n_fft=2048 is too small for input signal of length=60\n",
            "  n_fft, y.shape[-1]\n",
            "/usr/local/lib/python3.7/dist-packages/librosa/core/spectrum.py:224: UserWarning: n_fft=2048 is too small for input signal of length=90\n",
            "  n_fft, y.shape[-1]\n",
            "/usr/local/lib/python3.7/dist-packages/librosa/core/spectrum.py:224: UserWarning: n_fft=2048 is too small for input signal of length=113\n",
            "  n_fft, y.shape[-1]\n",
            "/usr/local/lib/python3.7/dist-packages/librosa/core/spectrum.py:224: UserWarning: n_fft=2048 is too small for input signal of length=101\n",
            "  n_fft, y.shape[-1]\n",
            "/usr/local/lib/python3.7/dist-packages/librosa/core/spectrum.py:224: UserWarning: n_fft=2048 is too small for input signal of length=75\n",
            "  n_fft, y.shape[-1]\n",
            "/usr/local/lib/python3.7/dist-packages/librosa/core/spectrum.py:224: UserWarning: n_fft=2048 is too small for input signal of length=92\n",
            "  n_fft, y.shape[-1]\n",
            "/usr/local/lib/python3.7/dist-packages/librosa/core/spectrum.py:224: UserWarning: n_fft=2048 is too small for input signal of length=115\n",
            "  n_fft, y.shape[-1]\n",
            "/usr/local/lib/python3.7/dist-packages/librosa/core/spectrum.py:224: UserWarning: n_fft=2048 is too small for input signal of length=71\n",
            "  n_fft, y.shape[-1]\n",
            "/usr/local/lib/python3.7/dist-packages/librosa/core/spectrum.py:224: UserWarning: n_fft=2048 is too small for input signal of length=89\n",
            "  n_fft, y.shape[-1]\n",
            "/usr/local/lib/python3.7/dist-packages/librosa/core/spectrum.py:224: UserWarning: n_fft=2048 is too small for input signal of length=69\n",
            "  n_fft, y.shape[-1]\n",
            "/usr/local/lib/python3.7/dist-packages/librosa/core/spectrum.py:224: UserWarning: n_fft=2048 is too small for input signal of length=108\n",
            "  n_fft, y.shape[-1]\n",
            "/usr/local/lib/python3.7/dist-packages/librosa/core/spectrum.py:224: UserWarning: n_fft=2048 is too small for input signal of length=135\n",
            "  n_fft, y.shape[-1]\n",
            "/usr/local/lib/python3.7/dist-packages/librosa/core/spectrum.py:224: UserWarning: n_fft=2048 is too small for input signal of length=107\n",
            "  n_fft, y.shape[-1]\n",
            "/usr/local/lib/python3.7/dist-packages/librosa/core/spectrum.py:224: UserWarning: n_fft=2048 is too small for input signal of length=133\n",
            "  n_fft, y.shape[-1]\n",
            "/usr/local/lib/python3.7/dist-packages/librosa/core/spectrum.py:224: UserWarning: n_fft=2048 is too small for input signal of length=94\n",
            "  n_fft, y.shape[-1]\n",
            "/usr/local/lib/python3.7/dist-packages/librosa/core/spectrum.py:224: UserWarning: n_fft=2048 is too small for input signal of length=120\n",
            "  n_fft, y.shape[-1]\n",
            "/usr/local/lib/python3.7/dist-packages/librosa/core/spectrum.py:224: UserWarning: n_fft=2048 is too small for input signal of length=72\n",
            "  n_fft, y.shape[-1]\n",
            "/usr/local/lib/python3.7/dist-packages/librosa/core/spectrum.py:224: UserWarning: n_fft=2048 is too small for input signal of length=126\n",
            "  n_fft, y.shape[-1]\n",
            "/usr/local/lib/python3.7/dist-packages/librosa/core/spectrum.py:224: UserWarning: n_fft=2048 is too small for input signal of length=104\n",
            "  n_fft, y.shape[-1]\n",
            "/usr/local/lib/python3.7/dist-packages/librosa/core/spectrum.py:224: UserWarning: n_fft=2048 is too small for input signal of length=130\n",
            "  n_fft, y.shape[-1]\n",
            "/usr/local/lib/python3.7/dist-packages/librosa/core/spectrum.py:224: UserWarning: n_fft=2048 is too small for input signal of length=118\n",
            "  n_fft, y.shape[-1]\n",
            "/usr/local/lib/python3.7/dist-packages/librosa/core/spectrum.py:224: UserWarning: n_fft=2048 is too small for input signal of length=97\n",
            "  n_fft, y.shape[-1]\n",
            "/usr/local/lib/python3.7/dist-packages/librosa/core/spectrum.py:224: UserWarning: n_fft=2048 is too small for input signal of length=122\n",
            "  n_fft, y.shape[-1]\n",
            "/usr/local/lib/python3.7/dist-packages/librosa/core/spectrum.py:224: UserWarning: n_fft=2048 is too small for input signal of length=79\n",
            "  n_fft, y.shape[-1]\n",
            "/usr/local/lib/python3.7/dist-packages/librosa/core/spectrum.py:224: UserWarning: n_fft=2048 is too small for input signal of length=98\n",
            "  n_fft, y.shape[-1]\n",
            "/usr/local/lib/python3.7/dist-packages/librosa/core/spectrum.py:224: UserWarning: n_fft=2048 is too small for input signal of length=88\n",
            "  n_fft, y.shape[-1]\n",
            "/usr/local/lib/python3.7/dist-packages/librosa/core/spectrum.py:224: UserWarning: n_fft=2048 is too small for input signal of length=110\n",
            "  n_fft, y.shape[-1]\n",
            "/usr/local/lib/python3.7/dist-packages/librosa/core/spectrum.py:224: UserWarning: n_fft=2048 is too small for input signal of length=83\n",
            "  n_fft, y.shape[-1]\n",
            "/usr/local/lib/python3.7/dist-packages/librosa/core/spectrum.py:224: UserWarning: n_fft=2048 is too small for input signal of length=83\n",
            "  n_fft, y.shape[-1]\n",
            "/usr/local/lib/python3.7/dist-packages/librosa/core/spectrum.py:224: UserWarning: n_fft=2048 is too small for input signal of length=103\n",
            "  n_fft, y.shape[-1]\n",
            "/usr/local/lib/python3.7/dist-packages/librosa/core/spectrum.py:224: UserWarning: n_fft=2048 is too small for input signal of length=75\n",
            "  n_fft, y.shape[-1]\n",
            "/usr/local/lib/python3.7/dist-packages/librosa/core/spectrum.py:224: UserWarning: n_fft=2048 is too small for input signal of length=93\n",
            "  n_fft, y.shape[-1]\n",
            "/usr/local/lib/python3.7/dist-packages/librosa/core/spectrum.py:224: UserWarning: n_fft=2048 is too small for input signal of length=71\n",
            "  n_fft, y.shape[-1]\n",
            "/usr/local/lib/python3.7/dist-packages/librosa/core/spectrum.py:224: UserWarning: n_fft=2048 is too small for input signal of length=89\n",
            "  n_fft, y.shape[-1]\n",
            "/usr/local/lib/python3.7/dist-packages/librosa/core/spectrum.py:224: UserWarning: n_fft=2048 is too small for input signal of length=56\n",
            "  n_fft, y.shape[-1]\n",
            "/usr/local/lib/python3.7/dist-packages/librosa/core/spectrum.py:224: UserWarning: n_fft=2048 is too small for input signal of length=70\n",
            "  n_fft, y.shape[-1]\n",
            "/usr/local/lib/python3.7/dist-packages/librosa/core/spectrum.py:224: UserWarning: n_fft=2048 is too small for input signal of length=128\n",
            "  n_fft, y.shape[-1]\n",
            "/usr/local/lib/python3.7/dist-packages/librosa/core/spectrum.py:224: UserWarning: n_fft=2048 is too small for input signal of length=81\n",
            "  n_fft, y.shape[-1]\n",
            "/usr/local/lib/python3.7/dist-packages/librosa/core/spectrum.py:224: UserWarning: n_fft=2048 is too small for input signal of length=101\n",
            "  n_fft, y.shape[-1]\n",
            "/usr/local/lib/python3.7/dist-packages/librosa/core/spectrum.py:224: UserWarning: n_fft=2048 is too small for input signal of length=69\n",
            "  n_fft, y.shape[-1]\n",
            "/usr/local/lib/python3.7/dist-packages/librosa/core/spectrum.py:224: UserWarning: n_fft=2048 is too small for input signal of length=87\n",
            "  n_fft, y.shape[-1]\n",
            "/usr/local/lib/python3.7/dist-packages/librosa/core/spectrum.py:224: UserWarning: n_fft=2048 is too small for input signal of length=92\n",
            "  n_fft, y.shape[-1]\n",
            "/usr/local/lib/python3.7/dist-packages/librosa/core/spectrum.py:224: UserWarning: n_fft=2048 is too small for input signal of length=115\n",
            "  n_fft, y.shape[-1]\n",
            "/usr/local/lib/python3.7/dist-packages/librosa/core/spectrum.py:224: UserWarning: n_fft=2048 is too small for input signal of length=76\n",
            "  n_fft, y.shape[-1]\n",
            "/usr/local/lib/python3.7/dist-packages/librosa/core/spectrum.py:224: UserWarning: n_fft=2048 is too small for input signal of length=94\n",
            "  n_fft, y.shape[-1]\n",
            "/usr/local/lib/python3.7/dist-packages/librosa/core/spectrum.py:224: UserWarning: n_fft=2048 is too small for input signal of length=84\n",
            "  n_fft, y.shape[-1]\n",
            "/usr/local/lib/python3.7/dist-packages/librosa/core/spectrum.py:224: UserWarning: n_fft=2048 is too small for input signal of length=105\n",
            "  n_fft, y.shape[-1]\n",
            "/usr/local/lib/python3.7/dist-packages/librosa/core/spectrum.py:224: UserWarning: n_fft=2048 is too small for input signal of length=73\n",
            "  n_fft, y.shape[-1]\n",
            "/usr/local/lib/python3.7/dist-packages/librosa/core/spectrum.py:224: UserWarning: n_fft=2048 is too small for input signal of length=67\n",
            "  n_fft, y.shape[-1]\n",
            "/usr/local/lib/python3.7/dist-packages/librosa/core/spectrum.py:224: UserWarning: n_fft=2048 is too small for input signal of length=96\n",
            "  n_fft, y.shape[-1]\n",
            "/usr/local/lib/python3.7/dist-packages/librosa/core/spectrum.py:224: UserWarning: n_fft=2048 is too small for input signal of length=120\n",
            "  n_fft, y.shape[-1]\n",
            "/usr/local/lib/python3.7/dist-packages/librosa/core/spectrum.py:224: UserWarning: n_fft=2048 is too small for input signal of length=79\n",
            "  n_fft, y.shape[-1]\n",
            "/usr/local/lib/python3.7/dist-packages/librosa/core/spectrum.py:224: UserWarning: n_fft=2048 is too small for input signal of length=98\n",
            "  n_fft, y.shape[-1]\n",
            "/usr/local/lib/python3.7/dist-packages/librosa/core/spectrum.py:224: UserWarning: n_fft=2048 is too small for input signal of length=91\n",
            "  n_fft, y.shape[-1]\n",
            "/usr/local/lib/python3.7/dist-packages/librosa/core/spectrum.py:224: UserWarning: n_fft=2048 is too small for input signal of length=114\n",
            "  n_fft, y.shape[-1]\n",
            "/usr/local/lib/python3.7/dist-packages/librosa/core/spectrum.py:224: UserWarning: n_fft=2048 is too small for input signal of length=118\n",
            "  n_fft, y.shape[-1]\n",
            "/usr/local/lib/python3.7/dist-packages/librosa/core/spectrum.py:224: UserWarning: n_fft=2048 is too small for input signal of length=62\n",
            "  n_fft, y.shape[-1]\n",
            "/usr/local/lib/python3.7/dist-packages/librosa/core/spectrum.py:224: UserWarning: n_fft=2048 is too small for input signal of length=77\n",
            "  n_fft, y.shape[-1]\n",
            "/usr/local/lib/python3.7/dist-packages/librosa/core/spectrum.py:224: UserWarning: n_fft=2048 is too small for input signal of length=66\n",
            "  n_fft, y.shape[-1]\n",
            "/usr/local/lib/python3.7/dist-packages/librosa/core/spectrum.py:224: UserWarning: n_fft=2048 is too small for input signal of length=131\n",
            "  n_fft, y.shape[-1]\n",
            "/usr/local/lib/python3.7/dist-packages/librosa/core/spectrum.py:224: UserWarning: n_fft=2048 is too small for input signal of length=163\n",
            "  n_fft, y.shape[-1]\n",
            "/usr/local/lib/python3.7/dist-packages/librosa/core/spectrum.py:224: UserWarning: n_fft=2048 is too small for input signal of length=97\n",
            "  n_fft, y.shape[-1]\n",
            "/usr/local/lib/python3.7/dist-packages/librosa/core/spectrum.py:224: UserWarning: n_fft=2048 is too small for input signal of length=122\n",
            "  n_fft, y.shape[-1]\n",
            "/usr/local/lib/python3.7/dist-packages/librosa/core/spectrum.py:224: UserWarning: n_fft=2048 is too small for input signal of length=72\n",
            "  n_fft, y.shape[-1]\n",
            "/usr/local/lib/python3.7/dist-packages/librosa/core/spectrum.py:224: UserWarning: n_fft=2048 is too small for input signal of length=90\n",
            "  n_fft, y.shape[-1]\n",
            "/usr/local/lib/python3.7/dist-packages/librosa/core/spectrum.py:224: UserWarning: n_fft=2048 is too small for input signal of length=78\n",
            "  n_fft, y.shape[-1]\n",
            "/usr/local/lib/python3.7/dist-packages/librosa/core/spectrum.py:224: UserWarning: n_fft=2048 is too small for input signal of length=58\n",
            "  n_fft, y.shape[-1]\n",
            "/usr/local/lib/python3.7/dist-packages/librosa/core/spectrum.py:224: UserWarning: n_fft=2048 is too small for input signal of length=68\n",
            "  n_fft, y.shape[-1]\n",
            "/usr/local/lib/python3.7/dist-packages/librosa/core/spectrum.py:224: UserWarning: n_fft=2048 is too small for input signal of length=85\n",
            "  n_fft, y.shape[-1]\n",
            "/usr/local/lib/python3.7/dist-packages/librosa/core/spectrum.py:224: UserWarning: n_fft=2048 is too small for input signal of length=100\n",
            "  n_fft, y.shape[-1]\n",
            "/usr/local/lib/python3.7/dist-packages/librosa/core/spectrum.py:224: UserWarning: n_fft=2048 is too small for input signal of length=124\n",
            "  n_fft, y.shape[-1]\n",
            "/usr/local/lib/python3.7/dist-packages/librosa/core/spectrum.py:224: UserWarning: n_fft=2048 is too small for input signal of length=60\n",
            "  n_fft, y.shape[-1]\n",
            "/usr/local/lib/python3.7/dist-packages/librosa/core/spectrum.py:224: UserWarning: n_fft=2048 is too small for input signal of length=86\n",
            "  n_fft, y.shape[-1]\n",
            "/usr/local/lib/python3.7/dist-packages/librosa/core/spectrum.py:224: UserWarning: n_fft=2048 is too small for input signal of length=107\n",
            "  n_fft, y.shape[-1]\n",
            "/usr/local/lib/python3.7/dist-packages/librosa/core/spectrum.py:224: UserWarning: n_fft=2048 is too small for input signal of length=53\n",
            "  n_fft, y.shape[-1]\n",
            "/usr/local/lib/python3.7/dist-packages/librosa/core/spectrum.py:224: UserWarning: n_fft=2048 is too small for input signal of length=117\n",
            "  n_fft, y.shape[-1]\n",
            "/usr/local/lib/python3.7/dist-packages/librosa/core/spectrum.py:224: UserWarning: n_fft=2048 is too small for input signal of length=64\n",
            "  n_fft, y.shape[-1]\n",
            "/usr/local/lib/python3.7/dist-packages/librosa/core/spectrum.py:224: UserWarning: n_fft=2048 is too small for input signal of length=80\n",
            "  n_fft, y.shape[-1]\n",
            "/usr/local/lib/python3.7/dist-packages/librosa/core/spectrum.py:224: UserWarning: n_fft=2048 is too small for input signal of length=65\n",
            "  n_fft, y.shape[-1]\n",
            "/usr/local/lib/python3.7/dist-packages/librosa/core/spectrum.py:224: UserWarning: n_fft=2048 is too small for input signal of length=82\n",
            "  n_fft, y.shape[-1]\n",
            "/usr/local/lib/python3.7/dist-packages/librosa/core/spectrum.py:224: UserWarning: n_fft=2048 is too small for input signal of length=102\n",
            "  n_fft, y.shape[-1]\n",
            "/usr/local/lib/python3.7/dist-packages/librosa/core/spectrum.py:224: UserWarning: n_fft=2048 is too small for input signal of length=110\n",
            "  n_fft, y.shape[-1]\n",
            "/usr/local/lib/python3.7/dist-packages/librosa/core/spectrum.py:224: UserWarning: n_fft=2048 is too small for input signal of length=137\n",
            "  n_fft, y.shape[-1]\n",
            "/usr/local/lib/python3.7/dist-packages/librosa/core/spectrum.py:224: UserWarning: n_fft=2048 is too small for input signal of length=106\n",
            "  n_fft, y.shape[-1]\n",
            "/usr/local/lib/python3.7/dist-packages/librosa/core/spectrum.py:224: UserWarning: n_fft=2048 is too small for input signal of length=88\n",
            "  n_fft, y.shape[-1]\n",
            "/usr/local/lib/python3.7/dist-packages/librosa/core/spectrum.py:224: UserWarning: n_fft=2048 is too small for input signal of length=109\n",
            "  n_fft, y.shape[-1]\n",
            "/usr/local/lib/python3.7/dist-packages/librosa/core/spectrum.py:224: UserWarning: n_fft=2048 is too small for input signal of length=113\n",
            "  n_fft, y.shape[-1]\n",
            "/usr/local/lib/python3.7/dist-packages/librosa/core/spectrum.py:224: UserWarning: n_fft=2048 is too small for input signal of length=141\n",
            "  n_fft, y.shape[-1]\n",
            "/usr/local/lib/python3.7/dist-packages/librosa/core/spectrum.py:224: UserWarning: n_fft=2048 is too small for input signal of length=111\n",
            "  n_fft, y.shape[-1]\n",
            "/usr/local/lib/python3.7/dist-packages/librosa/core/spectrum.py:224: UserWarning: n_fft=2048 is too small for input signal of length=95\n",
            "  n_fft, y.shape[-1]\n",
            "/usr/local/lib/python3.7/dist-packages/librosa/core/spectrum.py:224: UserWarning: n_fft=2048 is too small for input signal of length=119\n",
            "  n_fft, y.shape[-1]\n",
            "/usr/local/lib/python3.7/dist-packages/librosa/core/spectrum.py:224: UserWarning: n_fft=2048 is too small for input signal of length=148\n",
            "  n_fft, y.shape[-1]\n",
            "/usr/local/lib/python3.7/dist-packages/librosa/core/spectrum.py:224: UserWarning: n_fft=2048 is too small for input signal of length=50\n",
            "  n_fft, y.shape[-1]\n",
            "/usr/local/lib/python3.7/dist-packages/librosa/core/spectrum.py:224: UserWarning: n_fft=2048 is too small for input signal of length=153\n",
            "  n_fft, y.shape[-1]\n",
            "/usr/local/lib/python3.7/dist-packages/librosa/core/spectrum.py:224: UserWarning: n_fft=2048 is too small for input signal of length=104\n",
            "  n_fft, y.shape[-1]\n",
            "/usr/local/lib/python3.7/dist-packages/librosa/core/spectrum.py:224: UserWarning: n_fft=2048 is too small for input signal of length=130\n",
            "  n_fft, y.shape[-1]\n",
            "/usr/local/lib/python3.7/dist-packages/librosa/core/spectrum.py:224: UserWarning: n_fft=2048 is too small for input signal of length=99\n",
            "  n_fft, y.shape[-1]\n",
            "/usr/local/lib/python3.7/dist-packages/librosa/core/spectrum.py:224: UserWarning: n_fft=2048 is too small for input signal of length=123\n",
            "  n_fft, y.shape[-1]\n",
            "/usr/local/lib/python3.7/dist-packages/librosa/core/spectrum.py:224: UserWarning: n_fft=2048 is too small for input signal of length=63\n",
            "  n_fft, y.shape[-1]\n",
            "/usr/local/lib/python3.7/dist-packages/librosa/core/spectrum.py:224: UserWarning: n_fft=2048 is too small for input signal of length=126\n",
            "  n_fft, y.shape[-1]\n",
            "/usr/local/lib/python3.7/dist-packages/librosa/core/spectrum.py:224: UserWarning: n_fft=2048 is too small for input signal of length=55\n",
            "  n_fft, y.shape[-1]\n",
            "/usr/local/lib/python3.7/dist-packages/librosa/core/spectrum.py:224: UserWarning: n_fft=2048 is too small for input signal of length=108\n",
            "  n_fft, y.shape[-1]\n",
            "/usr/local/lib/python3.7/dist-packages/librosa/core/spectrum.py:224: UserWarning: n_fft=2048 is too small for input signal of length=135\n",
            "  n_fft, y.shape[-1]\n",
            "/usr/local/lib/python3.7/dist-packages/librosa/core/spectrum.py:224: UserWarning: n_fft=2048 is too small for input signal of length=121\n",
            "  n_fft, y.shape[-1]\n",
            "/usr/local/lib/python3.7/dist-packages/librosa/core/spectrum.py:224: UserWarning: n_fft=2048 is too small for input signal of length=152\n",
            "  n_fft, y.shape[-1]\n",
            "/usr/local/lib/python3.7/dist-packages/librosa/core/spectrum.py:224: UserWarning: n_fft=2048 is too small for input signal of length=59\n",
            "  n_fft, y.shape[-1]\n",
            "/usr/local/lib/python3.7/dist-packages/librosa/core/spectrum.py:224: UserWarning: n_fft=2048 is too small for input signal of length=150\n",
            "  n_fft, y.shape[-1]\n",
            "/usr/local/lib/python3.7/dist-packages/librosa/core/spectrum.py:224: UserWarning: n_fft=2048 is too small for input signal of length=51\n",
            "  n_fft, y.shape[-1]\n",
            "/usr/local/lib/python3.7/dist-packages/librosa/core/spectrum.py:224: UserWarning: n_fft=2048 is too small for input signal of length=132\n",
            "  n_fft, y.shape[-1]\n",
            "/usr/local/lib/python3.7/dist-packages/librosa/core/spectrum.py:224: UserWarning: n_fft=2048 is too small for input signal of length=127\n",
            "  n_fft, y.shape[-1]\n",
            "/usr/local/lib/python3.7/dist-packages/librosa/core/spectrum.py:224: UserWarning: n_fft=2048 is too small for input signal of length=52\n",
            "  n_fft, y.shape[-1]\n",
            "/usr/local/lib/python3.7/dist-packages/librosa/core/spectrum.py:224: UserWarning: n_fft=2048 is too small for input signal of length=125\n",
            "  n_fft, y.shape[-1]\n",
            "/usr/local/lib/python3.7/dist-packages/librosa/core/spectrum.py:224: UserWarning: n_fft=2048 is too small for input signal of length=156\n",
            "  n_fft, y.shape[-1]\n",
            "/usr/local/lib/python3.7/dist-packages/librosa/core/spectrum.py:224: UserWarning: n_fft=2048 is too small for input signal of length=61\n",
            "  n_fft, y.shape[-1]\n",
            "/usr/local/lib/python3.7/dist-packages/librosa/core/spectrum.py:224: UserWarning: n_fft=2048 is too small for input signal of length=133\n",
            "  n_fft, y.shape[-1]\n",
            "/usr/local/lib/python3.7/dist-packages/librosa/core/spectrum.py:224: UserWarning: n_fft=2048 is too small for input signal of length=143\n",
            "  n_fft, y.shape[-1]\n",
            "/usr/local/lib/python3.7/dist-packages/librosa/core/spectrum.py:224: UserWarning: n_fft=2048 is too small for input signal of length=57\n",
            "  n_fft, y.shape[-1]\n",
            "/usr/local/lib/python3.7/dist-packages/librosa/core/spectrum.py:224: UserWarning: n_fft=2048 is too small for input signal of length=154\n",
            "  n_fft, y.shape[-1]\n",
            "/usr/local/lib/python3.7/dist-packages/librosa/core/spectrum.py:224: UserWarning: n_fft=2048 is too small for input signal of length=151\n",
            "  n_fft, y.shape[-1]\n",
            "/usr/local/lib/python3.7/dist-packages/librosa/core/spectrum.py:224: UserWarning: n_fft=2048 is too small for input signal of length=188\n",
            "  n_fft, y.shape[-1]\n",
            "/usr/local/lib/python3.7/dist-packages/librosa/core/spectrum.py:224: UserWarning: n_fft=2048 is too small for input signal of length=160\n",
            "  n_fft, y.shape[-1]\n",
            "/usr/local/lib/python3.7/dist-packages/librosa/core/spectrum.py:224: UserWarning: n_fft=2048 is too small for input signal of length=146\n",
            "  n_fft, y.shape[-1]\n",
            "/usr/local/lib/python3.7/dist-packages/librosa/core/spectrum.py:224: UserWarning: n_fft=2048 is too small for input signal of length=116\n",
            "  n_fft, y.shape[-1]\n",
            "/usr/local/lib/python3.7/dist-packages/librosa/core/spectrum.py:224: UserWarning: n_fft=2048 is too small for input signal of length=145\n",
            "  n_fft, y.shape[-1]\n",
            "/usr/local/lib/python3.7/dist-packages/librosa/core/spectrum.py:224: UserWarning: n_fft=2048 is too small for input signal of length=112\n",
            "  n_fft, y.shape[-1]\n",
            "/usr/local/lib/python3.7/dist-packages/librosa/core/spectrum.py:224: UserWarning: n_fft=2048 is too small for input signal of length=140\n",
            "  n_fft, y.shape[-1]\n",
            "/usr/local/lib/python3.7/dist-packages/librosa/core/spectrum.py:224: UserWarning: n_fft=2048 is too small for input signal of length=54\n",
            "  n_fft, y.shape[-1]\n",
            "/usr/local/lib/python3.7/dist-packages/librosa/core/spectrum.py:224: UserWarning: n_fft=2048 is too small for input signal of length=166\n",
            "  n_fft, y.shape[-1]\n",
            "/usr/local/lib/python3.7/dist-packages/librosa/core/spectrum.py:224: UserWarning: n_fft=2048 is too small for input signal of length=157\n",
            "  n_fft, y.shape[-1]\n",
            "/usr/local/lib/python3.7/dist-packages/librosa/core/spectrum.py:224: UserWarning: n_fft=2048 is too small for input signal of length=191\n",
            "  n_fft, y.shape[-1]\n",
            "/usr/local/lib/python3.7/dist-packages/librosa/core/spectrum.py:224: UserWarning: n_fft=2048 is too small for input signal of length=139\n",
            "  n_fft, y.shape[-1]\n",
            "/usr/local/lib/python3.7/dist-packages/librosa/core/spectrum.py:224: UserWarning: n_fft=2048 is too small for input signal of length=162\n",
            "  n_fft, y.shape[-1]\n",
            "/usr/local/lib/python3.7/dist-packages/librosa/core/spectrum.py:224: UserWarning: n_fft=2048 is too small for input signal of length=48\n",
            "  n_fft, y.shape[-1]\n",
            "/usr/local/lib/python3.7/dist-packages/librosa/core/spectrum.py:224: UserWarning: n_fft=2048 is too small for input signal of length=158\n",
            "  n_fft, y.shape[-1]\n",
            "/usr/local/lib/python3.7/dist-packages/librosa/core/spectrum.py:224: UserWarning: n_fft=2048 is too small for input signal of length=134\n",
            "  n_fft, y.shape[-1]\n",
            "/usr/local/lib/python3.7/dist-packages/librosa/core/spectrum.py:224: UserWarning: n_fft=2048 is too small for input signal of length=167\n",
            "  n_fft, y.shape[-1]\n",
            "/usr/local/lib/python3.7/dist-packages/librosa/core/spectrum.py:224: UserWarning: n_fft=2048 is too small for input signal of length=184\n",
            "  n_fft, y.shape[-1]\n",
            "/usr/local/lib/python3.7/dist-packages/librosa/core/spectrum.py:224: UserWarning: n_fft=2048 is too small for input signal of length=149\n",
            "  n_fft, y.shape[-1]\n",
            "/usr/local/lib/python3.7/dist-packages/librosa/core/spectrum.py:224: UserWarning: n_fft=2048 is too small for input signal of length=136\n",
            "  n_fft, y.shape[-1]\n",
            "/usr/local/lib/python3.7/dist-packages/librosa/core/spectrum.py:224: UserWarning: n_fft=2048 is too small for input signal of length=187\n",
            "  n_fft, y.shape[-1]\n",
            "/usr/local/lib/python3.7/dist-packages/librosa/core/spectrum.py:224: UserWarning: n_fft=2048 is too small for input signal of length=176\n",
            "  n_fft, y.shape[-1]\n",
            "/usr/local/lib/python3.7/dist-packages/librosa/core/spectrum.py:224: UserWarning: n_fft=2048 is too small for input signal of length=171\n",
            "  n_fft, y.shape[-1]\n",
            "/usr/local/lib/python3.7/dist-packages/librosa/core/spectrum.py:224: UserWarning: n_fft=2048 is too small for input signal of length=169\n",
            "  n_fft, y.shape[-1]\n",
            "/usr/local/lib/python3.7/dist-packages/librosa/core/spectrum.py:224: UserWarning: n_fft=2048 is too small for input signal of length=144\n",
            "  n_fft, y.shape[-1]\n",
            "/usr/local/lib/python3.7/dist-packages/librosa/core/spectrum.py:224: UserWarning: n_fft=2048 is too small for input signal of length=44\n",
            "  n_fft, y.shape[-1]\n",
            "/usr/local/lib/python3.7/dist-packages/librosa/core/spectrum.py:224: UserWarning: n_fft=2048 is too small for input signal of length=142\n",
            "  n_fft, y.shape[-1]\n",
            "/usr/local/lib/python3.7/dist-packages/librosa/core/spectrum.py:224: UserWarning: n_fft=2048 is too small for input signal of length=178\n",
            "  n_fft, y.shape[-1]\n",
            "/usr/local/lib/python3.7/dist-packages/librosa/core/spectrum.py:224: UserWarning: n_fft=2048 is too small for input signal of length=43\n",
            "  n_fft, y.shape[-1]\n",
            "/usr/local/lib/python3.7/dist-packages/librosa/core/spectrum.py:224: UserWarning: n_fft=2048 is too small for input signal of length=165\n",
            "  n_fft, y.shape[-1]\n",
            "/usr/local/lib/python3.7/dist-packages/librosa/core/spectrum.py:224: UserWarning: n_fft=2048 is too small for input signal of length=46\n",
            "  n_fft, y.shape[-1]\n",
            "/usr/local/lib/python3.7/dist-packages/librosa/core/spectrum.py:224: UserWarning: n_fft=2048 is too small for input signal of length=138\n",
            "  n_fft, y.shape[-1]\n",
            "/usr/local/lib/python3.7/dist-packages/librosa/core/spectrum.py:224: UserWarning: n_fft=2048 is too small for input signal of length=173\n",
            "  n_fft, y.shape[-1]\n",
            "/usr/local/lib/python3.7/dist-packages/librosa/core/spectrum.py:224: UserWarning: n_fft=2048 is too small for input signal of length=186\n",
            "  n_fft, y.shape[-1]\n",
            "/usr/local/lib/python3.7/dist-packages/librosa/core/spectrum.py:224: UserWarning: n_fft=2048 is too small for input signal of length=189\n",
            "  n_fft, y.shape[-1]\n",
            "/usr/local/lib/python3.7/dist-packages/librosa/core/spectrum.py:224: UserWarning: n_fft=2048 is too small for input signal of length=170\n",
            "  n_fft, y.shape[-1]\n",
            "/usr/local/lib/python3.7/dist-packages/librosa/core/spectrum.py:224: UserWarning: n_fft=2048 is too small for input signal of length=47\n",
            "  n_fft, y.shape[-1]\n",
            "/usr/local/lib/python3.7/dist-packages/librosa/core/spectrum.py:224: UserWarning: n_fft=2048 is too small for input signal of length=45\n",
            "  n_fft, y.shape[-1]\n",
            "/usr/local/lib/python3.7/dist-packages/librosa/core/spectrum.py:224: UserWarning: n_fft=2048 is too small for input signal of length=42\n",
            "  n_fft, y.shape[-1]\n",
            "/usr/local/lib/python3.7/dist-packages/librosa/core/spectrum.py:224: UserWarning: n_fft=2048 is too small for input signal of length=129\n",
            "  n_fft, y.shape[-1]\n",
            "/usr/local/lib/python3.7/dist-packages/librosa/core/spectrum.py:224: UserWarning: n_fft=2048 is too small for input signal of length=161\n",
            "  n_fft, y.shape[-1]\n",
            "/usr/local/lib/python3.7/dist-packages/librosa/core/spectrum.py:224: UserWarning: n_fft=2048 is too small for input signal of length=40\n",
            "  n_fft, y.shape[-1]\n",
            "/usr/local/lib/python3.7/dist-packages/librosa/core/spectrum.py:224: UserWarning: n_fft=2048 is too small for input signal of length=196\n",
            "  n_fft, y.shape[-1]\n",
            "/usr/local/lib/python3.7/dist-packages/librosa/core/spectrum.py:224: UserWarning: n_fft=2048 is too small for input signal of length=195\n",
            "  n_fft, y.shape[-1]\n",
            "/usr/local/lib/python3.7/dist-packages/librosa/core/spectrum.py:224: UserWarning: n_fft=2048 is too small for input signal of length=175\n",
            "  n_fft, y.shape[-1]\n",
            "/usr/local/lib/python3.7/dist-packages/librosa/core/spectrum.py:224: UserWarning: n_fft=2048 is too small for input signal of length=180\n",
            "  n_fft, y.shape[-1]\n"
          ]
        },
        {
          "data": {
            "text/html": [
              "\n",
              "  <div id=\"df-50b2086b-ff64-4a7a-bb0d-a07e9013c477\">\n",
              "    <div class=\"colab-df-container\">\n",
              "      <div>\n",
              "<style scoped>\n",
              "    .dataframe tbody tr th:only-of-type {\n",
              "        vertical-align: middle;\n",
              "    }\n",
              "\n",
              "    .dataframe tbody tr th {\n",
              "        vertical-align: top;\n",
              "    }\n",
              "\n",
              "    .dataframe thead th {\n",
              "        text-align: right;\n",
              "    }\n",
              "</style>\n",
              "<table border=\"1\" class=\"dataframe\">\n",
              "  <thead>\n",
              "    <tr style=\"text-align: right;\">\n",
              "      <th></th>\n",
              "      <th>0</th>\n",
              "      <th>1</th>\n",
              "      <th>2</th>\n",
              "      <th>3</th>\n",
              "      <th>4</th>\n",
              "      <th>5</th>\n",
              "      <th>6</th>\n",
              "      <th>7</th>\n",
              "      <th>8</th>\n",
              "      <th>9</th>\n",
              "      <th>...</th>\n",
              "      <th>248</th>\n",
              "      <th>249</th>\n",
              "      <th>250</th>\n",
              "      <th>251</th>\n",
              "      <th>252</th>\n",
              "      <th>253</th>\n",
              "      <th>254</th>\n",
              "      <th>255</th>\n",
              "      <th>256</th>\n",
              "      <th>257</th>\n",
              "    </tr>\n",
              "  </thead>\n",
              "  <tbody>\n",
              "    <tr>\n",
              "      <th>0</th>\n",
              "      <td>-240.127681</td>\n",
              "      <td>37.447224</td>\n",
              "      <td>4.119642</td>\n",
              "      <td>6.156446</td>\n",
              "      <td>-1.472156</td>\n",
              "      <td>3.843342</td>\n",
              "      <td>-2.062184</td>\n",
              "      <td>-3.261164</td>\n",
              "      <td>3.070111</td>\n",
              "      <td>-1.690560</td>\n",
              "      <td>...</td>\n",
              "      <td>14.549550</td>\n",
              "      <td>1.028104</td>\n",
              "      <td>-14.313123</td>\n",
              "      <td>-13.603321</td>\n",
              "      <td>-8.869075</td>\n",
              "      <td>-6.680773</td>\n",
              "      <td>3.177949</td>\n",
              "      <td>6.172023</td>\n",
              "      <td>0</td>\n",
              "      <td>FEA</td>\n",
              "    </tr>\n",
              "    <tr>\n",
              "      <th>1</th>\n",
              "      <td>-240.362210</td>\n",
              "      <td>38.173442</td>\n",
              "      <td>3.997397</td>\n",
              "      <td>6.501393</td>\n",
              "      <td>-0.774234</td>\n",
              "      <td>3.919050</td>\n",
              "      <td>-2.527265</td>\n",
              "      <td>-3.469273</td>\n",
              "      <td>3.299474</td>\n",
              "      <td>-1.563311</td>\n",
              "      <td>...</td>\n",
              "      <td>14.280008</td>\n",
              "      <td>0.912823</td>\n",
              "      <td>-14.425523</td>\n",
              "      <td>-13.200235</td>\n",
              "      <td>-8.580072</td>\n",
              "      <td>-6.726829</td>\n",
              "      <td>2.986388</td>\n",
              "      <td>5.847531</td>\n",
              "      <td>0</td>\n",
              "      <td>FEA</td>\n",
              "    </tr>\n",
              "    <tr>\n",
              "      <th>2</th>\n",
              "      <td>-353.295581</td>\n",
              "      <td>69.051191</td>\n",
              "      <td>50.824127</td>\n",
              "      <td>31.862356</td>\n",
              "      <td>10.602760</td>\n",
              "      <td>7.767115</td>\n",
              "      <td>-2.547678</td>\n",
              "      <td>-0.579521</td>\n",
              "      <td>1.247110</td>\n",
              "      <td>-2.196308</td>\n",
              "      <td>...</td>\n",
              "      <td>-12.882103</td>\n",
              "      <td>3.484066</td>\n",
              "      <td>1.644587</td>\n",
              "      <td>-0.077457</td>\n",
              "      <td>-5.648213</td>\n",
              "      <td>-1.056162</td>\n",
              "      <td>1.090621</td>\n",
              "      <td>3.221547</td>\n",
              "      <td>0</td>\n",
              "      <td>HAP</td>\n",
              "    </tr>\n",
              "    <tr>\n",
              "      <th>3</th>\n",
              "      <td>-352.637118</td>\n",
              "      <td>68.937595</td>\n",
              "      <td>51.114264</td>\n",
              "      <td>31.170898</td>\n",
              "      <td>9.895204</td>\n",
              "      <td>7.970283</td>\n",
              "      <td>-1.483309</td>\n",
              "      <td>-0.838678</td>\n",
              "      <td>1.104268</td>\n",
              "      <td>-2.445870</td>\n",
              "      <td>...</td>\n",
              "      <td>-12.790413</td>\n",
              "      <td>3.491072</td>\n",
              "      <td>1.596009</td>\n",
              "      <td>0.075954</td>\n",
              "      <td>-5.674416</td>\n",
              "      <td>-1.023158</td>\n",
              "      <td>1.134210</td>\n",
              "      <td>3.221698</td>\n",
              "      <td>0</td>\n",
              "      <td>HAP</td>\n",
              "    </tr>\n",
              "    <tr>\n",
              "      <th>4</th>\n",
              "      <td>-385.915731</td>\n",
              "      <td>79.980752</td>\n",
              "      <td>45.737008</td>\n",
              "      <td>27.407061</td>\n",
              "      <td>19.652832</td>\n",
              "      <td>11.843059</td>\n",
              "      <td>4.182976</td>\n",
              "      <td>-1.161363</td>\n",
              "      <td>1.846133</td>\n",
              "      <td>1.593922</td>\n",
              "      <td>...</td>\n",
              "      <td>-4.867364</td>\n",
              "      <td>8.390226</td>\n",
              "      <td>4.178423</td>\n",
              "      <td>-2.223155</td>\n",
              "      <td>-8.438019</td>\n",
              "      <td>-3.504152</td>\n",
              "      <td>6.158884</td>\n",
              "      <td>8.886946</td>\n",
              "      <td>1</td>\n",
              "      <td>FEA</td>\n",
              "    </tr>\n",
              "    <tr>\n",
              "      <th>...</th>\n",
              "      <td>...</td>\n",
              "      <td>...</td>\n",
              "      <td>...</td>\n",
              "      <td>...</td>\n",
              "      <td>...</td>\n",
              "      <td>...</td>\n",
              "      <td>...</td>\n",
              "      <td>...</td>\n",
              "      <td>...</td>\n",
              "      <td>...</td>\n",
              "      <td>...</td>\n",
              "      <td>...</td>\n",
              "      <td>...</td>\n",
              "      <td>...</td>\n",
              "      <td>...</td>\n",
              "      <td>...</td>\n",
              "      <td>...</td>\n",
              "      <td>...</td>\n",
              "      <td>...</td>\n",
              "      <td>...</td>\n",
              "      <td>...</td>\n",
              "    </tr>\n",
              "    <tr>\n",
              "      <th>59531</th>\n",
              "      <td>-283.734344</td>\n",
              "      <td>100.740471</td>\n",
              "      <td>1.310934</td>\n",
              "      <td>19.875299</td>\n",
              "      <td>0.539823</td>\n",
              "      <td>-11.401859</td>\n",
              "      <td>-7.889131</td>\n",
              "      <td>-4.821404</td>\n",
              "      <td>-1.495032</td>\n",
              "      <td>-4.352018</td>\n",
              "      <td>...</td>\n",
              "      <td>-6.046443</td>\n",
              "      <td>3.924463</td>\n",
              "      <td>9.964572</td>\n",
              "      <td>13.222437</td>\n",
              "      <td>12.113013</td>\n",
              "      <td>15.530333</td>\n",
              "      <td>3.211624</td>\n",
              "      <td>-3.632397</td>\n",
              "      <td>0</td>\n",
              "      <td>ANG</td>\n",
              "    </tr>\n",
              "    <tr>\n",
              "      <th>59532</th>\n",
              "      <td>-401.490387</td>\n",
              "      <td>129.331390</td>\n",
              "      <td>28.389742</td>\n",
              "      <td>18.210348</td>\n",
              "      <td>-7.222347</td>\n",
              "      <td>7.855520</td>\n",
              "      <td>-1.291056</td>\n",
              "      <td>-8.747037</td>\n",
              "      <td>-2.346614</td>\n",
              "      <td>-0.047844</td>\n",
              "      <td>...</td>\n",
              "      <td>-4.122837</td>\n",
              "      <td>7.366165</td>\n",
              "      <td>16.952457</td>\n",
              "      <td>8.277471</td>\n",
              "      <td>1.382034</td>\n",
              "      <td>-10.280244</td>\n",
              "      <td>-13.267412</td>\n",
              "      <td>-22.050552</td>\n",
              "      <td>0</td>\n",
              "      <td>FEA</td>\n",
              "    </tr>\n",
              "    <tr>\n",
              "      <th>59533</th>\n",
              "      <td>-401.490387</td>\n",
              "      <td>129.331390</td>\n",
              "      <td>28.389742</td>\n",
              "      <td>18.210348</td>\n",
              "      <td>-7.222347</td>\n",
              "      <td>7.855520</td>\n",
              "      <td>-1.291056</td>\n",
              "      <td>-8.747037</td>\n",
              "      <td>-2.346614</td>\n",
              "      <td>-0.047844</td>\n",
              "      <td>...</td>\n",
              "      <td>-4.122837</td>\n",
              "      <td>7.366165</td>\n",
              "      <td>16.952457</td>\n",
              "      <td>8.277471</td>\n",
              "      <td>1.382034</td>\n",
              "      <td>-10.280244</td>\n",
              "      <td>-13.267412</td>\n",
              "      <td>-22.050552</td>\n",
              "      <td>0</td>\n",
              "      <td>FEA</td>\n",
              "    </tr>\n",
              "    <tr>\n",
              "      <th>59534</th>\n",
              "      <td>-407.652618</td>\n",
              "      <td>101.561592</td>\n",
              "      <td>31.995092</td>\n",
              "      <td>40.425533</td>\n",
              "      <td>-11.165421</td>\n",
              "      <td>7.246223</td>\n",
              "      <td>-9.429075</td>\n",
              "      <td>-6.946307</td>\n",
              "      <td>1.900549</td>\n",
              "      <td>-1.656801</td>\n",
              "      <td>...</td>\n",
              "      <td>-4.115865</td>\n",
              "      <td>7.024977</td>\n",
              "      <td>4.048615</td>\n",
              "      <td>3.696505</td>\n",
              "      <td>-0.870000</td>\n",
              "      <td>-2.402125</td>\n",
              "      <td>-3.117244</td>\n",
              "      <td>-6.371015</td>\n",
              "      <td>1</td>\n",
              "      <td>DIS</td>\n",
              "    </tr>\n",
              "    <tr>\n",
              "      <th>59535</th>\n",
              "      <td>-407.652618</td>\n",
              "      <td>101.561592</td>\n",
              "      <td>31.995092</td>\n",
              "      <td>40.425533</td>\n",
              "      <td>-11.165421</td>\n",
              "      <td>7.246223</td>\n",
              "      <td>-9.429075</td>\n",
              "      <td>-6.946307</td>\n",
              "      <td>1.900549</td>\n",
              "      <td>-1.656801</td>\n",
              "      <td>...</td>\n",
              "      <td>-4.115865</td>\n",
              "      <td>7.024977</td>\n",
              "      <td>4.048615</td>\n",
              "      <td>3.696505</td>\n",
              "      <td>-0.870000</td>\n",
              "      <td>-2.402125</td>\n",
              "      <td>-3.117244</td>\n",
              "      <td>-6.371015</td>\n",
              "      <td>1</td>\n",
              "      <td>DIS</td>\n",
              "    </tr>\n",
              "  </tbody>\n",
              "</table>\n",
              "<p>59536 rows × 258 columns</p>\n",
              "</div>\n",
              "      <button class=\"colab-df-convert\" onclick=\"convertToInteractive('df-50b2086b-ff64-4a7a-bb0d-a07e9013c477')\"\n",
              "              title=\"Convert this dataframe to an interactive table.\"\n",
              "              style=\"display:none;\">\n",
              "        \n",
              "  <svg xmlns=\"http://www.w3.org/2000/svg\" height=\"24px\"viewBox=\"0 0 24 24\"\n",
              "       width=\"24px\">\n",
              "    <path d=\"M0 0h24v24H0V0z\" fill=\"none\"/>\n",
              "    <path d=\"M18.56 5.44l.94 2.06.94-2.06 2.06-.94-2.06-.94-.94-2.06-.94 2.06-2.06.94zm-11 1L8.5 8.5l.94-2.06 2.06-.94-2.06-.94L8.5 2.5l-.94 2.06-2.06.94zm10 10l.94 2.06.94-2.06 2.06-.94-2.06-.94-.94-2.06-.94 2.06-2.06.94z\"/><path d=\"M17.41 7.96l-1.37-1.37c-.4-.4-.92-.59-1.43-.59-.52 0-1.04.2-1.43.59L10.3 9.45l-7.72 7.72c-.78.78-.78 2.05 0 2.83L4 21.41c.39.39.9.59 1.41.59.51 0 1.02-.2 1.41-.59l7.78-7.78 2.81-2.81c.8-.78.8-2.07 0-2.86zM5.41 20L4 18.59l7.72-7.72 1.47 1.35L5.41 20z\"/>\n",
              "  </svg>\n",
              "      </button>\n",
              "      \n",
              "  <style>\n",
              "    .colab-df-container {\n",
              "      display:flex;\n",
              "      flex-wrap:wrap;\n",
              "      gap: 12px;\n",
              "    }\n",
              "\n",
              "    .colab-df-convert {\n",
              "      background-color: #E8F0FE;\n",
              "      border: none;\n",
              "      border-radius: 50%;\n",
              "      cursor: pointer;\n",
              "      display: none;\n",
              "      fill: #1967D2;\n",
              "      height: 32px;\n",
              "      padding: 0 0 0 0;\n",
              "      width: 32px;\n",
              "    }\n",
              "\n",
              "    .colab-df-convert:hover {\n",
              "      background-color: #E2EBFA;\n",
              "      box-shadow: 0px 1px 2px rgba(60, 64, 67, 0.3), 0px 1px 3px 1px rgba(60, 64, 67, 0.15);\n",
              "      fill: #174EA6;\n",
              "    }\n",
              "\n",
              "    [theme=dark] .colab-df-convert {\n",
              "      background-color: #3B4455;\n",
              "      fill: #D2E3FC;\n",
              "    }\n",
              "\n",
              "    [theme=dark] .colab-df-convert:hover {\n",
              "      background-color: #434B5C;\n",
              "      box-shadow: 0px 1px 3px 1px rgba(0, 0, 0, 0.15);\n",
              "      filter: drop-shadow(0px 1px 2px rgba(0, 0, 0, 0.3));\n",
              "      fill: #FFFFFF;\n",
              "    }\n",
              "  </style>\n",
              "\n",
              "      <script>\n",
              "        const buttonEl =\n",
              "          document.querySelector('#df-50b2086b-ff64-4a7a-bb0d-a07e9013c477 button.colab-df-convert');\n",
              "        buttonEl.style.display =\n",
              "          google.colab.kernel.accessAllowed ? 'block' : 'none';\n",
              "\n",
              "        async function convertToInteractive(key) {\n",
              "          const element = document.querySelector('#df-50b2086b-ff64-4a7a-bb0d-a07e9013c477');\n",
              "          const dataTable =\n",
              "            await google.colab.kernel.invokeFunction('convertToInteractive',\n",
              "                                                     [key], {});\n",
              "          if (!dataTable) return;\n",
              "\n",
              "          const docLinkHtml = 'Like what you see? Visit the ' +\n",
              "            '<a target=\"_blank\" href=https://colab.research.google.com/notebooks/data_table.ipynb>data table notebook</a>'\n",
              "            + ' to learn more about interactive tables.';\n",
              "          element.innerHTML = '';\n",
              "          dataTable['output_type'] = 'display_data';\n",
              "          await google.colab.output.renderOutput(dataTable, element);\n",
              "          const docLink = document.createElement('div');\n",
              "          docLink.innerHTML = docLinkHtml;\n",
              "          element.appendChild(docLink);\n",
              "        }\n",
              "      </script>\n",
              "    </div>\n",
              "  </div>\n",
              "  "
            ],
            "text/plain": [
              "              0           1          2          3          4          5    \\\n",
              "0     -240.127681   37.447224   4.119642   6.156446  -1.472156   3.843342   \n",
              "1     -240.362210   38.173442   3.997397   6.501393  -0.774234   3.919050   \n",
              "2     -353.295581   69.051191  50.824127  31.862356  10.602760   7.767115   \n",
              "3     -352.637118   68.937595  51.114264  31.170898   9.895204   7.970283   \n",
              "4     -385.915731   79.980752  45.737008  27.407061  19.652832  11.843059   \n",
              "...           ...         ...        ...        ...        ...        ...   \n",
              "59531 -283.734344  100.740471   1.310934  19.875299   0.539823 -11.401859   \n",
              "59532 -401.490387  129.331390  28.389742  18.210348  -7.222347   7.855520   \n",
              "59533 -401.490387  129.331390  28.389742  18.210348  -7.222347   7.855520   \n",
              "59534 -407.652618  101.561592  31.995092  40.425533 -11.165421   7.246223   \n",
              "59535 -407.652618  101.561592  31.995092  40.425533 -11.165421   7.246223   \n",
              "\n",
              "            6         7         8         9    ...        248       249  \\\n",
              "0     -2.062184 -3.261164  3.070111 -1.690560  ...  14.549550  1.028104   \n",
              "1     -2.527265 -3.469273  3.299474 -1.563311  ...  14.280008  0.912823   \n",
              "2     -2.547678 -0.579521  1.247110 -2.196308  ... -12.882103  3.484066   \n",
              "3     -1.483309 -0.838678  1.104268 -2.445870  ... -12.790413  3.491072   \n",
              "4      4.182976 -1.161363  1.846133  1.593922  ...  -4.867364  8.390226   \n",
              "...         ...       ...       ...       ...  ...        ...       ...   \n",
              "59531 -7.889131 -4.821404 -1.495032 -4.352018  ...  -6.046443  3.924463   \n",
              "59532 -1.291056 -8.747037 -2.346614 -0.047844  ...  -4.122837  7.366165   \n",
              "59533 -1.291056 -8.747037 -2.346614 -0.047844  ...  -4.122837  7.366165   \n",
              "59534 -9.429075 -6.946307  1.900549 -1.656801  ...  -4.115865  7.024977   \n",
              "59535 -9.429075 -6.946307  1.900549 -1.656801  ...  -4.115865  7.024977   \n",
              "\n",
              "             250        251        252        253        254        255  256  \\\n",
              "0     -14.313123 -13.603321  -8.869075  -6.680773   3.177949   6.172023    0   \n",
              "1     -14.425523 -13.200235  -8.580072  -6.726829   2.986388   5.847531    0   \n",
              "2       1.644587  -0.077457  -5.648213  -1.056162   1.090621   3.221547    0   \n",
              "3       1.596009   0.075954  -5.674416  -1.023158   1.134210   3.221698    0   \n",
              "4       4.178423  -2.223155  -8.438019  -3.504152   6.158884   8.886946    1   \n",
              "...          ...        ...        ...        ...        ...        ...  ...   \n",
              "59531   9.964572  13.222437  12.113013  15.530333   3.211624  -3.632397    0   \n",
              "59532  16.952457   8.277471   1.382034 -10.280244 -13.267412 -22.050552    0   \n",
              "59533  16.952457   8.277471   1.382034 -10.280244 -13.267412 -22.050552    0   \n",
              "59534   4.048615   3.696505  -0.870000  -2.402125  -3.117244  -6.371015    1   \n",
              "59535   4.048615   3.696505  -0.870000  -2.402125  -3.117244  -6.371015    1   \n",
              "\n",
              "       257  \n",
              "0      FEA  \n",
              "1      FEA  \n",
              "2      HAP  \n",
              "3      HAP  \n",
              "4      FEA  \n",
              "...    ...  \n",
              "59531  ANG  \n",
              "59532  FEA  \n",
              "59533  FEA  \n",
              "59534  DIS  \n",
              "59535  DIS  \n",
              "\n",
              "[59536 rows x 258 columns]"
            ]
          },
          "execution_count": null,
          "metadata": {},
          "output_type": "execute_result"
        }
      ],
      "source": [
        "import tensorflow as tf\n",
        "%tensorflow_version 2.x\n",
        "data_1d_aug = []\n",
        "data_1d_samples = []\n",
        "data_1d_aug_1 = []\n",
        "data_1d_aug_2 = []\n",
        "\n",
        "for path in df[\"Path\"]:\n",
        "    \n",
        "    samples , sampling_rate = librosa.load(path, sr = None, mono = True, offset = 0.0)\n",
        "    times = get_rms_mfcc(samples, sampling_rate)\n",
        "    data_1d_samples.append(np.append(librosa.feature.mfcc(y=samples, sr=sampling_rate, n_mfcc=200).mean(axis = 1), times)) \n",
        "\n",
        "    #Augumentation\n",
        "    aug_samples = add_white_noise(samples, 0.1)\n",
        "    S, phase = librosa.magphase(librosa.stft(aug_samples))\n",
        "\n",
        "    data_1d_aug.append(np.append(librosa.feature.mfcc(y=aug_samples, sr=sampling_rate,n_mfcc=200).mean(axis = 1), times))\n",
        "\n",
        "    #Augumentation\n",
        "    aug_samples = librosa.effects.time_stretch(samples , .8)\n",
        "    times = get_rms_mfcc(samples, sampling_rate)\n",
        "    data_1d_aug_1.append(np.append(librosa.feature.mfcc(y=aug_samples, sr=sampling_rate,n_mfcc=200).mean(axis = 1), times))\n",
        "\n",
        "    #Augumentation\n",
        "    aug_samples = librosa.effects.pitch_shift(samples, sampling_rate, 2)\n",
        "    times = get_rms_mfcc(samples, sampling_rate)\n",
        "    data_1d_aug_2.append(np.append(librosa.feature.mfcc(y=aug_samples, sr=sampling_rate,n_mfcc=200).mean(axis = 1), times))\n",
        "\n",
        "data_1d_aug = gender_concatanation(data_1d_aug)\n",
        "\n",
        "data_1d_aug_1 = gender_concatanation(data_1d_aug_1)\n",
        "\n",
        "data_1d_samples = gender_concatanation(data_1d_samples)\n",
        "\n",
        "data_1d_aug_2 = gender_concatanation(data_1d_aug_2)\n",
        "\n",
        "data_1d = pd.DataFrame(data_1d_aug + data_1d_samples + data_1d_aug_1 \n",
        "                       + data_1d_aug_2)"
      ]
    },
    {
      "cell_type": "code",
      "execution_count": null,
      "metadata": {
        "colab": {
          "background_save": true
        },
        "id": "v9coPFxYsK8R",
        "outputId": "a732070e-1137-49ca-daf4-dea7e6c44b8a"
      },
      "outputs": [
        {
          "data": {
            "text/html": [
              "\n",
              "  <div id=\"df-0a041881-661c-4764-ae65-a7609fd773ad\">\n",
              "    <div class=\"colab-df-container\">\n",
              "      <div>\n",
              "<style scoped>\n",
              "    .dataframe tbody tr th:only-of-type {\n",
              "        vertical-align: middle;\n",
              "    }\n",
              "\n",
              "    .dataframe tbody tr th {\n",
              "        vertical-align: top;\n",
              "    }\n",
              "\n",
              "    .dataframe thead th {\n",
              "        text-align: right;\n",
              "    }\n",
              "</style>\n",
              "<table border=\"1\" class=\"dataframe\">\n",
              "  <thead>\n",
              "    <tr style=\"text-align: right;\">\n",
              "      <th></th>\n",
              "      <th>0</th>\n",
              "      <th>1</th>\n",
              "      <th>2</th>\n",
              "      <th>3</th>\n",
              "      <th>4</th>\n",
              "      <th>5</th>\n",
              "      <th>6</th>\n",
              "      <th>7</th>\n",
              "      <th>8</th>\n",
              "      <th>9</th>\n",
              "      <th>...</th>\n",
              "      <th>248</th>\n",
              "      <th>249</th>\n",
              "      <th>250</th>\n",
              "      <th>251</th>\n",
              "      <th>252</th>\n",
              "      <th>253</th>\n",
              "      <th>254</th>\n",
              "      <th>255</th>\n",
              "      <th>256</th>\n",
              "      <th>labels</th>\n",
              "    </tr>\n",
              "  </thead>\n",
              "  <tbody>\n",
              "    <tr>\n",
              "      <th>0</th>\n",
              "      <td>-240.127681</td>\n",
              "      <td>37.447224</td>\n",
              "      <td>4.119642</td>\n",
              "      <td>6.156446</td>\n",
              "      <td>-1.472156</td>\n",
              "      <td>3.843342</td>\n",
              "      <td>-2.062184</td>\n",
              "      <td>-3.261164</td>\n",
              "      <td>3.070111</td>\n",
              "      <td>-1.690560</td>\n",
              "      <td>...</td>\n",
              "      <td>14.549550</td>\n",
              "      <td>1.028104</td>\n",
              "      <td>-14.313123</td>\n",
              "      <td>-13.603321</td>\n",
              "      <td>-8.869075</td>\n",
              "      <td>-6.680773</td>\n",
              "      <td>3.177949</td>\n",
              "      <td>6.172023</td>\n",
              "      <td>0</td>\n",
              "      <td>FEA</td>\n",
              "    </tr>\n",
              "    <tr>\n",
              "      <th>1</th>\n",
              "      <td>-240.362210</td>\n",
              "      <td>38.173442</td>\n",
              "      <td>3.997397</td>\n",
              "      <td>6.501393</td>\n",
              "      <td>-0.774234</td>\n",
              "      <td>3.919050</td>\n",
              "      <td>-2.527265</td>\n",
              "      <td>-3.469273</td>\n",
              "      <td>3.299474</td>\n",
              "      <td>-1.563311</td>\n",
              "      <td>...</td>\n",
              "      <td>14.280008</td>\n",
              "      <td>0.912823</td>\n",
              "      <td>-14.425523</td>\n",
              "      <td>-13.200235</td>\n",
              "      <td>-8.580072</td>\n",
              "      <td>-6.726829</td>\n",
              "      <td>2.986388</td>\n",
              "      <td>5.847531</td>\n",
              "      <td>0</td>\n",
              "      <td>FEA</td>\n",
              "    </tr>\n",
              "    <tr>\n",
              "      <th>2</th>\n",
              "      <td>-353.295581</td>\n",
              "      <td>69.051191</td>\n",
              "      <td>50.824127</td>\n",
              "      <td>31.862356</td>\n",
              "      <td>10.602760</td>\n",
              "      <td>7.767115</td>\n",
              "      <td>-2.547678</td>\n",
              "      <td>-0.579521</td>\n",
              "      <td>1.247110</td>\n",
              "      <td>-2.196308</td>\n",
              "      <td>...</td>\n",
              "      <td>-12.882103</td>\n",
              "      <td>3.484066</td>\n",
              "      <td>1.644587</td>\n",
              "      <td>-0.077457</td>\n",
              "      <td>-5.648213</td>\n",
              "      <td>-1.056162</td>\n",
              "      <td>1.090621</td>\n",
              "      <td>3.221547</td>\n",
              "      <td>0</td>\n",
              "      <td>HAP</td>\n",
              "    </tr>\n",
              "    <tr>\n",
              "      <th>3</th>\n",
              "      <td>-352.637118</td>\n",
              "      <td>68.937595</td>\n",
              "      <td>51.114264</td>\n",
              "      <td>31.170898</td>\n",
              "      <td>9.895204</td>\n",
              "      <td>7.970283</td>\n",
              "      <td>-1.483309</td>\n",
              "      <td>-0.838678</td>\n",
              "      <td>1.104268</td>\n",
              "      <td>-2.445870</td>\n",
              "      <td>...</td>\n",
              "      <td>-12.790413</td>\n",
              "      <td>3.491072</td>\n",
              "      <td>1.596009</td>\n",
              "      <td>0.075954</td>\n",
              "      <td>-5.674416</td>\n",
              "      <td>-1.023158</td>\n",
              "      <td>1.134210</td>\n",
              "      <td>3.221698</td>\n",
              "      <td>0</td>\n",
              "      <td>HAP</td>\n",
              "    </tr>\n",
              "    <tr>\n",
              "      <th>4</th>\n",
              "      <td>-385.915731</td>\n",
              "      <td>79.980752</td>\n",
              "      <td>45.737008</td>\n",
              "      <td>27.407061</td>\n",
              "      <td>19.652832</td>\n",
              "      <td>11.843059</td>\n",
              "      <td>4.182976</td>\n",
              "      <td>-1.161363</td>\n",
              "      <td>1.846133</td>\n",
              "      <td>1.593922</td>\n",
              "      <td>...</td>\n",
              "      <td>-4.867364</td>\n",
              "      <td>8.390226</td>\n",
              "      <td>4.178423</td>\n",
              "      <td>-2.223155</td>\n",
              "      <td>-8.438019</td>\n",
              "      <td>-3.504152</td>\n",
              "      <td>6.158884</td>\n",
              "      <td>8.886946</td>\n",
              "      <td>1</td>\n",
              "      <td>FEA</td>\n",
              "    </tr>\n",
              "    <tr>\n",
              "      <th>...</th>\n",
              "      <td>...</td>\n",
              "      <td>...</td>\n",
              "      <td>...</td>\n",
              "      <td>...</td>\n",
              "      <td>...</td>\n",
              "      <td>...</td>\n",
              "      <td>...</td>\n",
              "      <td>...</td>\n",
              "      <td>...</td>\n",
              "      <td>...</td>\n",
              "      <td>...</td>\n",
              "      <td>...</td>\n",
              "      <td>...</td>\n",
              "      <td>...</td>\n",
              "      <td>...</td>\n",
              "      <td>...</td>\n",
              "      <td>...</td>\n",
              "      <td>...</td>\n",
              "      <td>...</td>\n",
              "      <td>...</td>\n",
              "      <td>...</td>\n",
              "    </tr>\n",
              "    <tr>\n",
              "      <th>59531</th>\n",
              "      <td>-283.734344</td>\n",
              "      <td>100.740471</td>\n",
              "      <td>1.310934</td>\n",
              "      <td>19.875299</td>\n",
              "      <td>0.539823</td>\n",
              "      <td>-11.401859</td>\n",
              "      <td>-7.889131</td>\n",
              "      <td>-4.821404</td>\n",
              "      <td>-1.495032</td>\n",
              "      <td>-4.352018</td>\n",
              "      <td>...</td>\n",
              "      <td>-6.046443</td>\n",
              "      <td>3.924463</td>\n",
              "      <td>9.964572</td>\n",
              "      <td>13.222437</td>\n",
              "      <td>12.113013</td>\n",
              "      <td>15.530333</td>\n",
              "      <td>3.211624</td>\n",
              "      <td>-3.632397</td>\n",
              "      <td>0</td>\n",
              "      <td>ANG</td>\n",
              "    </tr>\n",
              "    <tr>\n",
              "      <th>59532</th>\n",
              "      <td>-401.490387</td>\n",
              "      <td>129.331390</td>\n",
              "      <td>28.389742</td>\n",
              "      <td>18.210348</td>\n",
              "      <td>-7.222347</td>\n",
              "      <td>7.855520</td>\n",
              "      <td>-1.291056</td>\n",
              "      <td>-8.747037</td>\n",
              "      <td>-2.346614</td>\n",
              "      <td>-0.047844</td>\n",
              "      <td>...</td>\n",
              "      <td>-4.122837</td>\n",
              "      <td>7.366165</td>\n",
              "      <td>16.952457</td>\n",
              "      <td>8.277471</td>\n",
              "      <td>1.382034</td>\n",
              "      <td>-10.280244</td>\n",
              "      <td>-13.267412</td>\n",
              "      <td>-22.050552</td>\n",
              "      <td>0</td>\n",
              "      <td>FEA</td>\n",
              "    </tr>\n",
              "    <tr>\n",
              "      <th>59533</th>\n",
              "      <td>-401.490387</td>\n",
              "      <td>129.331390</td>\n",
              "      <td>28.389742</td>\n",
              "      <td>18.210348</td>\n",
              "      <td>-7.222347</td>\n",
              "      <td>7.855520</td>\n",
              "      <td>-1.291056</td>\n",
              "      <td>-8.747037</td>\n",
              "      <td>-2.346614</td>\n",
              "      <td>-0.047844</td>\n",
              "      <td>...</td>\n",
              "      <td>-4.122837</td>\n",
              "      <td>7.366165</td>\n",
              "      <td>16.952457</td>\n",
              "      <td>8.277471</td>\n",
              "      <td>1.382034</td>\n",
              "      <td>-10.280244</td>\n",
              "      <td>-13.267412</td>\n",
              "      <td>-22.050552</td>\n",
              "      <td>0</td>\n",
              "      <td>FEA</td>\n",
              "    </tr>\n",
              "    <tr>\n",
              "      <th>59534</th>\n",
              "      <td>-407.652618</td>\n",
              "      <td>101.561592</td>\n",
              "      <td>31.995092</td>\n",
              "      <td>40.425533</td>\n",
              "      <td>-11.165421</td>\n",
              "      <td>7.246223</td>\n",
              "      <td>-9.429075</td>\n",
              "      <td>-6.946307</td>\n",
              "      <td>1.900549</td>\n",
              "      <td>-1.656801</td>\n",
              "      <td>...</td>\n",
              "      <td>-4.115865</td>\n",
              "      <td>7.024977</td>\n",
              "      <td>4.048615</td>\n",
              "      <td>3.696505</td>\n",
              "      <td>-0.870000</td>\n",
              "      <td>-2.402125</td>\n",
              "      <td>-3.117244</td>\n",
              "      <td>-6.371015</td>\n",
              "      <td>1</td>\n",
              "      <td>DIS</td>\n",
              "    </tr>\n",
              "    <tr>\n",
              "      <th>59535</th>\n",
              "      <td>-407.652618</td>\n",
              "      <td>101.561592</td>\n",
              "      <td>31.995092</td>\n",
              "      <td>40.425533</td>\n",
              "      <td>-11.165421</td>\n",
              "      <td>7.246223</td>\n",
              "      <td>-9.429075</td>\n",
              "      <td>-6.946307</td>\n",
              "      <td>1.900549</td>\n",
              "      <td>-1.656801</td>\n",
              "      <td>...</td>\n",
              "      <td>-4.115865</td>\n",
              "      <td>7.024977</td>\n",
              "      <td>4.048615</td>\n",
              "      <td>3.696505</td>\n",
              "      <td>-0.870000</td>\n",
              "      <td>-2.402125</td>\n",
              "      <td>-3.117244</td>\n",
              "      <td>-6.371015</td>\n",
              "      <td>1</td>\n",
              "      <td>DIS</td>\n",
              "    </tr>\n",
              "  </tbody>\n",
              "</table>\n",
              "<p>59536 rows × 258 columns</p>\n",
              "</div>\n",
              "      <button class=\"colab-df-convert\" onclick=\"convertToInteractive('df-0a041881-661c-4764-ae65-a7609fd773ad')\"\n",
              "              title=\"Convert this dataframe to an interactive table.\"\n",
              "              style=\"display:none;\">\n",
              "        \n",
              "  <svg xmlns=\"http://www.w3.org/2000/svg\" height=\"24px\"viewBox=\"0 0 24 24\"\n",
              "       width=\"24px\">\n",
              "    <path d=\"M0 0h24v24H0V0z\" fill=\"none\"/>\n",
              "    <path d=\"M18.56 5.44l.94 2.06.94-2.06 2.06-.94-2.06-.94-.94-2.06-.94 2.06-2.06.94zm-11 1L8.5 8.5l.94-2.06 2.06-.94-2.06-.94L8.5 2.5l-.94 2.06-2.06.94zm10 10l.94 2.06.94-2.06 2.06-.94-2.06-.94-.94-2.06-.94 2.06-2.06.94z\"/><path d=\"M17.41 7.96l-1.37-1.37c-.4-.4-.92-.59-1.43-.59-.52 0-1.04.2-1.43.59L10.3 9.45l-7.72 7.72c-.78.78-.78 2.05 0 2.83L4 21.41c.39.39.9.59 1.41.59.51 0 1.02-.2 1.41-.59l7.78-7.78 2.81-2.81c.8-.78.8-2.07 0-2.86zM5.41 20L4 18.59l7.72-7.72 1.47 1.35L5.41 20z\"/>\n",
              "  </svg>\n",
              "      </button>\n",
              "      \n",
              "  <style>\n",
              "    .colab-df-container {\n",
              "      display:flex;\n",
              "      flex-wrap:wrap;\n",
              "      gap: 12px;\n",
              "    }\n",
              "\n",
              "    .colab-df-convert {\n",
              "      background-color: #E8F0FE;\n",
              "      border: none;\n",
              "      border-radius: 50%;\n",
              "      cursor: pointer;\n",
              "      display: none;\n",
              "      fill: #1967D2;\n",
              "      height: 32px;\n",
              "      padding: 0 0 0 0;\n",
              "      width: 32px;\n",
              "    }\n",
              "\n",
              "    .colab-df-convert:hover {\n",
              "      background-color: #E2EBFA;\n",
              "      box-shadow: 0px 1px 2px rgba(60, 64, 67, 0.3), 0px 1px 3px 1px rgba(60, 64, 67, 0.15);\n",
              "      fill: #174EA6;\n",
              "    }\n",
              "\n",
              "    [theme=dark] .colab-df-convert {\n",
              "      background-color: #3B4455;\n",
              "      fill: #D2E3FC;\n",
              "    }\n",
              "\n",
              "    [theme=dark] .colab-df-convert:hover {\n",
              "      background-color: #434B5C;\n",
              "      box-shadow: 0px 1px 3px 1px rgba(0, 0, 0, 0.15);\n",
              "      filter: drop-shadow(0px 1px 2px rgba(0, 0, 0, 0.3));\n",
              "      fill: #FFFFFF;\n",
              "    }\n",
              "  </style>\n",
              "\n",
              "      <script>\n",
              "        const buttonEl =\n",
              "          document.querySelector('#df-0a041881-661c-4764-ae65-a7609fd773ad button.colab-df-convert');\n",
              "        buttonEl.style.display =\n",
              "          google.colab.kernel.accessAllowed ? 'block' : 'none';\n",
              "\n",
              "        async function convertToInteractive(key) {\n",
              "          const element = document.querySelector('#df-0a041881-661c-4764-ae65-a7609fd773ad');\n",
              "          const dataTable =\n",
              "            await google.colab.kernel.invokeFunction('convertToInteractive',\n",
              "                                                     [key], {});\n",
              "          if (!dataTable) return;\n",
              "\n",
              "          const docLinkHtml = 'Like what you see? Visit the ' +\n",
              "            '<a target=\"_blank\" href=https://colab.research.google.com/notebooks/data_table.ipynb>data table notebook</a>'\n",
              "            + ' to learn more about interactive tables.';\n",
              "          element.innerHTML = '';\n",
              "          dataTable['output_type'] = 'display_data';\n",
              "          await google.colab.output.renderOutput(dataTable, element);\n",
              "          const docLink = document.createElement('div');\n",
              "          docLink.innerHTML = docLinkHtml;\n",
              "          element.appendChild(docLink);\n",
              "        }\n",
              "      </script>\n",
              "    </div>\n",
              "  </div>\n",
              "  "
            ],
            "text/plain": [
              "                0           1          2          3          4          5  \\\n",
              "0     -240.127681   37.447224   4.119642   6.156446  -1.472156   3.843342   \n",
              "1     -240.362210   38.173442   3.997397   6.501393  -0.774234   3.919050   \n",
              "2     -353.295581   69.051191  50.824127  31.862356  10.602760   7.767115   \n",
              "3     -352.637118   68.937595  51.114264  31.170898   9.895204   7.970283   \n",
              "4     -385.915731   79.980752  45.737008  27.407061  19.652832  11.843059   \n",
              "...           ...         ...        ...        ...        ...        ...   \n",
              "59531 -283.734344  100.740471   1.310934  19.875299   0.539823 -11.401859   \n",
              "59532 -401.490387  129.331390  28.389742  18.210348  -7.222347   7.855520   \n",
              "59533 -401.490387  129.331390  28.389742  18.210348  -7.222347   7.855520   \n",
              "59534 -407.652618  101.561592  31.995092  40.425533 -11.165421   7.246223   \n",
              "59535 -407.652618  101.561592  31.995092  40.425533 -11.165421   7.246223   \n",
              "\n",
              "              6         7         8         9  ...        248       249  \\\n",
              "0     -2.062184 -3.261164  3.070111 -1.690560  ...  14.549550  1.028104   \n",
              "1     -2.527265 -3.469273  3.299474 -1.563311  ...  14.280008  0.912823   \n",
              "2     -2.547678 -0.579521  1.247110 -2.196308  ... -12.882103  3.484066   \n",
              "3     -1.483309 -0.838678  1.104268 -2.445870  ... -12.790413  3.491072   \n",
              "4      4.182976 -1.161363  1.846133  1.593922  ...  -4.867364  8.390226   \n",
              "...         ...       ...       ...       ...  ...        ...       ...   \n",
              "59531 -7.889131 -4.821404 -1.495032 -4.352018  ...  -6.046443  3.924463   \n",
              "59532 -1.291056 -8.747037 -2.346614 -0.047844  ...  -4.122837  7.366165   \n",
              "59533 -1.291056 -8.747037 -2.346614 -0.047844  ...  -4.122837  7.366165   \n",
              "59534 -9.429075 -6.946307  1.900549 -1.656801  ...  -4.115865  7.024977   \n",
              "59535 -9.429075 -6.946307  1.900549 -1.656801  ...  -4.115865  7.024977   \n",
              "\n",
              "             250        251        252        253        254        255  256  \\\n",
              "0     -14.313123 -13.603321  -8.869075  -6.680773   3.177949   6.172023    0   \n",
              "1     -14.425523 -13.200235  -8.580072  -6.726829   2.986388   5.847531    0   \n",
              "2       1.644587  -0.077457  -5.648213  -1.056162   1.090621   3.221547    0   \n",
              "3       1.596009   0.075954  -5.674416  -1.023158   1.134210   3.221698    0   \n",
              "4       4.178423  -2.223155  -8.438019  -3.504152   6.158884   8.886946    1   \n",
              "...          ...        ...        ...        ...        ...        ...  ...   \n",
              "59531   9.964572  13.222437  12.113013  15.530333   3.211624  -3.632397    0   \n",
              "59532  16.952457   8.277471   1.382034 -10.280244 -13.267412 -22.050552    0   \n",
              "59533  16.952457   8.277471   1.382034 -10.280244 -13.267412 -22.050552    0   \n",
              "59534   4.048615   3.696505  -0.870000  -2.402125  -3.117244  -6.371015    1   \n",
              "59535   4.048615   3.696505  -0.870000  -2.402125  -3.117244  -6.371015    1   \n",
              "\n",
              "       labels  \n",
              "0         FEA  \n",
              "1         FEA  \n",
              "2         HAP  \n",
              "3         HAP  \n",
              "4         FEA  \n",
              "...       ...  \n",
              "59531     ANG  \n",
              "59532     FEA  \n",
              "59533     FEA  \n",
              "59534     DIS  \n",
              "59535     DIS  \n",
              "\n",
              "[59536 rows x 258 columns]"
            ]
          },
          "execution_count": null,
          "metadata": {},
          "output_type": "execute_result"
        }
      ],
      "source": [
        "labels = data_1d.iloc[:,-1:]\n",
        "data_1d = data_1d.iloc[: , :-1]\n",
        "data_1d['labels'] = labels\n",
        "data_1d"
      ]
    },
    {
      "cell_type": "markdown",
      "metadata": {
        "id": "UoltDZn0hqqP"
      },
      "source": [
        "# **Balanced Data Split**"
      ]
    },
    {
      "cell_type": "code",
      "execution_count": null,
      "metadata": {
        "colab": {
          "background_save": true
        },
        "id": "98pJbQewJ0nJ"
      },
      "outputs": [],
      "source": [
        "from sklearn.model_selection import train_test_split\n",
        "\n",
        "X_train, X_test, Y_train, Y_test = train_test_split(data_1d, data_1d['labels'], \n",
        "                                                    test_size=0.3, random_state=0, stratify=data_1d['labels'])\n",
        "\n",
        "X_train, X_validation, Y_train, Y_validation = train_test_split(X_train, X_train['labels'], \n",
        "                                                    test_size=0.05, random_state=0, stratify=X_train['labels'])\n",
        "\n",
        "X_train = X_train.drop(columns=\"labels\")\n",
        "X_validation = X_validation.drop(columns=\"labels\")\n",
        "X_test = X_test.drop(columns=\"labels\")"
      ]
    },
    {
      "cell_type": "markdown",
      "metadata": {
        "id": "ckeoh5BGnhfw"
      },
      "source": [
        "### Labels Encoding"
      ]
    },
    {
      "cell_type": "code",
      "execution_count": null,
      "metadata": {
        "colab": {
          "background_save": true
        },
        "id": "SFyIgOoWFwoW"
      },
      "outputs": [],
      "source": [
        "from sklearn.preprocessing import LabelEncoder\n",
        "from tensorflow.keras.utils import to_categorical\n",
        "\n",
        "Y_train = np.array(Y_train)\n",
        "lb = LabelEncoder()\n",
        "Y_train = to_categorical(lb.fit_transform(Y_train))\n",
        "\n",
        "Y_validation = np.array(Y_validation)\n",
        "lb = LabelEncoder()\n",
        "Y_validation = to_categorical(lb.fit_transform(Y_validation))\n",
        "\n",
        "Y_test = np.array(Y_test)\n",
        "lb = LabelEncoder()\n",
        "Y_test = to_categorical(lb.fit_transform(Y_test))"
      ]
    },
    {
      "cell_type": "markdown",
      "metadata": {
        "id": "jPpeSu5ynfiI"
      },
      "source": [
        "### Data Normalization"
      ]
    },
    {
      "cell_type": "code",
      "execution_count": null,
      "metadata": {
        "colab": {
          "background_save": true
        },
        "id": "IFrcTx4TFiir"
      },
      "outputs": [],
      "source": [
        "mean = np.mean(X_train, axis=0)\n",
        "std = np.std(X_train, axis=0)\n",
        "X_train = (X_train - mean)/std\n",
        "X_validation = (X_validation - mean)/std\n",
        "X_test = (X_test - mean)/std\n"
      ]
    },
    {
      "cell_type": "markdown",
      "metadata": {
        "id": "gD9WP3pDAonU"
      },
      "source": [
        "# **1D Models**"
      ]
    },
    {
      "cell_type": "markdown",
      "metadata": {
        "id": "rYdQ3okggpyy"
      },
      "source": [
        "### Imports"
      ]
    },
    {
      "cell_type": "code",
      "execution_count": 1,
      "metadata": {
        "id": "lOrpkoOP03_D"
      },
      "outputs": [],
      "source": [
        "import tensorflow as tf\n",
        "from tensorflow import keras\n",
        "from tensorflow.keras import layers\n",
        "from tensorflow.keras.models import Sequential, load_model"
      ]
    },
    {
      "cell_type": "markdown",
      "metadata": {
        "id": "gia9vgSPy6Ts"
      },
      "source": [
        "### Model 1 : Pdf Model (Done)"
      ]
    },
    {
      "cell_type": "code",
      "execution_count": 2,
      "metadata": {
        "id": "k8CMp_8F0mNV"
      },
      "outputs": [],
      "source": [
        "def conv_1d():\n",
        "  \n",
        "  model = tf.keras.Sequential()\n",
        "\n",
        "  model.add(layers.Conv1D(512, kernel_size=(5), activation='relu', input_shape=(X_train.shape[1],1),strides=(1)))\n",
        "  model.add(layers.MaxPooling1D(pool_size=(5),strides=(2)))\n",
        "  model.add(layers.Dropout(0.2))\n",
        "\n",
        "  model.add(layers.Conv1D(512, kernel_size=(5), activation='relu', strides=(1)))\n",
        "  model.add(layers.MaxPooling1D(pool_size=(5),strides=(2)))\n",
        "  model.add(layers.Dropout(0.2))\n",
        "\n",
        "  model.add(layers.Conv1D(128, kernel_size=(5), activation='relu', strides=(1)))\n",
        "  model.add(layers.MaxPooling1D(pool_size=(5), strides=(2)))\n",
        "  model.add(layers.Dropout(0.2))\n",
        "\n",
        "  model.add(layers.Flatten())\n",
        "  model.add(layers.Dense(256, activation='relu'))\n",
        "  model.add(layers.Dropout(0.4))\n",
        "  model.add(layers.Dense(6, activation='softmax'))\n",
        "  opt = keras.optimizers.Adam(lr=0.001)\n",
        "  model.compile(loss='categorical_crossentropy', optimizer=opt, metrics=['accuracy'])\n",
        "  model.summary()\n",
        "  return model"
      ]
    },
    {
      "cell_type": "markdown",
      "metadata": {
        "id": "cOmw59OUy-I4"
      },
      "source": [
        "### Model 2 (Done)"
      ]
    },
    {
      "cell_type": "code",
      "execution_count": 3,
      "metadata": {
        "id": "Md-n_FSvTl7P"
      },
      "outputs": [],
      "source": [
        "def conv_1d():\n",
        "  CNN_model = Sequential()\n",
        "\n",
        "  CNN_model.add(layers.Conv1D(16, 5, padding='same',\n",
        "                  input_shape=(X_train.shape[1],1), activation='relu'))\n",
        "\n",
        "  CNN_model.add(layers.Conv1D(32, 5,padding='same',activation='relu'))\n",
        "\n",
        "  CNN_model.add(layers.Conv1D(64, 5,padding='same',activation='relu'))\n",
        "\n",
        "  CNN_model.add(layers.Conv1D(128, 5,padding='same',activation='relu'))\n",
        "\n",
        "  CNN_model.add(layers.Dropout(0.1))\n",
        "\n",
        "  CNN_model.add(layers.Flatten())\n",
        "\n",
        "  CNN_model.add(layers.Dense(128, activation ='relu'))\n",
        "  CNN_model.add(layers.Dropout(0.1))\n",
        "  CNN_model.add(layers.Dense(256, activation ='relu'))\n",
        "  CNN_model.add(layers.Dense(6, activation='softmax'))\n",
        "  CNN_model.compile(loss = 'categorical_crossentropy',\n",
        "                  optimizer = 'Adam',\n",
        "                  metrics = ['accuracy'])\n",
        "  CNN_model.summary()\n",
        "\n",
        "  return CNN_model"
      ]
    },
    {
      "cell_type": "markdown",
      "metadata": {
        "id": "WExEmktvzKl7"
      },
      "source": [
        "### Model 3"
      ]
    },
    {
      "cell_type": "code",
      "execution_count": 4,
      "metadata": {
        "id": "Gvkg6tobywls"
      },
      "outputs": [],
      "source": [
        "def conv_1d():\n",
        "  CNN_model = Sequential()\n",
        "\n",
        "  CNN_model.add(layers.Conv1D(512, kernel_size=(5), activation='relu', \n",
        "                              input_shape=(X_train.shape[1],1),strides=(1)))\n",
        "\n",
        "  CNN_model.add(layers.Conv1D(128, 5, padding='same', activation='relu'))\n",
        "\n",
        "  CNN_model.add(layers.Conv1D(32, 5, padding='same', activation='relu'))\n",
        "\n",
        "  CNN_model.add(layers.Conv1D(64, 5, padding='same', activation='relu'))\n",
        "\n",
        "  CNN_model.add(layers.Conv1D(128, 5, padding='same', activation='relu'))\n",
        "\n",
        "  CNN_model.add(layers.Dropout(0.1))\n",
        "\n",
        "  CNN_model.add(layers.Flatten())\n",
        "\n",
        "  CNN_model.add(layers.Dense(128, activation ='relu'))\n",
        "  CNN_model.add(layers.Dropout(0.1))\n",
        "  CNN_model.add(layers.Dense(256, activation ='relu'))\n",
        "  CNN_model.add(layers.Dense(6, activation='softmax'))\n",
        "  CNN_model.compile(loss = 'categorical_crossentropy',\n",
        "                  optimizer = 'Adam',\n",
        "                  metrics = ['accuracy'])\n",
        "  CNN_model.summary()\n",
        "\n",
        "  return CNN_model"
      ]
    },
    {
      "cell_type": "markdown",
      "metadata": {
        "id": "t6QNOgbdDzs6"
      },
      "source": [
        "### Model 4 ( AlexNet Model )\n"
      ]
    },
    {
      "cell_type": "code",
      "execution_count": 5,
      "metadata": {
        "id": "2BjY9_RHDzs7"
      },
      "outputs": [],
      "source": [
        "def conv_1d():\n",
        "  CNN_model = Sequential()\n",
        "\n",
        "  CNN_model.add(layers.Conv1D(96, kernel_size=(11), activation='relu', \n",
        "                              input_shape=(X_train.shape[1],1)\n",
        "                              ,strides=(1)))\n",
        "\n",
        "  CNN_model.add(layers.Conv1D(256, 3, padding='same', activation='relu'))\n",
        "\n",
        "  CNN_model.add(layers.MaxPooling1D(pool_size=(5),strides=(2)))\n",
        "\n",
        "  CNN_model.add(layers.Conv1D(384, 3, padding='same', activation='relu'))\n",
        "\n",
        "  CNN_model.add(layers.MaxPooling1D(pool_size=(5),strides=(2)))\n",
        "\n",
        "  CNN_model.add(layers.Conv1D(384, 3, padding='same', activation='relu'))\n",
        "\n",
        "  CNN_model.add(layers.Conv1D(256, 3, padding='same', activation='relu'))\n",
        "\n",
        "  CNN_model.add(layers.MaxPooling1D(pool_size=(5),strides=(2)))\n",
        "\n",
        "  CNN_model.add(layers.Flatten())\n",
        "\n",
        "  CNN_model.add(layers.Dense(4096, activation ='relu'))\n",
        "  CNN_model.add(layers.Dropout(0.1))\n",
        "  CNN_model.add(layers.Dense(4096, activation ='relu'))\n",
        "  CNN_model.add(layers.Dense(4096, activation='relu'))\n",
        "  CNN_model.add(layers.Dense(1000, activation='relu'))\n",
        "  CNN_model.add(layers.Dense(6, activation='softmax'))\n",
        "\n",
        "  CNN_model.compile(loss = 'categorical_crossentropy',\n",
        "                  optimizer = 'Adam',\n",
        "                  metrics = ['accuracy'])\n",
        "  CNN_model.summary()\n",
        "\n",
        "  return CNN_model"
      ]
    },
    {
      "cell_type": "markdown",
      "metadata": {
        "id": "X5xB8uU-HEBq"
      },
      "source": [
        "### Model 5 ( VGG 16 )\n"
      ]
    },
    {
      "cell_type": "code",
      "execution_count": 6,
      "metadata": {
        "id": "AwhGhVDtHNO2"
      },
      "outputs": [],
      "source": [
        "def conv_1d():\n",
        "  CNN_model = Sequential()\n",
        "\n",
        "  CNN_model.add(layers.Conv1D(64, kernel_size=(3), activation='relu', \n",
        "                              input_shape=(X_train.shape[1],1)\n",
        "                              ,strides=(1)))\n",
        "\n",
        "  CNN_model.add(layers.Conv1D(64, 3, padding='same', activation='relu'))\n",
        "\n",
        "  CNN_model.add(layers.MaxPooling1D(pool_size=(5),strides=(2)))\n",
        "\n",
        "  CNN_model.add(layers.Conv1D(128, 3, padding='same', activation='relu'))\n",
        "\n",
        "  CNN_model.add(layers.Conv1D(128, 3, padding='same', activation='relu'))\n",
        "\n",
        "  CNN_model.add(layers.MaxPooling1D(pool_size=(5),strides=(2)))\n",
        "\n",
        "  CNN_model.add(layers.Conv1D(512, 3, padding='same', activation='relu'))\n",
        "\n",
        "  CNN_model.add(layers.Conv1D(512, 3, padding='same', activation='relu'))\n",
        "\n",
        "  CNN_model.add(layers.Conv1D(512, 3, padding='same', activation='relu'))\n",
        "\n",
        "  CNN_model.add(layers.MaxPooling1D(pool_size=(5),strides=(2)))\n",
        "\n",
        "  CNN_model.add(layers.Conv1D(512, 3, padding='same', activation='relu'))\n",
        "\n",
        "  CNN_model.add(layers.Conv1D(512, 3, padding='same', activation='relu'))\n",
        "  \n",
        "  CNN_model.add(layers.Conv1D(512, 3, padding='same', activation='relu'))\n",
        "\n",
        "  CNN_model.add(layers.MaxPooling1D(pool_size=(5),strides=(2)))\n",
        "\n",
        "  CNN_model.add(layers.Flatten())\n",
        "\n",
        "  CNN_model.add(layers.Dense(4096, activation ='relu'))\n",
        "  CNN_model.add(layers.Dense(4096, activation ='relu'))\n",
        "  CNN_model.add(layers.Dense(1000, activation='relu'))\n",
        "  CNN_model.add(layers.Dense(6, activation='softmax'))\n",
        "\n",
        "  CNN_model.compile(loss = 'categorical_crossentropy',\n",
        "                  optimizer = 'Adam',\n",
        "                  metrics = ['accuracy'])\n",
        "  CNN_model.summary()\n",
        "\n",
        "  return CNN_model"
      ]
    },
    {
      "cell_type": "markdown",
      "metadata": {
        "id": "AhV6GdCDjvv8"
      },
      "source": [
        "### Run Model"
      ]
    },
    {
      "cell_type": "code",
      "execution_count": 7,
      "metadata": {
        "id": "2abYG3QR1-jP",
        "colab": {
          "base_uri": "https://localhost:8080/",
          "height": 357
        },
        "outputId": "ac351494-1194-4852-dc5c-e49e9a457a71"
      },
      "outputs": [
        {
          "output_type": "error",
          "ename": "NameError",
          "evalue": "ignored",
          "traceback": [
            "\u001b[0;31m---------------------------------------------------------------------------\u001b[0m",
            "\u001b[0;31mNameError\u001b[0m                                 Traceback (most recent call last)",
            "\u001b[0;32m<ipython-input-7-2341037d5f9e>\u001b[0m in \u001b[0;36m<module>\u001b[0;34m()\u001b[0m\n\u001b[0;32m----> 1\u001b[0;31m \u001b[0mmodel\u001b[0m \u001b[0;34m=\u001b[0m \u001b[0mconv_1d\u001b[0m\u001b[0;34m(\u001b[0m\u001b[0;34m)\u001b[0m\u001b[0;34m\u001b[0m\u001b[0;34m\u001b[0m\u001b[0m\n\u001b[0m\u001b[1;32m      2\u001b[0m model.fit(X_train, Y_train, \n\u001b[1;32m      3\u001b[0m           \u001b[0mepochs\u001b[0m\u001b[0;34m=\u001b[0m\u001b[0;36m100\u001b[0m\u001b[0;34m,\u001b[0m\u001b[0;34m\u001b[0m\u001b[0;34m\u001b[0m\u001b[0m\n\u001b[1;32m      4\u001b[0m           \u001b[0mbatch_size\u001b[0m\u001b[0;34m=\u001b[0m\u001b[0;36m60\u001b[0m\u001b[0;34m,\u001b[0m\u001b[0;34m\u001b[0m\u001b[0;34m\u001b[0m\u001b[0m\n\u001b[1;32m      5\u001b[0m           validation_data=(X_validation, Y_validation))\n",
            "\u001b[0;32m<ipython-input-6-60f0ec6f3473>\u001b[0m in \u001b[0;36mconv_1d\u001b[0;34m()\u001b[0m\n\u001b[1;32m      3\u001b[0m \u001b[0;34m\u001b[0m\u001b[0m\n\u001b[1;32m      4\u001b[0m   CNN_model.add(layers.Conv1D(64, kernel_size=(3), activation='relu', \n\u001b[0;32m----> 5\u001b[0;31m                               \u001b[0minput_shape\u001b[0m\u001b[0;34m=\u001b[0m\u001b[0;34m(\u001b[0m\u001b[0mX_train\u001b[0m\u001b[0;34m.\u001b[0m\u001b[0mshape\u001b[0m\u001b[0;34m[\u001b[0m\u001b[0;36m1\u001b[0m\u001b[0;34m]\u001b[0m\u001b[0;34m,\u001b[0m\u001b[0;36m1\u001b[0m\u001b[0;34m)\u001b[0m\u001b[0;34m\u001b[0m\u001b[0;34m\u001b[0m\u001b[0m\n\u001b[0m\u001b[1;32m      6\u001b[0m                               ,strides=(1)))\n\u001b[1;32m      7\u001b[0m \u001b[0;34m\u001b[0m\u001b[0m\n",
            "\u001b[0;31mNameError\u001b[0m: name 'X_train' is not defined"
          ]
        }
      ],
      "source": [
        "model = conv_1d()\n",
        "model.fit(X_train, Y_train, \n",
        "          epochs=100, \n",
        "          batch_size=60,\n",
        "          validation_data=(X_validation, Y_validation))"
      ]
    },
    {
      "cell_type": "markdown",
      "metadata": {
        "id": "NlIr2c0TevE7"
      },
      "source": [
        "# **Big Picture**"
      ]
    },
    {
      "cell_type": "markdown",
      "metadata": {
        "id": "g-CGCJT2ZT7o"
      },
      "source": [
        "### Calculate Accuracy ansd F Score For each Class"
      ]
    },
    {
      "cell_type": "code",
      "execution_count": null,
      "metadata": {
        "id": "92oXP2nDZ2yp"
      },
      "outputs": [],
      "source": [
        "from sklearn.metrics import f1_score\n",
        "from sklearn.metrics import confusion_matrix\n",
        "from sklearn.metrics import multilabel_confusion_matrix\n",
        "from sklearn.metrics import classification_report"
      ]
    },
    {
      "cell_type": "code",
      "execution_count": null,
      "metadata": {
        "id": "_UFTxRzOaHU5"
      },
      "outputs": [],
      "source": [
        "prediction = np.argmax(model.predict(X_test), axis=1)\n",
        "\n",
        "actual = np.argmax(Y_test, axis=1)"
      ]
    },
    {
      "cell_type": "code",
      "execution_count": null,
      "metadata": {
        "id": "wSUzhWzEOixO"
      },
      "outputs": [],
      "source": [
        "print(\"Accuracy: \")\n",
        "print(model.evaluate(X_test, Y_test)[1]*100)"
      ]
    },
    {
      "cell_type": "code",
      "execution_count": null,
      "metadata": {
        "id": "zL3fNTc9ZzE_"
      },
      "outputs": [],
      "source": [
        "print(\"F_Score: \")\n",
        "f_score = f1_score(actual, prediction, average=None)\n",
        "print(f_score)"
      ]
    },
    {
      "cell_type": "markdown",
      "metadata": {
        "id": "mpAl-52bZKlp"
      },
      "source": [
        "### Plot the confusion matrices and find the most confusing classes"
      ]
    },
    {
      "cell_type": "code",
      "execution_count": null,
      "metadata": {
        "id": "9r2AWCWswG8a"
      },
      "outputs": [],
      "source": [
        "mcm = confusion_matrix(actual, prediction)\n",
        "\n",
        "print(\"Most Confusing Class is \" + str(np.argmin(f_score)))\n",
        "print(\"\")\n",
        "plot_confusion_matrix(mcm, [0, 1, 2, 3, 4, 5])"
      ]
    },
    {
      "cell_type": "code",
      "execution_count": null,
      "metadata": {
        "id": "7dyzY36Ob99H"
      },
      "outputs": [],
      "source": [
        "import numpy as np\n",
        "\n",
        "\n",
        "def plot_confusion_matrix(cm,\n",
        "                          target_names,\n",
        "                          title='Confusion matrix',\n",
        "                          cmap=None,\n",
        "                          normalize=True):\n",
        "    import matplotlib.pyplot as plt\n",
        "    import numpy as np\n",
        "    import itertools\n",
        "\n",
        "    accuracy = np.trace(cm) / float(np.sum(cm))\n",
        "    misclass = 1 - accuracy\n",
        "\n",
        "    if cmap is None:\n",
        "        cmap = plt.get_cmap('Blues')\n",
        "\n",
        "    plt.figure(figsize=(8, 6))\n",
        "    plt.imshow(cm, interpolation='nearest', cmap=cmap)\n",
        "    plt.title(title)\n",
        "    plt.colorbar()\n",
        "\n",
        "    if target_names is not None:\n",
        "        tick_marks = np.arange(len(target_names))\n",
        "        plt.xticks(tick_marks, target_names, rotation=45)\n",
        "        plt.yticks(tick_marks, target_names)\n",
        "\n",
        "    if normalize:\n",
        "        cm = cm.astype('float') / cm.sum(axis=1)[:, np.newaxis]\n",
        "\n",
        "\n",
        "    thresh = cm.max() / 1.5 if normalize else cm.max() / 2\n",
        "    for i, j in itertools.product(range(cm.shape[0]), range(cm.shape[1])):\n",
        "        if normalize:\n",
        "            plt.text(j, i, \"{:0.4f}\".format(cm[i, j]),\n",
        "                     horizontalalignment=\"center\",\n",
        "                     color=\"white\" if cm[i, j] > thresh else \"black\")\n",
        "        else:\n",
        "            plt.text(j, i, \"{:,}\".format(cm[i, j]),\n",
        "                     horizontalalignment=\"center\",\n",
        "                     color=\"white\" if cm[i, j] > thresh else \"black\")\n",
        "\n",
        "\n",
        "    plt.tight_layout()\n",
        "    plt.ylabel('True label')\n",
        "    plt.xlabel('Predicted label\\naccuracy={:0.4f};      misclass={:0.4f}'.format(accuracy, misclass))\n",
        "    plt.show()"
      ]
    },
    {
      "cell_type": "markdown",
      "metadata": {
        "id": "2riw2Ldyt5qw"
      },
      "source": [
        "# **Trial**"
      ]
    },
    {
      "cell_type": "code",
      "execution_count": null,
      "metadata": {
        "id": "MbcrUXNqt2uU"
      },
      "outputs": [],
      "source": [
        "from os import path\n",
        "from pydub import AudioSegment\n",
        "\n",
        "# files\n",
        "src = input(\"In: \")\n",
        "dst = input(\"Out: \")\n",
        "\n",
        "# convert mp3 to wav\n",
        "sound = AudioSegment.from_mp3(src)\n",
        "sound.export(dst, format=\"wav\")"
      ]
    },
    {
      "cell_type": "markdown",
      "metadata": {
        "id": "Cp9BFJdcZEiu"
      },
      "source": [
        "# **2D Feature Space**"
      ]
    },
    {
      "cell_type": "code",
      "execution_count": null,
      "metadata": {
        "id": "3fXF2NCCZEiv"
      },
      "outputs": [],
      "source": [
        "from tensorflow.keras.optimizers import SGD\n",
        "from keras.datasets import cifar10\n",
        "from keras.models import Sequential\n",
        "from keras.utils import np_utils as utils\n",
        "from keras.layers import Dropout, Dense, Flatten\n",
        "from keras.layers.convolutional import Conv2D, MaxPooling2D\n",
        "import numpy as np\n",
        "import matplotlib.pyplot as plt\n",
        "%matplotlib inline\n",
        "from tensorflow.keras.preprocessing.image import ImageDataGenerator\n",
        "import tensorflow as tf\n",
        "from sklearn.metrics import confusion_matrix\n",
        "import seaborn as sns\n",
        "from keras.preprocessing import image\n",
        "from tensorflow.keras.models import load_model\n",
        "from sklearn.model_selection import train_test_split\n",
        "import statistics\n",
        "import math\n",
        "from sklearn.preprocessing import LabelEncoder\n",
        "from tensorflow.keras.utils import to_categorical\n",
        "from tensorflow.keras import layers"
      ]
    },
    {
      "cell_type": "markdown",
      "metadata": {
        "id": "Qt5KRZZgZEiw"
      },
      "source": [
        "### Augmentation Functions\n"
      ]
    },
    {
      "cell_type": "code",
      "execution_count": null,
      "metadata": {
        "id": "jdUrfwubZEiw"
      },
      "outputs": [],
      "source": [
        "def add_white_noise(signal, noise_percentage_factor):\n",
        "    noise = np.random.normal(0, signal.std(), signal.size)\n",
        "    augmented_signal = signal + noise * noise_percentage_factor\n",
        "    return augmented_signal"
      ]
    },
    {
      "cell_type": "code",
      "execution_count": null,
      "metadata": {
        "id": "emmPPK-8ZEix"
      },
      "outputs": [],
      "source": [
        "def time_stretch(signal, time_stretch_rate):\n",
        "    return librosa.effects.time_stretch(signal, time_stretch_rate)"
      ]
    },
    {
      "cell_type": "code",
      "execution_count": null,
      "metadata": {
        "id": "PYUgDUZyZEiy"
      },
      "outputs": [],
      "source": [
        "def pitch_scale(signal, sr, num_semitones):\n",
        "    return librosa.effects.pitch_shift(signal, sr, num_semitones)"
      ]
    },
    {
      "cell_type": "markdown",
      "metadata": {
        "id": "6V-zfFr2esm9"
      },
      "source": [
        "### First way (saving as images and load them)"
      ]
    },
    {
      "cell_type": "markdown",
      "metadata": {
        "id": "GRMAyB5FyxmW"
      },
      "source": [
        "#### Delete Folders"
      ]
    },
    {
      "cell_type": "code",
      "execution_count": null,
      "metadata": {
        "id": "W1IlpnbG5Tjt"
      },
      "outputs": [],
      "source": [
        "# %rm -rf melspec"
      ]
    },
    {
      "cell_type": "markdown",
      "metadata": {
        "id": "NK1eH5N7y2g6"
      },
      "source": [
        "#### Create Folders"
      ]
    },
    {
      "cell_type": "code",
      "execution_count": null,
      "metadata": {
        "id": "dIYKhhAnhGEs"
      },
      "outputs": [],
      "source": [
        "import os\n",
        "\n",
        "path = \"/content/melspec\"\n",
        "os.mkdir(path)\n",
        "path = \"/content/melspec/angry\"\n",
        "os.mkdir(path)\n",
        "path = \"/content/melspec/sad\"\n",
        "os.mkdir(path)\n",
        "path = \"/content/melspec/happy\"\n",
        "os.mkdir(path)\n",
        "path = \"/content/melspec/disappointed\"\n",
        "os.mkdir(path)\n",
        "path = \"/content/melspec/fear\"\n",
        "os.mkdir(path)\n",
        "path = \"/content/melspec/neutral\"\n",
        "os.mkdir(path)"
      ]
    },
    {
      "cell_type": "code",
      "execution_count": null,
      "metadata": {
        "colab": {
          "base_uri": "https://localhost:8080/"
        },
        "id": "JxysIvB0HFdg",
        "outputId": "fd2dc472-d43e-42f0-e5db-3ad687fa5d95"
      },
      "outputs": [
        {
          "data": {
            "image/png": "[encoded data removed]",
            "text/plain": [
              "<Figure size 432x288 with 1 Axes>"
            ]
          },
          "metadata": {},
          "output_type": "display_data"
        },
        {
          "data": {
            "text/html": [
              "\n",
              "  <div id=\"df-caf4861f-2e94-497e-87c1-fb4ebb262eeb\">\n",
              "    <div class=\"colab-df-container\">\n",
              "      <div>\n",
              "<style scoped>\n",
              "    .dataframe tbody tr th:only-of-type {\n",
              "        vertical-align: middle;\n",
              "    }\n",
              "\n",
              "    .dataframe tbody tr th {\n",
              "        vertical-align: top;\n",
              "    }\n",
              "\n",
              "    .dataframe thead th {\n",
              "        text-align: right;\n",
              "    }\n",
              "</style>\n",
              "<table border=\"1\" class=\"dataframe\">\n",
              "  <thead>\n",
              "    <tr style=\"text-align: right;\">\n",
              "      <th></th>\n",
              "      <th>0</th>\n",
              "      <th>1</th>\n",
              "      <th>2</th>\n",
              "      <th>3</th>\n",
              "      <th>4</th>\n",
              "      <th>5</th>\n",
              "      <th>6</th>\n",
              "      <th>7</th>\n",
              "      <th>8</th>\n",
              "      <th>9</th>\n",
              "      <th>...</th>\n",
              "      <th>62</th>\n",
              "      <th>63</th>\n",
              "      <th>64</th>\n",
              "      <th>65</th>\n",
              "      <th>66</th>\n",
              "      <th>67</th>\n",
              "      <th>68</th>\n",
              "      <th>69</th>\n",
              "      <th>70</th>\n",
              "      <th>71</th>\n",
              "    </tr>\n",
              "  </thead>\n",
              "  <tbody>\n",
              "    <tr>\n",
              "      <th>0</th>\n",
              "      <td>-31.029388</td>\n",
              "      <td>-31.029388</td>\n",
              "      <td>-31.029388</td>\n",
              "      <td>-31.029388</td>\n",
              "      <td>-31.029388</td>\n",
              "      <td>-31.029388</td>\n",
              "      <td>-31.029388</td>\n",
              "      <td>-31.029388</td>\n",
              "      <td>-31.029388</td>\n",
              "      <td>-31.029388</td>\n",
              "      <td>...</td>\n",
              "      <td>-31.029388</td>\n",
              "      <td>-31.029388</td>\n",
              "      <td>-31.029388</td>\n",
              "      <td>-31.029388</td>\n",
              "      <td>-31.029388</td>\n",
              "      <td>-31.029388</td>\n",
              "      <td>-31.029388</td>\n",
              "      <td>-31.029388</td>\n",
              "      <td>-31.029388</td>\n",
              "      <td>-31.029388</td>\n",
              "    </tr>\n",
              "    <tr>\n",
              "      <th>1</th>\n",
              "      <td>-31.029388</td>\n",
              "      <td>-31.029388</td>\n",
              "      <td>-31.029388</td>\n",
              "      <td>-31.029388</td>\n",
              "      <td>-31.029388</td>\n",
              "      <td>-31.029388</td>\n",
              "      <td>-31.029388</td>\n",
              "      <td>-31.029388</td>\n",
              "      <td>-31.029388</td>\n",
              "      <td>-31.029388</td>\n",
              "      <td>...</td>\n",
              "      <td>-31.029388</td>\n",
              "      <td>-31.029388</td>\n",
              "      <td>-31.029388</td>\n",
              "      <td>-31.029388</td>\n",
              "      <td>-31.029388</td>\n",
              "      <td>-31.029388</td>\n",
              "      <td>-31.029388</td>\n",
              "      <td>-31.029388</td>\n",
              "      <td>-31.029388</td>\n",
              "      <td>-31.029388</td>\n",
              "    </tr>\n",
              "    <tr>\n",
              "      <th>2</th>\n",
              "      <td>-31.029388</td>\n",
              "      <td>-31.029388</td>\n",
              "      <td>-31.029388</td>\n",
              "      <td>-31.029388</td>\n",
              "      <td>-31.029388</td>\n",
              "      <td>-31.029388</td>\n",
              "      <td>-31.029388</td>\n",
              "      <td>-31.029388</td>\n",
              "      <td>-31.029388</td>\n",
              "      <td>-31.029388</td>\n",
              "      <td>...</td>\n",
              "      <td>-31.029388</td>\n",
              "      <td>-31.029388</td>\n",
              "      <td>-28.765499</td>\n",
              "      <td>-29.934116</td>\n",
              "      <td>-31.029388</td>\n",
              "      <td>-31.029388</td>\n",
              "      <td>-31.029388</td>\n",
              "      <td>-31.029388</td>\n",
              "      <td>-31.029388</td>\n",
              "      <td>-31.029388</td>\n",
              "    </tr>\n",
              "    <tr>\n",
              "      <th>3</th>\n",
              "      <td>-31.029388</td>\n",
              "      <td>-31.029388</td>\n",
              "      <td>-31.029388</td>\n",
              "      <td>-31.029388</td>\n",
              "      <td>-28.974932</td>\n",
              "      <td>-22.468418</td>\n",
              "      <td>-25.174671</td>\n",
              "      <td>-22.052307</td>\n",
              "      <td>-21.853062</td>\n",
              "      <td>-31.029388</td>\n",
              "      <td>...</td>\n",
              "      <td>-27.625393</td>\n",
              "      <td>-25.022465</td>\n",
              "      <td>-22.212254</td>\n",
              "      <td>-20.763462</td>\n",
              "      <td>-26.680948</td>\n",
              "      <td>-27.081490</td>\n",
              "      <td>-27.670593</td>\n",
              "      <td>-31.029388</td>\n",
              "      <td>-31.029388</td>\n",
              "      <td>-30.628950</td>\n",
              "    </tr>\n",
              "    <tr>\n",
              "      <th>4</th>\n",
              "      <td>-31.029388</td>\n",
              "      <td>-27.037201</td>\n",
              "      <td>-24.304409</td>\n",
              "      <td>-31.029388</td>\n",
              "      <td>-29.227392</td>\n",
              "      <td>-26.809952</td>\n",
              "      <td>-27.783161</td>\n",
              "      <td>-30.659941</td>\n",
              "      <td>-29.384464</td>\n",
              "      <td>-30.010853</td>\n",
              "      <td>...</td>\n",
              "      <td>-31.029388</td>\n",
              "      <td>-30.547764</td>\n",
              "      <td>-28.286669</td>\n",
              "      <td>-31.029388</td>\n",
              "      <td>-29.081057</td>\n",
              "      <td>-31.029388</td>\n",
              "      <td>-30.928070</td>\n",
              "      <td>-31.029388</td>\n",
              "      <td>-31.029388</td>\n",
              "      <td>-31.029388</td>\n",
              "    </tr>\n",
              "    <tr>\n",
              "      <th>...</th>\n",
              "      <td>...</td>\n",
              "      <td>...</td>\n",
              "      <td>...</td>\n",
              "      <td>...</td>\n",
              "      <td>...</td>\n",
              "      <td>...</td>\n",
              "      <td>...</td>\n",
              "      <td>...</td>\n",
              "      <td>...</td>\n",
              "      <td>...</td>\n",
              "      <td>...</td>\n",
              "      <td>...</td>\n",
              "      <td>...</td>\n",
              "      <td>...</td>\n",
              "      <td>...</td>\n",
              "      <td>...</td>\n",
              "      <td>...</td>\n",
              "      <td>...</td>\n",
              "      <td>...</td>\n",
              "      <td>...</td>\n",
              "      <td>...</td>\n",
              "    </tr>\n",
              "    <tr>\n",
              "      <th>123</th>\n",
              "      <td>-31.029388</td>\n",
              "      <td>-31.029388</td>\n",
              "      <td>-31.029388</td>\n",
              "      <td>-31.029388</td>\n",
              "      <td>-31.029388</td>\n",
              "      <td>-31.029388</td>\n",
              "      <td>-31.029388</td>\n",
              "      <td>-31.029388</td>\n",
              "      <td>-31.029388</td>\n",
              "      <td>-31.029388</td>\n",
              "      <td>...</td>\n",
              "      <td>-31.029388</td>\n",
              "      <td>-31.029388</td>\n",
              "      <td>-31.029388</td>\n",
              "      <td>-31.029388</td>\n",
              "      <td>-31.029388</td>\n",
              "      <td>-31.029388</td>\n",
              "      <td>-31.029388</td>\n",
              "      <td>-31.029388</td>\n",
              "      <td>-31.029388</td>\n",
              "      <td>-31.029388</td>\n",
              "    </tr>\n",
              "    <tr>\n",
              "      <th>124</th>\n",
              "      <td>-31.029388</td>\n",
              "      <td>-31.029388</td>\n",
              "      <td>-31.029388</td>\n",
              "      <td>-31.029388</td>\n",
              "      <td>-31.029388</td>\n",
              "      <td>-31.029388</td>\n",
              "      <td>-31.029388</td>\n",
              "      <td>-31.029388</td>\n",
              "      <td>-31.029388</td>\n",
              "      <td>-31.029388</td>\n",
              "      <td>...</td>\n",
              "      <td>-31.029388</td>\n",
              "      <td>-31.029388</td>\n",
              "      <td>-31.029388</td>\n",
              "      <td>-31.029388</td>\n",
              "      <td>-31.029388</td>\n",
              "      <td>-31.029388</td>\n",
              "      <td>-31.029388</td>\n",
              "      <td>-31.029388</td>\n",
              "      <td>-31.029388</td>\n",
              "      <td>-31.029388</td>\n",
              "    </tr>\n",
              "    <tr>\n",
              "      <th>125</th>\n",
              "      <td>-31.029388</td>\n",
              "      <td>-31.029388</td>\n",
              "      <td>-31.029388</td>\n",
              "      <td>-31.029388</td>\n",
              "      <td>-31.029388</td>\n",
              "      <td>-31.029388</td>\n",
              "      <td>-31.029388</td>\n",
              "      <td>-31.029388</td>\n",
              "      <td>-31.029388</td>\n",
              "      <td>-31.029388</td>\n",
              "      <td>...</td>\n",
              "      <td>-31.029388</td>\n",
              "      <td>-31.029388</td>\n",
              "      <td>-31.029388</td>\n",
              "      <td>-31.029388</td>\n",
              "      <td>-31.029388</td>\n",
              "      <td>-31.029388</td>\n",
              "      <td>-31.029388</td>\n",
              "      <td>-31.029388</td>\n",
              "      <td>-31.029388</td>\n",
              "      <td>-31.029388</td>\n",
              "    </tr>\n",
              "    <tr>\n",
              "      <th>126</th>\n",
              "      <td>-31.029388</td>\n",
              "      <td>-31.029388</td>\n",
              "      <td>-31.029388</td>\n",
              "      <td>-31.029388</td>\n",
              "      <td>-31.029388</td>\n",
              "      <td>-31.029388</td>\n",
              "      <td>-31.029388</td>\n",
              "      <td>-31.029388</td>\n",
              "      <td>-31.029388</td>\n",
              "      <td>-31.029388</td>\n",
              "      <td>...</td>\n",
              "      <td>-31.029388</td>\n",
              "      <td>-31.029388</td>\n",
              "      <td>-31.029388</td>\n",
              "      <td>-31.029388</td>\n",
              "      <td>-31.029388</td>\n",
              "      <td>-31.029388</td>\n",
              "      <td>-31.029388</td>\n",
              "      <td>-31.029388</td>\n",
              "      <td>-31.029388</td>\n",
              "      <td>-31.029388</td>\n",
              "    </tr>\n",
              "    <tr>\n",
              "      <th>127</th>\n",
              "      <td>-31.029388</td>\n",
              "      <td>-31.029388</td>\n",
              "      <td>-31.029388</td>\n",
              "      <td>-31.029388</td>\n",
              "      <td>-31.029388</td>\n",
              "      <td>-31.029388</td>\n",
              "      <td>-31.029388</td>\n",
              "      <td>-31.029388</td>\n",
              "      <td>-31.029388</td>\n",
              "      <td>-31.029388</td>\n",
              "      <td>...</td>\n",
              "      <td>-31.029388</td>\n",
              "      <td>-31.029388</td>\n",
              "      <td>-31.029388</td>\n",
              "      <td>-31.029388</td>\n",
              "      <td>-31.029388</td>\n",
              "      <td>-31.029388</td>\n",
              "      <td>-31.029388</td>\n",
              "      <td>-31.029388</td>\n",
              "      <td>-31.029388</td>\n",
              "      <td>-31.029388</td>\n",
              "    </tr>\n",
              "  </tbody>\n",
              "</table>\n",
              "<p>128 rows × 72 columns</p>\n",
              "</div>\n",
              "      <button class=\"colab-df-convert\" onclick=\"convertToInteractive('df-caf4861f-2e94-497e-87c1-fb4ebb262eeb')\"\n",
              "              title=\"Convert this dataframe to an interactive table.\"\n",
              "              style=\"display:none;\">\n",
              "        \n",
              "  <svg xmlns=\"http://www.w3.org/2000/svg\" height=\"24px\"viewBox=\"0 0 24 24\"\n",
              "       width=\"24px\">\n",
              "    <path d=\"M0 0h24v24H0V0z\" fill=\"none\"/>\n",
              "    <path d=\"M18.56 5.44l.94 2.06.94-2.06 2.06-.94-2.06-.94-.94-2.06-.94 2.06-2.06.94zm-11 1L8.5 8.5l.94-2.06 2.06-.94-2.06-.94L8.5 2.5l-.94 2.06-2.06.94zm10 10l.94 2.06.94-2.06 2.06-.94-2.06-.94-.94-2.06-.94 2.06-2.06.94z\"/><path d=\"M17.41 7.96l-1.37-1.37c-.4-.4-.92-.59-1.43-.59-.52 0-1.04.2-1.43.59L10.3 9.45l-7.72 7.72c-.78.78-.78 2.05 0 2.83L4 21.41c.39.39.9.59 1.41.59.51 0 1.02-.2 1.41-.59l7.78-7.78 2.81-2.81c.8-.78.8-2.07 0-2.86zM5.41 20L4 18.59l7.72-7.72 1.47 1.35L5.41 20z\"/>\n",
              "  </svg>\n",
              "      </button>\n",
              "      \n",
              "  <style>\n",
              "    .colab-df-container {\n",
              "      display:flex;\n",
              "      flex-wrap:wrap;\n",
              "      gap: 12px;\n",
              "    }\n",
              "\n",
              "    .colab-df-convert {\n",
              "      background-color: #E8F0FE;\n",
              "      border: none;\n",
              "      border-radius: 50%;\n",
              "      cursor: pointer;\n",
              "      display: none;\n",
              "      fill: #1967D2;\n",
              "      height: 32px;\n",
              "      padding: 0 0 0 0;\n",
              "      width: 32px;\n",
              "    }\n",
              "\n",
              "    .colab-df-convert:hover {\n",
              "      background-color: #E2EBFA;\n",
              "      box-shadow: 0px 1px 2px rgba(60, 64, 67, 0.3), 0px 1px 3px 1px rgba(60, 64, 67, 0.15);\n",
              "      fill: #174EA6;\n",
              "    }\n",
              "\n",
              "    [theme=dark] .colab-df-convert {\n",
              "      background-color: #3B4455;\n",
              "      fill: #D2E3FC;\n",
              "    }\n",
              "\n",
              "    [theme=dark] .colab-df-convert:hover {\n",
              "      background-color: #434B5C;\n",
              "      box-shadow: 0px 1px 3px 1px rgba(0, 0, 0, 0.15);\n",
              "      filter: drop-shadow(0px 1px 2px rgba(0, 0, 0, 0.3));\n",
              "      fill: #FFFFFF;\n",
              "    }\n",
              "  </style>\n",
              "\n",
              "      <script>\n",
              "        const buttonEl =\n",
              "          document.querySelector('#df-caf4861f-2e94-497e-87c1-fb4ebb262eeb button.colab-df-convert');\n",
              "        buttonEl.style.display =\n",
              "          google.colab.kernel.accessAllowed ? 'block' : 'none';\n",
              "\n",
              "        async function convertToInteractive(key) {\n",
              "          const element = document.querySelector('#df-caf4861f-2e94-497e-87c1-fb4ebb262eeb');\n",
              "          const dataTable =\n",
              "            await google.colab.kernel.invokeFunction('convertToInteractive',\n",
              "                                                     [key], {});\n",
              "          if (!dataTable) return;\n",
              "\n",
              "          const docLinkHtml = 'Like what you see? Visit the ' +\n",
              "            '<a target=\"_blank\" href=https://colab.research.google.com/notebooks/data_table.ipynb>data table notebook</a>'\n",
              "            + ' to learn more about interactive tables.';\n",
              "          element.innerHTML = '';\n",
              "          dataTable['output_type'] = 'display_data';\n",
              "          await google.colab.output.renderOutput(dataTable, element);\n",
              "          const docLink = document.createElement('div');\n",
              "          docLink.innerHTML = docLinkHtml;\n",
              "          element.appendChild(docLink);\n",
              "        }\n",
              "      </script>\n",
              "    </div>\n",
              "  </div>\n",
              "  "
            ],
            "text/plain": [
              "            0          1          2          3          4          5   \\\n",
              "0   -31.029388 -31.029388 -31.029388 -31.029388 -31.029388 -31.029388   \n",
              "1   -31.029388 -31.029388 -31.029388 -31.029388 -31.029388 -31.029388   \n",
              "2   -31.029388 -31.029388 -31.029388 -31.029388 -31.029388 -31.029388   \n",
              "3   -31.029388 -31.029388 -31.029388 -31.029388 -28.974932 -22.468418   \n",
              "4   -31.029388 -27.037201 -24.304409 -31.029388 -29.227392 -26.809952   \n",
              "..         ...        ...        ...        ...        ...        ...   \n",
              "123 -31.029388 -31.029388 -31.029388 -31.029388 -31.029388 -31.029388   \n",
              "124 -31.029388 -31.029388 -31.029388 -31.029388 -31.029388 -31.029388   \n",
              "125 -31.029388 -31.029388 -31.029388 -31.029388 -31.029388 -31.029388   \n",
              "126 -31.029388 -31.029388 -31.029388 -31.029388 -31.029388 -31.029388   \n",
              "127 -31.029388 -31.029388 -31.029388 -31.029388 -31.029388 -31.029388   \n",
              "\n",
              "            6          7          8          9   ...         62         63  \\\n",
              "0   -31.029388 -31.029388 -31.029388 -31.029388  ... -31.029388 -31.029388   \n",
              "1   -31.029388 -31.029388 -31.029388 -31.029388  ... -31.029388 -31.029388   \n",
              "2   -31.029388 -31.029388 -31.029388 -31.029388  ... -31.029388 -31.029388   \n",
              "3   -25.174671 -22.052307 -21.853062 -31.029388  ... -27.625393 -25.022465   \n",
              "4   -27.783161 -30.659941 -29.384464 -30.010853  ... -31.029388 -30.547764   \n",
              "..         ...        ...        ...        ...  ...        ...        ...   \n",
              "123 -31.029388 -31.029388 -31.029388 -31.029388  ... -31.029388 -31.029388   \n",
              "124 -31.029388 -31.029388 -31.029388 -31.029388  ... -31.029388 -31.029388   \n",
              "125 -31.029388 -31.029388 -31.029388 -31.029388  ... -31.029388 -31.029388   \n",
              "126 -31.029388 -31.029388 -31.029388 -31.029388  ... -31.029388 -31.029388   \n",
              "127 -31.029388 -31.029388 -31.029388 -31.029388  ... -31.029388 -31.029388   \n",
              "\n",
              "            64         65         66         67         68         69  \\\n",
              "0   -31.029388 -31.029388 -31.029388 -31.029388 -31.029388 -31.029388   \n",
              "1   -31.029388 -31.029388 -31.029388 -31.029388 -31.029388 -31.029388   \n",
              "2   -28.765499 -29.934116 -31.029388 -31.029388 -31.029388 -31.029388   \n",
              "3   -22.212254 -20.763462 -26.680948 -27.081490 -27.670593 -31.029388   \n",
              "4   -28.286669 -31.029388 -29.081057 -31.029388 -30.928070 -31.029388   \n",
              "..         ...        ...        ...        ...        ...        ...   \n",
              "123 -31.029388 -31.029388 -31.029388 -31.029388 -31.029388 -31.029388   \n",
              "124 -31.029388 -31.029388 -31.029388 -31.029388 -31.029388 -31.029388   \n",
              "125 -31.029388 -31.029388 -31.029388 -31.029388 -31.029388 -31.029388   \n",
              "126 -31.029388 -31.029388 -31.029388 -31.029388 -31.029388 -31.029388   \n",
              "127 -31.029388 -31.029388 -31.029388 -31.029388 -31.029388 -31.029388   \n",
              "\n",
              "            70         71  \n",
              "0   -31.029388 -31.029388  \n",
              "1   -31.029388 -31.029388  \n",
              "2   -31.029388 -31.029388  \n",
              "3   -31.029388 -30.628950  \n",
              "4   -31.029388 -31.029388  \n",
              "..         ...        ...  \n",
              "123 -31.029388 -31.029388  \n",
              "124 -31.029388 -31.029388  \n",
              "125 -31.029388 -31.029388  \n",
              "126 -31.029388 -31.029388  \n",
              "127 -31.029388 -31.029388  \n",
              "\n",
              "[128 rows x 72 columns]"
            ]
          },
          "execution_count": 12,
          "metadata": {},
          "output_type": "execute_result"
        }
      ],
      "source": [
        "samples, sampling_rate = librosa.load(\"/content/dataSet/Crema/1001_DFA_ANG_XX.wav\", sr = None, mono = True, offset = 0.0)\n",
        "\n",
        "# samples = samples[:100000] # shorten audio a bit for speed\n",
        "\n",
        "rbSpec = librosa.feature.melspectrogram(y = samples, sr = sampling_rate)\n",
        "\n",
        "# Convert amplitudes to dB\n",
        "\n",
        "rbSpec = librosa.amplitude_to_db(rbSpec)\n",
        "\n",
        "# For saving imgs\n",
        "librosa.display.specshow(rbSpec,cmap = 'magma', )\n",
        "plt.margins(0,0)\n",
        "plt.savefig(\"test.png\",bbox_inches='tight', pad_inches = 0)\n",
        "plt.show()\n",
        "d= pd.DataFrame(rbSpec)\n",
        "d"
      ]
    },
    {
      "cell_type": "markdown",
      "metadata": {
        "id": "msmr6mS8y55c"
      },
      "source": [
        "#### Generate and save melspectrogram images"
      ]
    },
    {
      "cell_type": "code",
      "execution_count": null,
      "metadata": {
        "id": "zCU1ZhVKbs76"
      },
      "outputs": [],
      "source": [
        "labels = df[\"Emotion\"]\n",
        "s = 0\n",
        "h = 0\n",
        "f = 0\n",
        "n = 0\n",
        "a = 0\n",
        "d = 0\n",
        "counter = 0\n",
        "\n",
        "for path in df[\"Path\"]:\n",
        "  # if counter < 121:\n",
        "    samples, sampling_rate = librosa.load(path, sr = None, mono = True, offset = 0.0)\n",
        "\n",
        "    # samples = samples[:100000] # shorten audio a bit for speed\n",
        "\n",
        "    rbSpec = librosa.feature.melspectrogram(y = samples, sr = sampling_rate)\n",
        "    \n",
        "    # Convert amplitudes to dB\n",
        "    \n",
        "    rbSpec = librosa.amplitude_to_db(rbSpec)\n",
        "\n",
        "    # For saving imgs\n",
        "\n",
        "    fig = plt.Figure()\n",
        "    canvas = FigureCanvas(fig)\n",
        "    ax = fig.add_subplot(111)\n",
        "    p = librosa.display.specshow(rbSpec, ax = ax, cmap = 'magma')\n",
        "    if (labels[counter] == \"ANG\"):\n",
        "      cl = \"angry\"\n",
        "      i = a\n",
        "      a += 1\n",
        "    elif (labels[counter] == \"HAP\"):\n",
        "      cl = \"happy\"\n",
        "      i = h\n",
        "      h += 1\n",
        "    elif (labels[counter] == \"FEA\"):\n",
        "      cl = \"fear\"\n",
        "      i = f\n",
        "      f += 1\n",
        "    elif (labels[counter] == \"NEU\"):\n",
        "      cl = \"neutral\"\n",
        "      i = n\n",
        "      n += 1\n",
        "    elif (labels[counter] == \"DIS\"):\n",
        "      cl = \"disappointed\"\n",
        "      i = d\n",
        "      d += 1\n",
        "    elif (labels[counter] == \"SAD\"):\n",
        "      cl = \"sad\"\n",
        "      i = s\n",
        "      s +=1\n",
        "    fig.savefig(\"/content/melspec/\" + cl + '/' + str(i) + \".png\", bbox_inches='tight', pad_inches = 0)\n",
        "    \n",
        "    counter+=1"
      ]
    },
    {
      "cell_type": "markdown",
      "metadata": {
        "id": "aPxr3uFfTVXf"
      },
      "source": [
        "### Second way (dealing with generated arrays)"
      ]
    },
    {
      "cell_type": "markdown",
      "metadata": {
        "id": "zXJghl7qU_3G"
      },
      "source": [
        "#### Get the mean of samples size"
      ]
    },
    {
      "cell_type": "markdown",
      "metadata": {
        "id": "IDMv9o2dvdU4"
      },
      "source": [
        "#### 1- Original data"
      ]
    },
    {
      "cell_type": "code",
      "execution_count": null,
      "metadata": {
        "id": "BEofkjQSTUZC"
      },
      "outputs": [],
      "source": [
        "## get length of samples\n",
        "def get_avg_len():\n",
        "  audios = []\n",
        "  for path in df[\"Path\"]:\n",
        "    # if counter < 121:\n",
        "      samples, sampling_rate = librosa.load(path, sr = None, mono = True, offset = 0.0)\n",
        "      audios.append(len(samples))\n",
        "\n",
        "  avg_len = math.floor(statistics.mean(audios))\n",
        "  return avg_len"
      ]
    },
    {
      "cell_type": "markdown",
      "metadata": {
        "id": "ZJCQFZIJvhMI"
      },
      "source": [
        "#### 2- With white noise"
      ]
    },
    {
      "cell_type": "code",
      "execution_count": null,
      "metadata": {
        "id": "VmBDMvaHvcl_"
      },
      "outputs": [],
      "source": [
        "## get length of samples\n",
        "def get_avg_len_with_white():\n",
        "  audios = []\n",
        "  for path in df[\"Path\"]:\n",
        "      samples, sampling_rate = librosa.load(path, sr = None, mono = True, offset = 0.0)\n",
        "      audios.append(len(samples))\n",
        "      augment_samples = librosa.effects.time_stretch(samples , .8)\n",
        "      audios.append(len(augment_samples))\n",
        "\n",
        "  avg_len = math.floor(statistics.mean(audios))\n",
        "  return avg_len"
      ]
    },
    {
      "cell_type": "markdown",
      "metadata": {
        "id": "VSR3Hf0mwDWn"
      },
      "source": [
        "#### 3- With white noise and pitch scale"
      ]
    },
    {
      "cell_type": "code",
      "execution_count": null,
      "metadata": {
        "id": "Kj7smXW9wP-Q"
      },
      "outputs": [],
      "source": [
        "## get length of samples\n",
        "def get_avg_len_with_white_stretch():\n",
        "  audios = []\n",
        "  for path in df[\"Path\"]:\n",
        "      samples, sampling_rate = librosa.load(path, sr = None, mono = True, offset = 0.0)\n",
        "      audios.append(len(samples))\n",
        "      augmented_signal = add_white_noise(samples, 0.1)\n",
        "      audios.append(len(augmented_signal))\n",
        "      aug_signal = pitch_scale(samples, sampling_rate, 2)\n",
        "      audios.append(len(aug_signal))\n",
        "\n",
        "  avg_len = math.floor(statistics.mean(audios))\n",
        "  return avg_len"
      ]
    },
    {
      "cell_type": "markdown",
      "metadata": {
        "id": "hRC0rYoZxjgt"
      },
      "source": [
        "4- With 3 layers of augmentation"
      ]
    },
    {
      "cell_type": "code",
      "execution_count": null,
      "metadata": {
        "id": "afsJAM2Axi9R"
      },
      "outputs": [],
      "source": [
        "## get length of samples\n",
        "def get_avg_len_with_layers():\n",
        "  audios = []\n",
        "  for path in df[\"Path\"]:\n",
        "      samples, sampling_rate = librosa.load(path, sr = None, mono = True, offset = 0.0)\n",
        "      audios.append(len(samples))\n",
        "      augmented_signal = add_white_noise(samples, 0.1)\n",
        "      audios.append(len(augmented_signal))\n",
        "      aug_signal = pitch_scale(samples, sampling_rate, 2)\n",
        "      audios.append(len(aug_signal))\n",
        "      augment_samples = librosa.effects.time_stretch(samples , .8)\n",
        "      audios.append(len(augment_samples))\n",
        "\n",
        "  avg_len = math.floor(statistics.mean(audios))\n",
        "  return avg_len"
      ]
    },
    {
      "cell_type": "markdown",
      "metadata": {
        "id": "iftb0vkynTWx"
      },
      "source": [
        "#### Resize data"
      ]
    },
    {
      "cell_type": "markdown",
      "metadata": {
        "id": "AA4cLN_GuWbx"
      },
      "source": [
        "#### 1- Original data"
      ]
    },
    {
      "cell_type": "code",
      "source": [
        "def get_label(label):\n",
        "  i = 0\n",
        "  if (label == \"ANG\"):\n",
        "    i = 0\n",
        "  elif (label == \"HAP\"):\n",
        "    i = 1\n",
        "  elif (label == \"FEA\"):\n",
        "    i = 2\n",
        "  elif (label == \"NEU\"):\n",
        "    i = 3\n",
        "  elif (label == \"DIS\"):\n",
        "    i = 4\n",
        "  elif (label == \"SAD\"):\n",
        "    i = 5\n",
        "  return i"
      ],
      "metadata": {
        "id": "RPx_tYCUnNwz"
      },
      "execution_count": null,
      "outputs": []
    },
    {
      "cell_type": "code",
      "execution_count": null,
      "metadata": {
        "id": "4AhqnwxoZHKr"
      },
      "outputs": [],
      "source": [
        "def generate_melspec(avg_len):\n",
        "  labels = df[\"Emotion\"]\n",
        "  counter = 0\n",
        "  data = []\n",
        "  label = []\n",
        "\n",
        "  for path in df[\"Path\"]:\n",
        "      samples, sampling_rate = librosa.load(path, sr = 16000, mono = True, offset = 0.0)\n",
        "\n",
        "      if len(samples) > avg_len:  #if length of audio > avg_len, remove the difference\n",
        "          max_offset = len(samples)-avg_len\n",
        "          offset = np.random.randint(max_offset)\n",
        "          samples = samples[offset:(avg_len+offset)]\n",
        "      else:\n",
        "          if avg_len > len(samples): #if length < avg_len, add padding\n",
        "              max_offset = avg_len - len(samples)\n",
        "              offset = np.random.randint(max_offset)\n",
        "          else:  #if equal, do nothing, offset = 0\n",
        "              offset = 0\n",
        "          samples = np.pad(samples, (offset, avg_len - len(samples) - offset), \"constant\") \n",
        "\n",
        "\n",
        "      rbSpec = librosa.feature.melspectrogram(y = samples, sr = sampling_rate) \n",
        "      # Convert amplitudes to dB  \n",
        "      rbSpec = librosa.amplitude_to_db(rbSpec)\n",
        "\n",
        "      i = get_label(labels[counter])\n",
        "\n",
        "      label.append(i)\n",
        "      data.append(rbSpec)\n",
        "      counter+=1\n",
        "  data = np.array(data)\n",
        "  labels = np.array(label)\n",
        "  le = LabelEncoder()\n",
        "  labels = to_categorical(le.fit_transform(labels)) \n",
        "  return data, labels"
      ]
    },
    {
      "cell_type": "markdown",
      "metadata": {
        "id": "KfPuSQoQuaVJ"
      },
      "source": [
        "#### 2- With white noise"
      ]
    },
    {
      "cell_type": "code",
      "execution_count": null,
      "metadata": {
        "id": "LvFrMeQTud4y"
      },
      "outputs": [],
      "source": [
        "def generate_melspec_with_white(avg_len):\n",
        "  labels = df[\"Emotion\"]\n",
        "  counter = 0\n",
        "  data = []\n",
        "  label = []\n",
        "\n",
        "  for path in df[\"Path\"]:\n",
        "      samples, sampling_rate = librosa.load(path, sr = 16000, mono = True, offset = 0.0)\n",
        "      augmented_signal = librosa.effects.time_stretch(samples , .8)\n",
        "\n",
        "      \n",
        "      if len(samples) > avg_len:  #if length of audio > avg_len, remove the difference\n",
        "          max_offset = len(samples)-avg_len\n",
        "          offset = np.random.randint(max_offset)\n",
        "          samples = samples[offset:(avg_len+offset)]\n",
        "      else:\n",
        "          if avg_len > len(samples): #if length < avg_len, add padding\n",
        "              max_offset = avg_len - len(samples)\n",
        "              offset = np.random.randint(max_offset)\n",
        "          else:  #if equal, do nothing, offset = 0\n",
        "              offset = 0\n",
        "          samples = np.pad(samples, (offset, avg_len - len(samples) - offset), \"constant\") \n",
        "\n",
        "\n",
        "      rbSpec = librosa.feature.melspectrogram(y = samples, sr = sampling_rate) \n",
        "      # Convert amplitudes to dB  \n",
        "      rbSpec = librosa.amplitude_to_db(rbSpec)\n",
        "\n",
        "      i = get_label(labels[counter])\n",
        "\n",
        "      label.append(i)\n",
        "      data.append(rbSpec)\n",
        "\n",
        "      #Augumentation: White Noise\n",
        "      if len(augmented_signal) > avg_len:  #if length of audio > avg_len, remove the difference\n",
        "        max_offset = len(augmented_signal)-avg_len\n",
        "        offset = np.random.randint(max_offset)\n",
        "        augmented_signal = augmented_signal[offset:(avg_len+offset)]\n",
        "      else:\n",
        "          if avg_len > len(augmented_signal): #if length < avg_len, add padding\n",
        "              max_offset = avg_len - len(augmented_signal)\n",
        "              offset = np.random.randint(max_offset)\n",
        "          else:  #if equal, do nothing, offset = 0\n",
        "              offset = 0\n",
        "          augmented_signal = np.pad(augmented_signal, (offset, avg_len - len(augmented_signal) - offset), \"constant\") \n",
        "\n",
        "\n",
        "      rbSpec = librosa.feature.melspectrogram(y = augmented_signal, sr = sampling_rate) \n",
        "      # Convert amplitudes to dB  \n",
        "      rbSpec = librosa.amplitude_to_db(rbSpec)\n",
        "\n",
        "\n",
        "      label.append(i)\n",
        "      data.append(rbSpec)\n",
        "\n",
        "      counter+=1\n",
        "      \n",
        "  data = np.array(data)\n",
        "  labels = np.array(label)\n",
        "  le = LabelEncoder()\n",
        "  labels = to_categorical(le.fit_transform(labels)) \n",
        "  return data, labels"
      ]
    },
    {
      "cell_type": "markdown",
      "metadata": {
        "id": "X-5Dai92ufMW"
      },
      "source": [
        "#### 3- With white noise and time stretch"
      ]
    },
    {
      "cell_type": "code",
      "execution_count": null,
      "metadata": {
        "id": "dDoaVwXlun4e"
      },
      "outputs": [],
      "source": [
        "def generate_melspec_with_white_stretch(avg_len):\n",
        "  labels = df[\"Emotion\"]\n",
        "  counter = 0\n",
        "  data = []\n",
        "  label = []\n",
        "\n",
        "  for path in df[\"Path\"]:\n",
        "      samples, sampling_rate = librosa.load(path, sr = None, mono = True, offset = 0.0)\n",
        "      augmented_signal = add_white_noise(samples, 0.1)\n",
        "      aug_samples = pitch_scale(samples, sampling_rate, 2)\n",
        "\n",
        "      if len(samples) > avg_len:  #if length of audio > avg_len, remove the difference\n",
        "          max_offset = len(samples)-avg_len\n",
        "          offset = np.random.randint(max_offset)\n",
        "          samples = samples[offset:(avg_len+offset)]\n",
        "      else:\n",
        "          if avg_len > len(samples): #if length < avg_len, add padding\n",
        "              max_offset = avg_len - len(samples)\n",
        "              offset = np.random.randint(max_offset)\n",
        "          else:  #if equal, do nothing, offset = 0\n",
        "              offset = 0\n",
        "          samples = np.pad(samples, (offset, avg_len - len(samples) - offset), \"constant\") \n",
        "\n",
        "\n",
        "      rbSpec = librosa.feature.melspectrogram(y = samples, sr = sampling_rate) \n",
        "      # Convert amplitudes to dB  \n",
        "      rbSpec = librosa.amplitude_to_db(rbSpec)\n",
        "\n",
        "      i = get_label(labels[counter])\n",
        "\n",
        "      label.append(i)\n",
        "      data.append(rbSpec)\n",
        "\n",
        "      #Augumentation: White Noise\n",
        "      if len(augmented_signal) > avg_len:  #if length of audio > avg_len, remove the difference\n",
        "        max_offset = len(augmented_signal)-avg_len\n",
        "        offset = np.random.randint(max_offset)\n",
        "        augmented_signal = augmented_signal[offset:(avg_len+offset)]\n",
        "      else:\n",
        "          if avg_len > len(augmented_signal): #if length < avg_len, add padding\n",
        "              max_offset = avg_len - len(augmented_signal)\n",
        "              offset = np.random.randint(max_offset)\n",
        "          else:  #if equal, do nothing, offset = 0\n",
        "              offset = 0\n",
        "          augmented_signal = np.pad(augmented_signal, (offset, avg_len - len(augmented_signal) - offset), \"constant\") \n",
        "\n",
        "\n",
        "      rbSpec = librosa.feature.melspectrogram(y = augmented_signal, sr = sampling_rate) \n",
        "      # Convert amplitudes to dB  \n",
        "      rbSpec = librosa.amplitude_to_db(rbSpec)\n",
        "\n",
        "      label.append(i)\n",
        "      data.append(rbSpec)\n",
        "\n",
        "\n",
        "      #Augumentation: Pitch Scale\n",
        "      if len(aug_samples) > avg_len:  #if length of audio > avg_len, remove the difference\n",
        "        max_offset = len(aug_samples)-avg_len\n",
        "        offset = np.random.randint(max_offset)\n",
        "        aug_samples = aug_samples[offset:(avg_len+offset)]\n",
        "      else:\n",
        "          if avg_len > len(aug_samples): #if length < avg_len, add padding\n",
        "              max_offset = avg_len - len(aug_samples)\n",
        "              offset = np.random.randint(max_offset)\n",
        "          else:  #if equal, do nothing, offset = 0\n",
        "              offset = 0\n",
        "          aug_samples = np.pad(aug_samples, (offset, avg_len - len(aug_samples) - offset), \"constant\") \n",
        "\n",
        "      rbSpec = librosa.feature.melspectrogram(y = aug_samples, sr = sampling_rate) \n",
        "      # Convert amplitudes to dB  \n",
        "      rbSpec = librosa.amplitude_to_db(rbSpec)\n",
        "\n",
        "      label.append(i)\n",
        "      data.append(rbSpec)\n",
        "      \n",
        "      counter+=1\n",
        "      \n",
        "  data = np.array(data)\n",
        "  labels = np.array(label)\n",
        "  le = LabelEncoder()\n",
        "  labels = to_categorical(le.fit_transform(labels)) \n",
        "  return data, labels"
      ]
    },
    {
      "cell_type": "markdown",
      "metadata": {
        "id": "F4-Q4BAtw8hk"
      },
      "source": [
        "#### 4- With 3 layers of augmentation"
      ]
    },
    {
      "cell_type": "code",
      "execution_count": null,
      "metadata": {
        "id": "1encQJ2HxFzB"
      },
      "outputs": [],
      "source": [
        "def generate_melspec_with_layers(avg_len):\n",
        "  labels = df[\"Emotion\"]\n",
        "  counter = 0\n",
        "  data = []\n",
        "  label = []\n",
        "\n",
        "  for path in df[\"Path\"]:\n",
        "      samples, sampling_rate = librosa.load(path, sr = None, mono = True, offset = 0.0)\n",
        "      augmented_signal = add_white_noise(samples, 0.1)\n",
        "      aug_samples = pitch_scale(samples, sampling_rate, 2)\n",
        "      augment_samples = librosa.effects.time_stretch(samples , .8)\n",
        "\n",
        "\n",
        "      if len(samples) > avg_len:  #if length of audio > avg_len, remove the difference\n",
        "          max_offset = len(samples)-avg_len\n",
        "          offset = np.random.randint(max_offset)\n",
        "          samples = samples[offset:(avg_len+offset)]\n",
        "      else:\n",
        "          if avg_len > len(samples): #if length < avg_len, add padding\n",
        "              max_offset = avg_len - len(samples)\n",
        "              offset = np.random.randint(max_offset)\n",
        "          else:  #if equal, do nothing, offset = 0\n",
        "              offset = 0\n",
        "          samples = np.pad(samples, (offset, avg_len - len(samples) - offset), \"constant\") \n",
        "\n",
        "\n",
        "      rbSpec = librosa.feature.melspectrogram(y = samples, sr = sampling_rate) \n",
        "      # Convert amplitudes to dB  \n",
        "      rbSpec = librosa.amplitude_to_db(rbSpec)\n",
        "\n",
        "      i = get_label(labels[counter])\n",
        "\n",
        "      label.append(i)\n",
        "      data.append(rbSpec)\n",
        "\n",
        "      #Augumentation: White Noise\n",
        "      if len(augmented_signal) > avg_len:  #if length of audio > avg_len, remove the difference\n",
        "        max_offset = len(augmented_signal)-avg_len\n",
        "        offset = np.random.randint(max_offset)\n",
        "        augmented_signal = augmented_signal[offset:(avg_len+offset)]\n",
        "      else:\n",
        "          if avg_len > len(augmented_signal): #if length < avg_len, add padding\n",
        "              max_offset = avg_len - len(augmented_signal)\n",
        "              offset = np.random.randint(max_offset)\n",
        "          else:  #if equal, do nothing, offset = 0\n",
        "              offset = 0\n",
        "          augmented_signal = np.pad(augmented_signal, (offset, avg_len - len(augmented_signal) - offset), \"constant\") \n",
        "\n",
        "\n",
        "      rbSpec = librosa.feature.melspectrogram(y = augmented_signal, sr = sampling_rate) \n",
        "      # Convert amplitudes to dB  \n",
        "      rbSpec = librosa.amplitude_to_db(rbSpec)\n",
        "\n",
        "      label.append(i)\n",
        "      data.append(rbSpec)\n",
        "\n",
        "\n",
        "      #Augumentation: Pitch Scale\n",
        "      if len(aug_samples) > avg_len:  #if length of audio > avg_len, remove the difference\n",
        "        max_offset = len(aug_samples)-avg_len\n",
        "        offset = np.random.randint(max_offset)\n",
        "        aug_samples = aug_samples[offset:(avg_len+offset)]\n",
        "      else:\n",
        "          if avg_len > len(aug_samples): #if length < avg_len, add padding\n",
        "              max_offset = avg_len - len(aug_samples)\n",
        "              offset = np.random.randint(max_offset)\n",
        "          else:  #if equal, do nothing, offset = 0\n",
        "              offset = 0\n",
        "          aug_samples = np.pad(aug_samples, (offset, avg_len - len(aug_samples) - offset), \"constant\") \n",
        "\n",
        "      rbSpec = librosa.feature.melspectrogram(y = aug_samples, sr = sampling_rate) \n",
        "      # Convert amplitudes to dB  \n",
        "      rbSpec = librosa.amplitude_to_db(rbSpec)\n",
        "\n",
        "      label.append(i)\n",
        "      data.append(rbSpec)\n",
        "\n",
        "      #Augumentation: Time Stretch \n",
        "      if len(augment_samples) > avg_len:  #if length of audio > avg_len, remove the difference\n",
        "        max_offset = len(augment_samples)-avg_len\n",
        "        offset = np.random.randint(max_offset)\n",
        "        augment_samples = augment_samples[offset:(avg_len+offset)]\n",
        "      else:\n",
        "          if avg_len > len(augment_samples): #if length < avg_len, add padding\n",
        "              max_offset = avg_len - len(augment_samples)\n",
        "              offset = np.random.randint(max_offset)\n",
        "          else:  #if equal, do nothing, offset = 0\n",
        "              offset = 0\n",
        "          augment_samples = np.pad(augment_samples, (offset, avg_len - len(augment_samples) - offset), \"constant\") \n",
        "\n",
        "\n",
        "      rbSpec = librosa.feature.melspectrogram(y = augment_samples, sr = sampling_rate) \n",
        "      # Convert amplitudes to dB  \n",
        "      rbSpec = librosa.amplitude_to_db(rbSpec)\n",
        "\n",
        "      label.append(i)\n",
        "      data.append(rbSpec)\n",
        "\n",
        "      counter+=1\n",
        "      \n",
        "  data = np.array(data)\n",
        "  labels = np.array(label)\n",
        "  le = LabelEncoder()\n",
        "  labels = to_categorical(le.fit_transform(labels)) \n",
        "  return data, labels"
      ]
    },
    {
      "cell_type": "markdown",
      "metadata": {
        "id": "oV9LvQBBy-6W"
      },
      "source": [
        "### Data splitting (train - validation - test)\n",
        "\n",
        "---\n",
        "\n"
      ]
    },
    {
      "cell_type": "markdown",
      "metadata": {
        "id": "X5kYtwDVgttr"
      },
      "source": [
        "#### For the first generation way"
      ]
    },
    {
      "cell_type": "code",
      "execution_count": null,
      "metadata": {
        "id": "LY_c8g2w5aXn"
      },
      "outputs": [],
      "source": [
        "datagen = ImageDataGenerator(rescale = 1./255, validation_split = 0.3)\n",
        "\n",
        "train = datagen.flow_from_directory(\"/content/melspec\", target_size = (150, 150), shuffle = True, subset = 'training')\n",
        "\n",
        "test = datagen.flow_from_directory(\"/content/melspec\", target_size = (150,150), shuffle = True, subset = 'validation')"
      ]
    },
    {
      "cell_type": "code",
      "execution_count": null,
      "metadata": {
        "id": "XNsGq4-sATW6"
      },
      "outputs": [],
      "source": [
        "X_train, Y_train = train.next()\n",
        "X_test, Y_test = test.next()\n",
        "X_train, X_validation, Y_train, Y_validation = train_test_split(X_train, Y_train, test_size = 0.05, random_state = 0)"
      ]
    },
    {
      "cell_type": "markdown",
      "metadata": {
        "id": "aQi8wTAgUrk1"
      },
      "source": [
        "#### For the second generation way"
      ]
    },
    {
      "cell_type": "code",
      "execution_count": null,
      "metadata": {
        "id": "WmiNktn8Utjv"
      },
      "outputs": [],
      "source": [
        "def split_data(data, labels):\n",
        "  X_train, X_test, Y_train, Y_test = train_test_split(data, labels, test_size = 0.3, random_state = 0, stratify = labels)\n",
        "  X_train, X_validation, Y_train, Y_validation = train_test_split(X_train, Y_train, test_size = 0.05, random_state = 0)\n",
        "  return X_train, Y_train, X_test, Y_test, X_validation, Y_validation"
      ]
    },
    {
      "cell_type": "markdown",
      "metadata": {
        "id": "xZ0eU1SxhnN7"
      },
      "source": [
        "##Data preparation"
      ]
    },
    {
      "cell_type": "code",
      "execution_count": null,
      "metadata": {
        "id": "a8LYgqvXhlhN"
      },
      "outputs": [],
      "source": [
        "def get_data_2d():\n",
        "  avg_len = get_avg_len()\n",
        "  data, labels = generate_melspec(avg_len)\n",
        "  X_train, Y_train, X_test, Y_test, X_validation, Y_validation = split_data(data, labels)\n",
        "  return X_train, Y_train, X_test, Y_test, X_validation, Y_validation"
      ]
    },
    {
      "cell_type": "code",
      "execution_count": null,
      "metadata": {
        "id": "jVO51neyyj2c"
      },
      "outputs": [],
      "source": [
        "def get_data_2d_white():\n",
        "  avg_len = get_avg_len_with_white()\n",
        "  data, labels = generate_melspec_with_white(avg_len)\n",
        "  X_train, Y_train, X_test, Y_test, X_validation, Y_validation = split_data(data, labels)\n",
        "  return X_train, Y_train, X_test, Y_test, X_validation, Y_validation"
      ]
    },
    {
      "cell_type": "code",
      "execution_count": null,
      "metadata": {
        "id": "3xjt9zCyymgY"
      },
      "outputs": [],
      "source": [
        "def get_data_2d_white_stretch():\n",
        "  avg_len = get_avg_len_with_white_stretch()\n",
        "  data, labels = generate_melspec_with_white_stretch(avg_len)\n",
        "  X_train, Y_train, X_test, Y_test, X_validation, Y_validation = split_data(data, labels)\n",
        "  return X_train, Y_train, X_test, Y_test, X_validation, Y_validation"
      ]
    },
    {
      "cell_type": "code",
      "execution_count": null,
      "metadata": {
        "id": "iIwsyTBiypNJ"
      },
      "outputs": [],
      "source": [
        "def get_data_2d_layers():\n",
        "  avg_len = get_avg_len_with_layers()\n",
        "  data, labels = generate_melspec_with_layers(avg_len)\n",
        "  X_train, Y_train, X_test, Y_test, X_validation, Y_validation = split_data(data, labels)\n",
        "  return X_train, Y_train, X_test, Y_test, X_validation, Y_validation"
      ]
    },
    {
      "cell_type": "markdown",
      "metadata": {
        "id": "aFeidxuzzd_M"
      },
      "source": [
        "## Run for original data"
      ]
    },
    {
      "cell_type": "code",
      "execution_count": null,
      "metadata": {
        "colab": {
          "background_save": true
        },
        "id": "zSg1scSyjHkc"
      },
      "outputs": [],
      "source": [
        "X_train, Y_train, X_test, Y_test, X_validation, Y_validation = get_data_2d()"
      ]
    },
    {
      "cell_type": "markdown",
      "metadata": {
        "id": "JDgts9dczjFp"
      },
      "source": [
        "## Run for data with white noise"
      ]
    },
    {
      "cell_type": "code",
      "execution_count": null,
      "metadata": {
        "id": "HjCxjPnwzmri"
      },
      "outputs": [],
      "source": [
        "X_train, Y_train, X_test, Y_test, X_validation, Y_validation = get_data_2d_white()"
      ]
    },
    {
      "cell_type": "markdown",
      "metadata": {
        "id": "Y1JvBsmDzp09"
      },
      "source": [
        "## Run for data with white noise and time stretch"
      ]
    },
    {
      "cell_type": "code",
      "execution_count": null,
      "metadata": {
        "id": "ZlF4I4w0jb7R"
      },
      "outputs": [],
      "source": [
        "X_train, Y_train, X_test, Y_test, X_validation, Y_validation = get_data_2d_white_stretch()"
      ]
    },
    {
      "cell_type": "markdown",
      "metadata": {
        "id": "getif3FKzwvN"
      },
      "source": [
        "## Run for data with 3 layers of augmentation"
      ]
    },
    {
      "cell_type": "code",
      "execution_count": null,
      "metadata": {
        "id": "yglB7Tu4z1mU"
      },
      "outputs": [],
      "source": [
        "X_train, Y_train, X_test, Y_test, X_validation, Y_validation = get_data_2d_layers()"
      ]
    },
    {
      "cell_type": "markdown",
      "metadata": {
        "id": "f97x_uovr4WZ"
      },
      "source": [
        "# **2D Models**"
      ]
    },
    {
      "cell_type": "markdown",
      "metadata": {
        "id": "GMvpAkh_u7RH"
      },
      "source": [
        "### Model 1 (PDF Model)"
      ]
    },
    {
      "cell_type": "code",
      "execution_count": null,
      "metadata": {
        "id": "4YgfSDcWu8ti"
      },
      "outputs": [],
      "source": [
        "def conv_2d():\n",
        "  model = Sequential()\n",
        "  #first_convolution\n",
        "  model.add(Conv2D(512, (5, 5), padding = 'same', input_shape = (128, 80, 1), strides = (1, 1), activation = 'relu'))\n",
        "  model.add(MaxPooling2D(pool_size = (5, 5), strides = (2)))\n",
        "\n",
        "  #second_convolution\n",
        "  model.add(Conv2D(512, (5, 5), input_shape = (128, 80, 1), padding = 'same', strides = (1, 1), activation = 'relu'))\n",
        "  model.add(MaxPooling2D(pool_size = (5, 5), strides = (2)))\n",
        "\n",
        "  #third_convolution\n",
        "  model.add(Conv2D(128, (5, 5), input_shape = (128, 80, 1), padding ='same', strides = (1, 1), activation = 'relu'))\n",
        "  model.add(MaxPooling2D(pool_size = (5, 5), strides = (2)))\n",
        "\n",
        "  model.add(Flatten())\n",
        "  model.add(Dense(256, activation = 'relu'))\n",
        "\n",
        "  model.add(Dense(6, activation = 'softmax'))\n",
        "  return model"
      ]
    },
    {
      "cell_type": "markdown",
      "metadata": {
        "id": "p0aixbiKu4dm"
      },
      "source": [
        "### Model 2 (Best Model)"
      ]
    },
    {
      "cell_type": "markdown",
      "source": [
        ""
      ],
      "metadata": {
        "id": "ILYIN2DeseM_"
      }
    },
    {
      "cell_type": "code",
      "execution_count": null,
      "metadata": {
        "id": "YX_ylt8j1iR_"
      },
      "outputs": [],
      "source": [
        "def conv_2d():\n",
        "  model = tf.keras.models.Sequential([\n",
        "      #first_convolution\n",
        "      tf.keras.layers.Conv2D(16, (3, 3), activation = 'relu', input_shape = (128, 80, 1)),\n",
        "      tf.keras.layers.MaxPooling2D(2, 2),\n",
        "      #second_convolution\n",
        "      tf.keras.layers.Conv2D(32, (3, 3), activation = 'relu'),\n",
        "      tf.keras.layers.MaxPooling2D(2,2),\n",
        "      #third_convolution\n",
        "      tf.keras.layers.Conv2D(64, (3, 3), activation = 'relu'),\n",
        "      tf.keras.layers.MaxPooling2D(2, 2),\n",
        "      #fourth_convolution\n",
        "      tf.keras.layers.Conv2D(64, (3, 3), activation = 'relu'),\n",
        "      tf.keras.layers.MaxPooling2D(2, 2),\n",
        "      tf.keras.layers.Flatten(),\n",
        "      tf.keras.layers.Dropout(0.5),\n",
        "      tf.keras.layers.Dense(256, activation = 'relu'),\n",
        "      tf.keras.layers.Dense(6, activation = 'softmax') \n",
        "  ]) \n",
        "  return model"
      ]
    },
    {
      "cell_type": "markdown",
      "metadata": {
        "id": "c_Ny_SpRFKlZ"
      },
      "source": [
        "### Model 3"
      ]
    },
    {
      "cell_type": "code",
      "execution_count": null,
      "metadata": {
        "id": "1jx-3uE1CyKL"
      },
      "outputs": [],
      "source": [
        "def conv_2d():\n",
        "  CNN_model = Sequential()\n",
        "\n",
        "  CNN_model.add(layers.Conv2D(16, (5, 5), padding='same',\n",
        "                  input_shape=(128,80,1), activation='relu'))\n",
        "\n",
        "  CNN_model.add(layers.Conv2D(32, (5, 5),padding='same',activation='relu'))\n",
        "\n",
        "  CNN_model.add(layers.Conv2D(64, (5, 5),padding='same',activation='relu'))\n",
        "\n",
        "  CNN_model.add(layers.Conv2D(128, (5, 5),padding='same',activation='relu'))\n",
        "\n",
        "  CNN_model.add(layers.Dropout(0.1))\n",
        "\n",
        "  CNN_model.add(layers.Flatten())\n",
        "\n",
        "  CNN_model.add(layers.Dense(128, activation ='relu'))\n",
        "  CNN_model.add(layers.Dropout(0.1))\n",
        "  CNN_model.add(layers.Dense(256, activation ='relu'))\n",
        "  CNN_model.add(layers.Dense(6, activation='softmax'))\n",
        "  CNN_model.compile(loss = 'categorical_crossentropy',\n",
        "                  optimizer = 'Adam',\n",
        "                  metrics = ['accuracy'])\n",
        "  CNN_model.summary()\n",
        "\n",
        "  return CNN_model"
      ]
    },
    {
      "cell_type": "markdown",
      "metadata": {
        "id": "YXoRUj9tycww"
      },
      "source": [
        "### Run Model"
      ]
    },
    {
      "cell_type": "code",
      "execution_count": null,
      "metadata": {
        "colab": {
          "background_save": true,
          "base_uri": "https://localhost:8080/"
        },
        "id": "xo8kjqnQyiyI",
        "outputId": "bdbb2df6-9ec9-426c-cf25-e0dd74b6d839"
      },
      "outputs": [
        {
          "name": "stdout",
          "output_type": "stream",
          "text": [
            "Epoch 1/100\n",
            "155/155 [==============================] - 59s 375ms/step - loss: 1.6112 - accuracy: 0.3357 - val_loss: 1.4869 - val_accuracy: 0.3985\n",
            "Epoch 2/100\n",
            "155/155 [==============================] - 35s 228ms/step - loss: 1.4595 - accuracy: 0.3921 - val_loss: 1.3914 - val_accuracy: 0.4483\n",
            "Epoch 3/100\n",
            "155/155 [==============================] - 37s 240ms/step - loss: 1.4144 - accuracy: 0.4212 - val_loss: 1.3887 - val_accuracy: 0.4215\n",
            "Epoch 4/100\n",
            "155/155 [==============================] - 36s 230ms/step - loss: 1.3696 - accuracy: 0.4404 - val_loss: 1.3830 - val_accuracy: 0.4713\n",
            "Epoch 5/100\n",
            "155/155 [==============================] - 37s 239ms/step - loss: 1.3213 - accuracy: 0.4648 - val_loss: 1.3143 - val_accuracy: 0.4828\n",
            "Epoch 6/100\n",
            "155/155 [==============================] - 35s 228ms/step - loss: 1.2959 - accuracy: 0.4804 - val_loss: 1.2716 - val_accuracy: 0.5211\n",
            "Epoch 7/100\n",
            "155/155 [==============================] - 35s 229ms/step - loss: 1.2528 - accuracy: 0.5038 - val_loss: 1.1948 - val_accuracy: 0.5364\n",
            "Epoch 8/100\n",
            "155/155 [==============================] - 36s 230ms/step - loss: 1.2203 - accuracy: 0.5123 - val_loss: 1.3001 - val_accuracy: 0.4713\n",
            "Epoch 9/100\n",
            "155/155 [==============================] - 35s 228ms/step - loss: 1.1852 - accuracy: 0.5301 - val_loss: 1.1722 - val_accuracy: 0.5479\n",
            "Epoch 10/100\n",
            "155/155 [==============================] - 35s 227ms/step - loss: 1.1476 - accuracy: 0.5532 - val_loss: 1.1983 - val_accuracy: 0.5096\n",
            "Epoch 11/100\n",
            "155/155 [==============================] - 35s 227ms/step - loss: 1.0914 - accuracy: 0.5707 - val_loss: 1.1313 - val_accuracy: 0.5747\n",
            "Epoch 12/100\n",
            "155/155 [==============================] - 35s 228ms/step - loss: 1.0565 - accuracy: 0.5861 - val_loss: 1.1665 - val_accuracy: 0.5364\n",
            "Epoch 13/100\n",
            "155/155 [==============================] - 38s 245ms/step - loss: 1.0204 - accuracy: 0.6047 - val_loss: 1.1850 - val_accuracy: 0.5287\n",
            "Epoch 14/100\n",
            "155/155 [==============================] - 35s 228ms/step - loss: 0.9592 - accuracy: 0.6346 - val_loss: 1.2105 - val_accuracy: 0.5441\n",
            "Epoch 15/100\n",
            "155/155 [==============================] - 35s 226ms/step - loss: 0.9253 - accuracy: 0.6504 - val_loss: 1.1691 - val_accuracy: 0.5670\n",
            "Epoch 16/100\n",
            "155/155 [==============================] - 35s 223ms/step - loss: 0.8747 - accuracy: 0.6671 - val_loss: 1.2384 - val_accuracy: 0.5479\n",
            "Epoch 17/100\n",
            "155/155 [==============================] - 34s 222ms/step - loss: 0.8248 - accuracy: 0.6926 - val_loss: 1.2161 - val_accuracy: 0.5670\n",
            "Epoch 18/100\n",
            "155/155 [==============================] - 34s 221ms/step - loss: 0.7835 - accuracy: 0.6997 - val_loss: 1.2461 - val_accuracy: 0.5364\n",
            "Epoch 19/100\n",
            "155/155 [==============================] - 34s 222ms/step - loss: 0.7399 - accuracy: 0.7096 - val_loss: 1.2832 - val_accuracy: 0.5096\n",
            "Epoch 20/100\n",
            "155/155 [==============================] - 35s 223ms/step - loss: 0.7026 - accuracy: 0.7363 - val_loss: 1.3451 - val_accuracy: 0.5364\n",
            "Epoch 21/100\n",
            "155/155 [==============================] - 34s 222ms/step - loss: 0.6509 - accuracy: 0.7565 - val_loss: 1.3199 - val_accuracy: 0.5402\n",
            "Epoch 22/100\n",
            "155/155 [==============================] - 34s 221ms/step - loss: 0.6135 - accuracy: 0.7656 - val_loss: 1.4012 - val_accuracy: 0.5096\n",
            "Epoch 23/100\n",
            "155/155 [==============================] - 34s 222ms/step - loss: 0.5645 - accuracy: 0.7815 - val_loss: 1.5131 - val_accuracy: 0.5134\n",
            "Epoch 24/100\n",
            "155/155 [==============================] - 34s 222ms/step - loss: 0.5576 - accuracy: 0.7922 - val_loss: 1.4820 - val_accuracy: 0.5402\n",
            "Epoch 25/100\n",
            "155/155 [==============================] - 34s 221ms/step - loss: 0.5358 - accuracy: 0.7975 - val_loss: 1.4549 - val_accuracy: 0.5019\n",
            "Epoch 26/100\n",
            "155/155 [==============================] - 34s 222ms/step - loss: 0.5141 - accuracy: 0.8015 - val_loss: 1.3761 - val_accuracy: 0.5441\n",
            "Epoch 27/100\n",
            "155/155 [==============================] - 34s 222ms/step - loss: 0.4448 - accuracy: 0.8385 - val_loss: 1.4250 - val_accuracy: 0.5134\n",
            "Epoch 28/100\n",
            "155/155 [==============================] - 34s 222ms/step - loss: 0.4419 - accuracy: 0.8375 - val_loss: 1.4911 - val_accuracy: 0.5287\n",
            "Epoch 29/100\n",
            "155/155 [==============================] - 34s 221ms/step - loss: 0.4331 - accuracy: 0.8381 - val_loss: 1.4661 - val_accuracy: 0.5326\n",
            "Epoch 30/100\n",
            "155/155 [==============================] - 34s 221ms/step - loss: 0.3942 - accuracy: 0.8591 - val_loss: 1.5772 - val_accuracy: 0.5019\n",
            "Epoch 31/100\n",
            "155/155 [==============================] - 34s 221ms/step - loss: 0.3867 - accuracy: 0.8630 - val_loss: 1.5899 - val_accuracy: 0.5441\n",
            "Epoch 32/100\n",
            "155/155 [==============================] - 34s 222ms/step - loss: 0.3891 - accuracy: 0.8579 - val_loss: 1.5938 - val_accuracy: 0.5364\n",
            "Epoch 33/100\n",
            "155/155 [==============================] - 36s 230ms/step - loss: 0.3505 - accuracy: 0.8709 - val_loss: 1.6054 - val_accuracy: 0.5326\n",
            "Epoch 34/100\n",
            "155/155 [==============================] - 36s 232ms/step - loss: 0.3435 - accuracy: 0.8773 - val_loss: 1.5687 - val_accuracy: 0.5364\n",
            "Epoch 35/100\n",
            "155/155 [==============================] - 35s 223ms/step - loss: 0.3559 - accuracy: 0.8690 - val_loss: 1.6457 - val_accuracy: 0.5287\n",
            "Epoch 36/100\n",
            "155/155 [==============================] - 35s 225ms/step - loss: 0.3250 - accuracy: 0.8816 - val_loss: 1.6590 - val_accuracy: 0.5441\n",
            "Epoch 37/100\n",
            "155/155 [==============================] - 35s 227ms/step - loss: 0.3116 - accuracy: 0.8895 - val_loss: 1.7100 - val_accuracy: 0.5517\n",
            "Epoch 38/100\n",
            "155/155 [==============================] - 35s 225ms/step - loss: 0.2907 - accuracy: 0.8953 - val_loss: 1.7385 - val_accuracy: 0.5211\n",
            "Epoch 39/100\n",
            "155/155 [==============================] - 35s 227ms/step - loss: 0.3118 - accuracy: 0.8886 - val_loss: 1.8485 - val_accuracy: 0.4981\n",
            "Epoch 40/100\n",
            "155/155 [==============================] - 35s 226ms/step - loss: 0.2927 - accuracy: 0.8959 - val_loss: 1.7298 - val_accuracy: 0.5517\n",
            "Epoch 41/100\n",
            "155/155 [==============================] - 35s 227ms/step - loss: 0.2597 - accuracy: 0.9097 - val_loss: 1.8386 - val_accuracy: 0.5326\n",
            "Epoch 42/100\n",
            "155/155 [==============================] - 35s 225ms/step - loss: 0.2730 - accuracy: 0.9020 - val_loss: 1.9366 - val_accuracy: 0.5057\n",
            "Epoch 43/100\n",
            "155/155 [==============================] - 35s 226ms/step - loss: 0.2665 - accuracy: 0.9093 - val_loss: 1.8783 - val_accuracy: 0.5172\n",
            "Epoch 44/100\n",
            "155/155 [==============================] - 35s 227ms/step - loss: 0.2865 - accuracy: 0.8983 - val_loss: 1.8863 - val_accuracy: 0.4636\n",
            "Epoch 45/100\n",
            "155/155 [==============================] - 35s 227ms/step - loss: 0.2393 - accuracy: 0.9125 - val_loss: 1.9530 - val_accuracy: 0.4943\n",
            "Epoch 46/100\n",
            "155/155 [==============================] - 35s 225ms/step - loss: 0.2412 - accuracy: 0.9175 - val_loss: 2.0557 - val_accuracy: 0.4789\n",
            "Epoch 47/100\n",
            "155/155 [==============================] - 34s 222ms/step - loss: 0.2399 - accuracy: 0.9169 - val_loss: 2.1256 - val_accuracy: 0.4866\n",
            "Epoch 48/100\n",
            "155/155 [==============================] - 34s 223ms/step - loss: 0.2465 - accuracy: 0.9135 - val_loss: 1.9015 - val_accuracy: 0.4866\n",
            "Epoch 49/100\n",
            "155/155 [==============================] - 34s 222ms/step - loss: 0.2246 - accuracy: 0.9224 - val_loss: 1.9753 - val_accuracy: 0.4483\n",
            "Epoch 50/100\n",
            "155/155 [==============================] - 34s 222ms/step - loss: 0.2378 - accuracy: 0.9135 - val_loss: 2.1024 - val_accuracy: 0.4866\n",
            "Epoch 51/100\n",
            "155/155 [==============================] - 34s 223ms/step - loss: 0.2439 - accuracy: 0.9131 - val_loss: 1.9268 - val_accuracy: 0.4904\n",
            "Epoch 52/100\n",
            "155/155 [==============================] - 34s 222ms/step - loss: 0.2352 - accuracy: 0.9157 - val_loss: 1.8437 - val_accuracy: 0.5096\n",
            "Epoch 53/100\n",
            "155/155 [==============================] - 34s 222ms/step - loss: 0.1996 - accuracy: 0.9256 - val_loss: 1.8574 - val_accuracy: 0.5172\n",
            "Epoch 54/100\n",
            "155/155 [==============================] - 35s 224ms/step - loss: 0.2308 - accuracy: 0.9202 - val_loss: 2.0226 - val_accuracy: 0.4943\n",
            "Epoch 55/100\n",
            "155/155 [==============================] - 34s 222ms/step - loss: 0.2152 - accuracy: 0.9234 - val_loss: 1.9447 - val_accuracy: 0.5364\n",
            "Epoch 56/100\n",
            "155/155 [==============================] - 34s 222ms/step - loss: 0.2256 - accuracy: 0.9224 - val_loss: 1.9177 - val_accuracy: 0.5172\n",
            "Epoch 57/100\n",
            "155/155 [==============================] - 34s 223ms/step - loss: 0.2104 - accuracy: 0.9274 - val_loss: 2.1604 - val_accuracy: 0.5172\n",
            "Epoch 58/100\n",
            "155/155 [==============================] - 35s 223ms/step - loss: 0.1909 - accuracy: 0.9363 - val_loss: 2.0578 - val_accuracy: 0.5249\n",
            "Epoch 59/100\n",
            "155/155 [==============================] - 34s 222ms/step - loss: 0.2081 - accuracy: 0.9258 - val_loss: 1.9331 - val_accuracy: 0.5287\n",
            "Epoch 60/100\n",
            "155/155 [==============================] - 34s 222ms/step - loss: 0.2215 - accuracy: 0.9266 - val_loss: 2.1343 - val_accuracy: 0.5019\n",
            "Epoch 61/100\n",
            "155/155 [==============================] - 34s 222ms/step - loss: 0.1985 - accuracy: 0.9315 - val_loss: 2.1340 - val_accuracy: 0.5019\n",
            "Epoch 62/100\n",
            "155/155 [==============================] - 34s 222ms/step - loss: 0.1703 - accuracy: 0.9414 - val_loss: 2.2419 - val_accuracy: 0.5057\n",
            "Epoch 63/100\n",
            "155/155 [==============================] - 35s 224ms/step - loss: 0.1716 - accuracy: 0.9386 - val_loss: 2.1317 - val_accuracy: 0.5249\n",
            "Epoch 64/100\n",
            "155/155 [==============================] - 35s 223ms/step - loss: 0.1773 - accuracy: 0.9390 - val_loss: 2.3176 - val_accuracy: 0.4789\n",
            "Epoch 65/100\n",
            "155/155 [==============================] - 35s 224ms/step - loss: 0.2242 - accuracy: 0.9240 - val_loss: 2.2345 - val_accuracy: 0.4751\n",
            "Epoch 66/100\n",
            "155/155 [==============================] - 35s 223ms/step - loss: 0.2222 - accuracy: 0.9264 - val_loss: 1.9480 - val_accuracy: 0.5364\n",
            "Epoch 67/100\n",
            "155/155 [==============================] - 34s 223ms/step - loss: 0.2036 - accuracy: 0.9281 - val_loss: 1.9502 - val_accuracy: 0.5517\n",
            "Epoch 68/100\n",
            "155/155 [==============================] - 35s 224ms/step - loss: 0.2138 - accuracy: 0.9281 - val_loss: 2.1537 - val_accuracy: 0.5172\n",
            "Epoch 69/100\n",
            "155/155 [==============================] - 35s 223ms/step - loss: 0.1673 - accuracy: 0.9446 - val_loss: 2.1041 - val_accuracy: 0.5096\n",
            "Epoch 70/100\n",
            "155/155 [==============================] - 34s 222ms/step - loss: 0.1963 - accuracy: 0.9325 - val_loss: 2.2315 - val_accuracy: 0.4904\n",
            "Epoch 71/100\n",
            "155/155 [==============================] - 35s 223ms/step - loss: 0.1927 - accuracy: 0.9319 - val_loss: 2.0986 - val_accuracy: 0.4828\n",
            "Epoch 72/100\n",
            "155/155 [==============================] - 35s 224ms/step - loss: 0.1547 - accuracy: 0.9458 - val_loss: 2.2759 - val_accuracy: 0.5287\n",
            "Epoch 73/100\n",
            "155/155 [==============================] - 35s 224ms/step - loss: 0.1815 - accuracy: 0.9363 - val_loss: 2.2379 - val_accuracy: 0.4751\n",
            "Epoch 74/100\n",
            "155/155 [==============================] - 35s 223ms/step - loss: 0.1745 - accuracy: 0.9402 - val_loss: 2.4023 - val_accuracy: 0.4981\n",
            "Epoch 75/100\n",
            "155/155 [==============================] - 35s 223ms/step - loss: 0.1548 - accuracy: 0.9479 - val_loss: 2.2532 - val_accuracy: 0.5172\n",
            "Epoch 76/100\n",
            "155/155 [==============================] - 34s 223ms/step - loss: 0.1851 - accuracy: 0.9384 - val_loss: 2.1072 - val_accuracy: 0.5364\n",
            "Epoch 77/100\n",
            "155/155 [==============================] - 35s 223ms/step - loss: 0.1803 - accuracy: 0.9416 - val_loss: 2.1869 - val_accuracy: 0.5172\n",
            "Epoch 78/100\n",
            "155/155 [==============================] - 35s 223ms/step - loss: 0.1741 - accuracy: 0.9450 - val_loss: 2.1977 - val_accuracy: 0.5134\n",
            "Epoch 79/100\n",
            "155/155 [==============================] - 35s 224ms/step - loss: 0.1675 - accuracy: 0.9432 - val_loss: 2.1550 - val_accuracy: 0.5249\n",
            "Epoch 80/100\n",
            "155/155 [==============================] - 35s 224ms/step - loss: 0.1929 - accuracy: 0.9351 - val_loss: 2.2664 - val_accuracy: 0.4866\n",
            "Epoch 81/100\n",
            "155/155 [==============================] - 35s 224ms/step - loss: 0.1598 - accuracy: 0.9466 - val_loss: 2.2316 - val_accuracy: 0.4981\n",
            "Epoch 82/100\n",
            "155/155 [==============================] - 35s 224ms/step - loss: 0.1990 - accuracy: 0.9291 - val_loss: 2.2425 - val_accuracy: 0.4904\n",
            "Epoch 83/100\n",
            "155/155 [==============================] - 35s 223ms/step - loss: 0.1883 - accuracy: 0.9365 - val_loss: 2.2561 - val_accuracy: 0.4904\n",
            "Epoch 84/100\n",
            "155/155 [==============================] - 35s 223ms/step - loss: 0.1541 - accuracy: 0.9452 - val_loss: 2.1887 - val_accuracy: 0.5172\n",
            "Epoch 85/100\n",
            "155/155 [==============================] - 35s 223ms/step - loss: 0.1524 - accuracy: 0.9493 - val_loss: 2.2299 - val_accuracy: 0.4789\n",
            "Epoch 86/100\n",
            "155/155 [==============================] - 34s 222ms/step - loss: 0.1572 - accuracy: 0.9479 - val_loss: 2.3929 - val_accuracy: 0.5019\n",
            "Epoch 87/100\n",
            "155/155 [==============================] - 35s 223ms/step - loss: 0.1671 - accuracy: 0.9416 - val_loss: 2.2484 - val_accuracy: 0.5211\n",
            "Epoch 88/100\n",
            "155/155 [==============================] - 35s 224ms/step - loss: 0.1550 - accuracy: 0.9491 - val_loss: 2.3466 - val_accuracy: 0.4866\n",
            "Epoch 89/100\n",
            "155/155 [==============================] - 35s 224ms/step - loss: 0.1800 - accuracy: 0.9373 - val_loss: 2.3448 - val_accuracy: 0.4904\n",
            "Epoch 90/100\n",
            "155/155 [==============================] - 35s 223ms/step - loss: 0.1969 - accuracy: 0.9359 - val_loss: 2.3198 - val_accuracy: 0.5172\n",
            "Epoch 91/100\n",
            "155/155 [==============================] - 35s 224ms/step - loss: 0.1824 - accuracy: 0.9384 - val_loss: 2.3658 - val_accuracy: 0.4598\n",
            "Epoch 92/100\n",
            "155/155 [==============================] - 35s 224ms/step - loss: 0.1791 - accuracy: 0.9396 - val_loss: 2.2804 - val_accuracy: 0.4904\n",
            "Epoch 93/100\n",
            "155/155 [==============================] - 35s 223ms/step - loss: 0.1430 - accuracy: 0.9511 - val_loss: 2.2924 - val_accuracy: 0.4828\n",
            "Epoch 94/100\n",
            "155/155 [==============================] - 35s 225ms/step - loss: 0.1480 - accuracy: 0.9493 - val_loss: 2.3463 - val_accuracy: 0.4866\n",
            "Epoch 95/100\n",
            "155/155 [==============================] - 35s 224ms/step - loss: 0.1351 - accuracy: 0.9541 - val_loss: 2.3909 - val_accuracy: 0.5096\n",
            "Epoch 96/100\n",
            "155/155 [==============================] - 35s 223ms/step - loss: 0.1360 - accuracy: 0.9559 - val_loss: 2.4390 - val_accuracy: 0.4789\n",
            "Epoch 97/100\n",
            "155/155 [==============================] - 35s 223ms/step - loss: 0.1828 - accuracy: 0.9440 - val_loss: 2.3118 - val_accuracy: 0.4713\n",
            "Epoch 98/100\n",
            "155/155 [==============================] - 35s 223ms/step - loss: 0.1760 - accuracy: 0.9432 - val_loss: 2.2828 - val_accuracy: 0.5287\n",
            "Epoch 99/100\n",
            "155/155 [==============================] - 35s 223ms/step - loss: 0.1603 - accuracy: 0.9446 - val_loss: 2.3255 - val_accuracy: 0.5249\n",
            "Epoch 100/100\n",
            "155/155 [==============================] - 34s 222ms/step - loss: 0.1533 - accuracy: 0.9501 - val_loss: 2.4619 - val_accuracy: 0.4751\n"
          ]
        },
        {
          "data": {
            "text/plain": [
              "<keras.callbacks.History at 0x7fdf6d449850>"
            ]
          },
          "execution_count": null,
          "metadata": {},
          "output_type": "execute_result"
        }
      ],
      "source": [
        "model = conv_2d2()\n",
        "model.compile(loss = 'categorical_crossentropy', optimizer = 'adam', metrics = ['accuracy'])\n",
        "model.fit(X_train, Y_train, batch_size = 32, epochs = 100, validation_data = (X_validation, Y_validation))"
      ]
    },
    {
      "cell_type": "markdown",
      "metadata": {
        "id": "vLndAdbXCmo5"
      },
      "source": [
        "# Audio Feature Extraction "
      ]
    },
    {
      "cell_type": "markdown",
      "metadata": {
        "id": "6pvbE1lJnhs3"
      },
      "source": [
        "Load sample audio file"
      ]
    },
    {
      "cell_type": "code",
      "execution_count": null,
      "metadata": {
        "colab": {
          "base_uri": "https://localhost:8080/"
        },
        "id": "IxJUqXgah7T2",
        "outputId": "5108c3f6-bdda-474a-cc52-8a6b45fbdef2"
      },
      "outputs": [
        {
          "data": {
            "text/plain": [
              "(36409, 16000)"
            ]
          },
          "execution_count": 6,
          "metadata": {},
          "output_type": "execute_result"
        }
      ],
      "source": [
        "file_path = PATH + \"1001_DFA_ANG_XX.wav\"\n",
        "samples, sampling_rate = librosa.load(file_path, sr = None, mono = True, \n",
        "                                      offset = 0.0, duration = None)\n",
        "len(samples), sampling_rate"
      ]
    },
    {
      "cell_type": "code",
      "execution_count": null,
      "metadata": {
        "colab": {
          "base_uri": "https://localhost:8080/"
        },
        "id": "L2aZp_Q8iOAL",
        "outputId": "610303dd-df79-4700-9237-54fda52be682"
      },
      "outputs": [
        {
          "name": "stdout",
          "output_type": "stream",
          "text": [
            "2.2755625  seconds\n"
          ]
        }
      ],
      "source": [
        "duration_of_sound = len(samples) / sampling_rate\n",
        "print (duration_of_sound, \" seconds\")"
      ]
    },
    {
      "cell_type": "markdown",
      "metadata": {
        "id": "93cZkB6hdssw"
      },
      "source": [
        "  Display the raw waveform (time domain)"
      ]
    },
    {
      "cell_type": "code",
      "execution_count": null,
      "metadata": {
        "id": "t5DubjTKb3BM"
      },
      "outputs": [],
      "source": [
        "def plot_time_wave():\n",
        "  plt.figure()\n",
        "  librosa.display.waveplot(y = samples, sr = sampling_rate)\n",
        "  plt.xlabel(\"Time (seconds) -->\")\n",
        "  plt.ylabel(\"Amplitude\")\n",
        "  return plt.show()"
      ]
    },
    {
      "cell_type": "markdown",
      "metadata": {
        "id": "3G05__o4o-Zo"
      },
      "source": [
        "  Display the raw waveform (frequency domain)"
      ]
    },
    {
      "cell_type": "code",
      "execution_count": null,
      "metadata": {
        "id": "LPmcMh0Ceogr"
      },
      "outputs": [],
      "source": [
        "def plot_freq_wave(): \n",
        "  n = len(samples)\n",
        "  T = 1/sampling_rate \n",
        "  yf = scipy.fft(samples) \n",
        "  xf = np.linspace(0.0, 1.0//(2.0*T), n//2) \n",
        "  fig, ax = plt.subplots() \n",
        "  ax.plot(xf, 2.0/n * np.abs(yf[:n//2])) \n",
        "  plt.grid() \n",
        "  plt.xlabel(\"Frequency -->\") \n",
        "  plt.ylabel(\"Magnitude\") \n",
        "  return plt.show() "
      ]
    },
    {
      "cell_type": "code",
      "execution_count": null,
      "metadata": {
        "id": "Cqvt5hKmj_01"
      },
      "outputs": [],
      "source": [
        "plot_time_wave()"
      ]
    },
    {
      "cell_type": "code",
      "execution_count": null,
      "metadata": {
        "id": "n5Wp6-zEnVNs"
      },
      "outputs": [],
      "source": [
        "plot_freq_wave()"
      ]
    },
    {
      "cell_type": "code",
      "execution_count": null,
      "metadata": {
        "colab": {
          "base_uri": "https://localhost:8080/",
          "height": 76
        },
        "id": "zequFX7ndrbH",
        "outputId": "32109229-3465-4987-decd-f5d4c8d86ec1"
      },
      "outputs": [
        {
          "data": {
            "text/html": [
              "\n",
              "                <audio controls=\"controls\" >\n",
              "                    <source src=\"data:audio/x-wav;base64,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\" type=\"audio/x-wav\" />\n",
              "                    Your browser does not support the audio element.\n",
              "                </audio>\n",
              "              "
            ],
            "text/plain": [
              "<IPython.lib.display.Audio object>"
            ]
          },
          "execution_count": 3,
          "metadata": {},
          "output_type": "execute_result"
        }
      ],
      "source": [
        "# Hear the audio\n",
        "Audio('h_1.wav')"
      ]
    },
    {
      "cell_type": "code",
      "execution_count": null,
      "metadata": {
        "id": "Z3zsuPrdYFkE"
      },
      "outputs": [],
      "source": [
        "zcrs = librosa.feature.zero_crossing_rate(samples)\n",
        "plt.figure(figsize=(14, 5))\n",
        "plt.plot(zcrs[0])"
      ]
    },
    {
      "cell_type": "code",
      "execution_count": null,
      "metadata": {
        "id": "pGLUcU5ab8uE"
      },
      "outputs": [],
      "source": [
        "S, phase = librosa.magphase(librosa.stft(samples))\n",
        "rms = librosa.feature.rms(S=S)\n",
        "times = librosa.times_like(rms)\n",
        "times\n",
        "\n",
        "#librosa.feature.rms(debussy, frame_length=FRAME_SIZE, hop_length=HOP_LENGTH)[0]"
      ]
    },
    {
      "cell_type": "code",
      "execution_count": null,
      "metadata": {
        "id": "gRDdfKe-dFg0"
      },
      "outputs": [],
      "source": [
        "mel_spectrogram = librosa.feature.melspectrogram(samples, sr=sampling_rate, n_fft=2048, hop_length=512, n_mels=10)\n",
        "mel_spectrogram.shape\n",
        "log_mel_spectrogram = librosa.power_to_db(mel_spectrogram)\n",
        "log_mel_spectrogram.shape\n",
        "plt.figure(figsize=(25, 10))\n",
        "librosa.display.specshow(log_mel_spectrogram, \n",
        "                         x_axis=\"time\",\n",
        "                         y_axis=\"mel\", \n",
        "                         sr=sampling_rate)\n",
        "plt.colorbar(format=\"%+2.f\")\n",
        "plt.show()\n",
        "#log_mel_spectrogram"
      ]
    }
  ],
  "metadata": {
    "accelerator": "GPU",
    "colab": {
      "collapsed_sections": [
        "fqDHfcasCTyq",
        "vLndAdbXCmo5",
        "KSTii0dIDq7P",
        "w9XCKSvDhnVk",
        "rzYq_GcxnnZJ",
        "M6LUZ4iunvvO",
        "rt8z3hy6zdS3",
        "8NBol05DDU0z",
        "HKyLJU0Eg1S-",
        "UoltDZn0hqqP",
        "rYdQ3okggpyy",
        "gia9vgSPy6Ts",
        "cOmw59OUy-I4",
        "WExEmktvzKl7",
        "t6QNOgbdDzs6"
      ],
      "name": "Speech Emotion Recognition.ipynb",
      "provenance": [],
      "authorship_tag": "ABX9TyOMdWuM9jPTAJjsZcEt78Ic",
      "include_colab_link": true
    },
    "kernelspec": {
      "display_name": "Python 3",
      "name": "python3"
    },
    "language_info": {
      "name": "python"
    }
  },
  "nbformat": 4,
  "nbformat_minor": 0
}